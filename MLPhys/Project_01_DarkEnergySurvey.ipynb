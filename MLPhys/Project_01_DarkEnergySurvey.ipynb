{
  "cells": [
    {
      "cell_type": "markdown",
      "metadata": {
        "id": "V5ppSGgISDAy"
      },
      "source": [
        "# Dark Energy Survey"
      ]
    },
    {
      "cell_type": "markdown",
      "metadata": {},
      "source": [
        "<img src=\"https://raw.githubusercontent.com/illinois-ipaml/MachineLearningForPhysics/main/img/Project_DES-Figure.jpg\" width=500 align=left></img><br>"
      ]
    },
    {
      "cell_type": "markdown",
      "metadata": {
        "id": "1jeD_lEeqLBh"
      },
      "source": [
        "## <span style=\"color:Orange\">Overview</span>\n",
        "\n",
        "The standard model of the universe, the $Λ$-CDM model, estimates that around 70% of the total energy-matter density of the universe is in the form of dark energy. The primary effect of dark energy is to acceleratingly expand the universe, hence measuring it accurately is vital to our understanding of the universe.\n",
        "\n",
        "The Dark Energy Survey (DES) is an internationally collaborative large sky survey to map hundreds of millions of galaxies, detect thousands of supernovae, and find patterns of cosmic structure to better understand dark energy and the measure the cosmic acceleration of our expanding universe with high precision.\n",
        "\n",
        "The instrument used by DES is the Dark Energy Camera (DECam), which is mounted on the Victor M. Blanco 4-meter Telescope at the Cerro Tololo Inter-American Observatory (CTIO) in the Chilean Andes. DECam has several major components: five optical lenses, a Hexapod positioning and alignment system, a shutter, a set of color filters, and a digital imager."
      ]
    },
    {
      "cell_type": "markdown",
      "metadata": {
        "id": "SprcSrHttoNZ"
      },
      "source": [
        "## <span style=\"color:Orange\">Data Sources</span>\n",
        "\n",
        "This project is based on the Data Release 1 (DR1) of the DES. We will use the `des_dr1.main` table directly from NOIRLAB's Astro Data Lab server which catalogs the DES data releases.\n",
        "\n",
        "NOIRLAB's Astro Data Lab: https://datalab.noirlab.edu/des/access.php"
      ]
    },
    {
      "cell_type": "markdown",
      "metadata": {
        "id": "Vdwb8eSyOvac"
      },
      "source": [
        "## <span style=\"color:Orange\">Importing and Setup</span>\n",
        "\n",
        "You will need to install and import the `astro-datalab` module for data acquisition.\n",
        "\n",
        "Please note, you will have to restart runtime to run your code after pip installing the `astro-datalab` module."
      ]
    },
    {
      "cell_type": "code",
      "execution_count": 21,
      "metadata": {
        "id": "0UBSoU8nO567"
      },
      "outputs": [],
      "source": [
        "import numpy as np\n",
        "import pandas as pd\n",
        "import matplotlib\n",
        "import matplotlib.pyplot as plt\n",
        "import seaborn as sns; sns.set()\n",
        "from sklearn import cluster\n",
        "%matplotlib inline\n",
        "\n",
        "# Data Lab imports\n",
        "from dl import queryClient as qc, storeClient as sc\n",
        "from dl.helpers.utils import convert"
      ]
    },
    {
      "cell_type": "markdown",
      "metadata": {
        "id": "bVGeqweYvvh3"
      },
      "source": [
        "## <span style=\"color:Orange\">Questions</span>"
      ]
    },
    {
      "cell_type": "markdown",
      "metadata": {
        "id": "rYEE9PEHw772"
      },
      "source": [
        "### <span style=\"color:LightGreen\">Question 01</span>\n",
        "\n",
        " What is the Dark Energy Survey? What are it's main goals? What part of the night sky does the DES cover?"
      ]
    },
    {
      "cell_type": "markdown",
      "metadata": {},
      "source": [
        "# Question 1 Answer:\n",
        "The Dark Energy Survey(DES) is a project to map out a large region of the night sky and classify galaxies and supernovae in an effort to find patterns of cosmic structure. Its main goal is to better understand dark energy and how it is accelerating the expansion of the universe. The DES covers the areas of the night sky away from the galactic disc, as the dust and stars in the Milky Way obscure distant galaxies. The survey was conducted useing a telescope in Chile, so the measurements are in the southern sky."
      ]
    },
    {
      "cell_type": "markdown",
      "metadata": {
        "id": "-F8WubbKzlP6"
      },
      "source": [
        "### <span style=\"color:LightGreen\">Question 02</span>\n",
        "\n",
        "Read the DES DR1 paper [[1]](https://urldefense.com/v3/__https://arxiv.org/abs/1801.03181__;!!DZ3fjg!-VVx5uQqQ6ZzOgr-EjFgoLc8lr9NMhNBQvahQLwOY5HAZ8lWfzbxhbpxn8e7OlM44QFoWvd5J20qch77Aqg$ ). What are the four completementary measurements that DES does to probe the universe? To achieve these goals, what surveys in which wave bands does DES conduct?"
      ]
    },
    {
      "cell_type": "markdown",
      "metadata": {},
      "source": [
        "# Question 2 Answer:\n",
        "In order to improve understanding of cosmic acceleration and dark energy, the DES uses four strategies: \n",
        "- Weak gravitational lensing\n",
        "- galaxy cluster counts\n",
        "- large-scale clustering of galaxies\n",
        "- distances to type Ia supernovae\n",
        "\n",
        "DES does a 5000 $deg^2$ survey in the *grizY* bands(464nm - 1020nm) and a 27 $deg^2$ survey in the *griz* bands(464nm - 900nm). "
      ]
    },
    {
      "cell_type": "markdown",
      "metadata": {
        "id": "FLM_25pxyXVI"
      },
      "source": [
        "### <span style=\"color:LightGreen\">Question 03</span>\n",
        "\n",
        "What is variable or feature of the data does DES use to classify its' objects  morphologically (stars or galaxies), as described in the DR1 paper [[1]](https://arxiv.org/abs/1801.03181)"
      ]
    },
    {
      "cell_type": "markdown",
      "metadata": {},
      "source": [
        "# Question 3 Answer: \n",
        "DES uses a variable called EXTENDED_COADD to classify whether objects are stars or galaxies. This variable takes on 4 possible values:\n",
        "- 0: High-confidence stars\n",
        "- 1: likely stars\n",
        "- 2: mostly galaxies\n",
        "- 3: high confidence galaxies\n",
        "\n",
        "This value is determined by a boolean sum of 3 different linear combinations of SPREAD_MODEL_I and SPREADERR_MODEL_I, so under the hood the morphology classification depends only on SPREAD_MODEL_I and it's error."
      ]
    },
    {
      "cell_type": "markdown",
      "metadata": {
        "id": "a9VgzmClywsu"
      },
      "source": [
        "## <span style=\"color:Orange\">Accessing Data from Data Lab</span>\n",
        "\n",
        "Below is a sample query statement to acquire the relevant data of the `des_dr1.main` table from Astro Data Lab [[2]](https://urldefense.com/v3/__https://github.com/astro-datalab/notebooks-latest/blob/master/03_ScienceExamples/StarGalQSOSeparation/StarGalQsoDESDR1.ipynb__;!!DZ3fjg!-VVx5uQqQ6ZzOgr-EjFgoLc8lr9NMhNBQvahQLwOY5HAZ8lWfzbxhbpxn8e7OlM44QFoWvd5J20qD2flJpc$ ) .\n",
        "\n"
      ]
    },
    {
      "cell_type": "code",
      "execution_count": 22,
      "metadata": {
        "id": "LPV1wIFPTAnt"
      },
      "outputs": [],
      "source": [
        "# Write query statement (sql) as a string\n",
        "# NOTE: triple quotes allow us to break the string on multiple lines\n",
        "query = \"\"\"\n",
        "        SELECT mag_auto_g as gmag, mag_auto_r as rmag, mag_auto_z as zmag,\n",
        "               mag_auto_i as imag, mag_auto_y as ymag,\n",
        "               kron_radius, spread_model_g, class_star_g, spread_model_r, class_star_r,\n",
        "               spread_model_z, class_star_z,\n",
        "               snr_g, snr_r, snr_z, ra, dec\n",
        "        FROM des_dr1.main\n",
        "        WHERE (fluxerr_auto_g>0 and fluxerr_auto_r>0 and fluxerr_auto_z>0)\n",
        "        LIMIT 1000\"\"\"\n",
        "\n",
        "# mag_auto_g,r,i,z,y = AB magnitudes in DECam g,r,i,z,y bands\n",
        "# kron_radius        = Kron radius from SExtractor (pixels)\n",
        "# spread_model_g,r,z = star/galaxy classifier quantifying light profile relative to PSF\n",
        "# class_star_g,r,z   = star/extended source classifier (from 0 to 1)\n",
        "# snr_g,r,z          = computed signal-to-noise ratios (S/N) in g,r,z bands\n",
        "# ra,dec             = celestial coordinates\n",
        "#\n",
        "# WHERE: requirement that error>0 (to avoid dividing by zero) in g,r,z bands\n",
        "# LIMIT: returns 1,000 rows that satisfy the query"
      ]
    },
    {
      "cell_type": "code",
      "execution_count": 23,
      "metadata": {
        "id": "3TRu_HdpTI2-"
      },
      "outputs": [
        {
          "name": "stdout",
          "output_type": "stream",
          "text": [
            "          gmag       rmag       zmag       imag       ymag  kron_radius  \\\n",
            "0    22.784887  22.136242  21.095821  21.435389  21.206154     4.238707   \n",
            "1    22.615679  21.863860  21.674820  21.654385  21.755533     5.382414   \n",
            "2    99.000000  24.025757  23.135685  23.358044  23.769728     6.381511   \n",
            "3    23.622091  23.027632  22.247347  22.593267  22.899840     3.500000   \n",
            "4    23.426254  22.612858  22.015070  22.151964  25.635944     5.639072   \n",
            "..         ...        ...        ...        ...        ...          ...   \n",
            "995  23.795807  22.510612  21.077732  21.898302  20.935879     4.333607   \n",
            "996  25.547890  24.621798  22.334875  23.264317  21.692736     7.571673   \n",
            "997  25.501574  24.993502  23.313547  24.327383  99.000000     5.723907   \n",
            "998  23.788477  22.289392  21.128504  21.607227  20.973015     3.698413   \n",
            "999  24.351347  24.099165  22.754086  23.198608  22.144917     7.229260   \n",
            "\n",
            "     spread_model_g  class_star_g  spread_model_r  class_star_r  \\\n",
            "0          0.015305      0.005343        0.017647      0.003070   \n",
            "1          0.017881      0.014740        0.019926      0.002355   \n",
            "2         -0.048357      0.429925        0.013938      0.209081   \n",
            "3         -0.001831      0.804707        0.004998      0.323133   \n",
            "4          0.012196      0.658413        0.016881      0.014268   \n",
            "..              ...           ...             ...           ...   \n",
            "995        0.013879      0.016461        0.016694      0.000445   \n",
            "996       -0.004290      0.348806        0.008805      0.480825   \n",
            "997       -0.009955      0.476870       -0.005490      0.362689   \n",
            "998        0.008582      0.448153       -0.000614      0.918738   \n",
            "999        0.026725      0.425244       -0.009698      0.503012   \n",
            "\n",
            "     spread_model_z  class_star_z      snr_g      snr_r      snr_z  \\\n",
            "0          0.019127      0.000637  13.476669  13.689748  13.045896   \n",
            "1          0.019793      0.000194  11.163608  13.133232   5.589110   \n",
            "2          0.006786      0.117245  -0.259993   2.872511   2.331061   \n",
            "3          0.003998      0.097198  10.830791  11.042932   8.108633   \n",
            "4          0.023753      0.000871   7.244080   9.022846   5.592023   \n",
            "..              ...           ...        ...        ...        ...   \n",
            "995        0.017408      0.012414   7.473793  12.573675  17.353160   \n",
            "996        0.008606      0.144595   1.587474   1.808009   5.855226   \n",
            "997        0.008668      0.579860   2.166041   2.022712   3.441468   \n",
            "998        0.006165      0.029157   7.389799  17.138716  18.116370   \n",
            "999        0.000149      0.305369   3.756177   2.770673   3.464602   \n",
            "\n",
            "             ra       dec  \n",
            "0    353.771022 -1.819655  \n",
            "1    353.765816 -1.816650  \n",
            "2    353.767510 -1.815314  \n",
            "3    353.759556 -1.811307  \n",
            "4    353.760981 -1.811472  \n",
            "..          ...       ...  \n",
            "995  353.921736 -1.827686  \n",
            "996  353.921317 -1.822228  \n",
            "997  353.898034 -1.818592  \n",
            "998  353.901749 -1.819134  \n",
            "999  353.902679 -1.818154  \n",
            "\n",
            "[1000 rows x 17 columns]\n"
          ]
        }
      ],
      "source": [
        "# Execute the query synchronously, if short (e.g., LIMIT<=300,000)\n",
        "# We then convert the returned result, a CSV-formatted string, to a Pandas data frame,\n",
        "# making sure that any potential 'Infinity' values are converted to NaN.\n",
        "sample_res = qc.query(sql=query)\n",
        "sample_df = convert(sample_res,'pandas',na_values=('Infinity','-Infinity'))\n",
        "print(sample_df)"
      ]
    },
    {
      "cell_type": "markdown",
      "metadata": {
        "id": "LKvnPq_GzJaC"
      },
      "source": [
        "### <span style=\"color:LightGreen\">Question 04</span>\n",
        "\n",
        "Write a query to get the following data from the `des_dr1.main` table:\n",
        "\n",
        "*  `mag_auto_g,r,i,z,y` = AB magnitudes in DECam g,r,i,z,y bands\n",
        "*  `kron_radius`        = Kron radius from SExtractor (pixels)\n",
        "* `spread_model_g,r,z` = star/galaxy classifier quantifying light profile relative to PSF\n",
        "* `class_star_g,r,z`   = star/extended source classifier (from 0 to 1)\n",
        "* `snr_g,r,z`          = computed signal-to-noise ratios (S/N) in g,r,z bands\n",
        "* `ra`,`dec`             = celestial coordinates\n",
        "\n",
        "Apply the following conditions and limit your query results to 100,000 samples:\n",
        "\n",
        "*   `fluxerr_auto_X` > 0 for X in g, r, and z bands\n",
        "*   -50 <= `snr_X` <= 50 for X in g, r, and z bands\n",
        "\n",
        "\n",
        "Convert the acquired data into a Pandas data frame.\n"
      ]
    },
    {
      "cell_type": "markdown",
      "metadata": {},
      "source": [
        "# Question 4 Answer:\n",
        "I got the dataframe"
      ]
    },
    {
      "cell_type": "code",
      "execution_count": 24,
      "metadata": {},
      "outputs": [
        {
          "data": {
            "text/html": [
              "<div>\n",
              "<style scoped>\n",
              "    .dataframe tbody tr th:only-of-type {\n",
              "        vertical-align: middle;\n",
              "    }\n",
              "\n",
              "    .dataframe tbody tr th {\n",
              "        vertical-align: top;\n",
              "    }\n",
              "\n",
              "    .dataframe thead th {\n",
              "        text-align: right;\n",
              "    }\n",
              "</style>\n",
              "<table border=\"1\" class=\"dataframe\">\n",
              "  <thead>\n",
              "    <tr style=\"text-align: right;\">\n",
              "      <th></th>\n",
              "      <th>gmag</th>\n",
              "      <th>rmag</th>\n",
              "      <th>zmag</th>\n",
              "      <th>imag</th>\n",
              "      <th>ymag</th>\n",
              "      <th>kron_radius</th>\n",
              "      <th>spread_model_g</th>\n",
              "      <th>class_star_g</th>\n",
              "      <th>spread_model_r</th>\n",
              "      <th>class_star_r</th>\n",
              "      <th>spread_model_z</th>\n",
              "      <th>class_star_z</th>\n",
              "      <th>snr_g</th>\n",
              "      <th>snr_r</th>\n",
              "      <th>snr_z</th>\n",
              "      <th>ra</th>\n",
              "      <th>dec</th>\n",
              "    </tr>\n",
              "  </thead>\n",
              "  <tbody>\n",
              "    <tr>\n",
              "      <th>0</th>\n",
              "      <td>22.115036</td>\n",
              "      <td>99</td>\n",
              "      <td>99.000000</td>\n",
              "      <td>99.00000</td>\n",
              "      <td>99.000000</td>\n",
              "      <td>8.449265</td>\n",
              "      <td>0.012004</td>\n",
              "      <td>0.042333</td>\n",
              "      <td>1.000000</td>\n",
              "      <td>0.349992</td>\n",
              "      <td>1.000000</td>\n",
              "      <td>0.009584</td>\n",
              "      <td>5.640619</td>\n",
              "      <td>-49.992058</td>\n",
              "      <td>-9.495123</td>\n",
              "      <td>19.846645</td>\n",
              "      <td>-53.602146</td>\n",
              "    </tr>\n",
              "    <tr>\n",
              "      <th>1</th>\n",
              "      <td>23.964737</td>\n",
              "      <td>99</td>\n",
              "      <td>99.000000</td>\n",
              "      <td>99.00000</td>\n",
              "      <td>99.000000</td>\n",
              "      <td>8.983423</td>\n",
              "      <td>0.008607</td>\n",
              "      <td>0.607084</td>\n",
              "      <td>1.000000</td>\n",
              "      <td>0.019274</td>\n",
              "      <td>1.000000</td>\n",
              "      <td>0.395193</td>\n",
              "      <td>2.208419</td>\n",
              "      <td>-49.986885</td>\n",
              "      <td>-6.294527</td>\n",
              "      <td>23.626489</td>\n",
              "      <td>-29.413980</td>\n",
              "    </tr>\n",
              "    <tr>\n",
              "      <th>2</th>\n",
              "      <td>99.000000</td>\n",
              "      <td>99</td>\n",
              "      <td>23.928865</td>\n",
              "      <td>99.00000</td>\n",
              "      <td>23.879759</td>\n",
              "      <td>3.500000</td>\n",
              "      <td>-0.100816</td>\n",
              "      <td>0.284600</td>\n",
              "      <td>-0.010246</td>\n",
              "      <td>0.012631</td>\n",
              "      <td>0.004203</td>\n",
              "      <td>0.002869</td>\n",
              "      <td>-0.268048</td>\n",
              "      <td>-49.974236</td>\n",
              "      <td>0.982654</td>\n",
              "      <td>53.554756</td>\n",
              "      <td>-44.696893</td>\n",
              "    </tr>\n",
              "    <tr>\n",
              "      <th>3</th>\n",
              "      <td>99.000000</td>\n",
              "      <td>99</td>\n",
              "      <td>99.000000</td>\n",
              "      <td>99.00000</td>\n",
              "      <td>99.000000</td>\n",
              "      <td>8.545079</td>\n",
              "      <td>-0.028510</td>\n",
              "      <td>0.514376</td>\n",
              "      <td>1.000000</td>\n",
              "      <td>0.418036</td>\n",
              "      <td>1.000000</td>\n",
              "      <td>0.442787</td>\n",
              "      <td>-4.645531</td>\n",
              "      <td>-49.971180</td>\n",
              "      <td>-3.901429</td>\n",
              "      <td>306.153553</td>\n",
              "      <td>-56.852316</td>\n",
              "    </tr>\n",
              "    <tr>\n",
              "      <th>4</th>\n",
              "      <td>22.759033</td>\n",
              "      <td>99</td>\n",
              "      <td>99.000000</td>\n",
              "      <td>99.00000</td>\n",
              "      <td>99.000000</td>\n",
              "      <td>8.618557</td>\n",
              "      <td>-0.008259</td>\n",
              "      <td>0.369813</td>\n",
              "      <td>1.000000</td>\n",
              "      <td>0.347991</td>\n",
              "      <td>1.000000</td>\n",
              "      <td>0.502264</td>\n",
              "      <td>3.931107</td>\n",
              "      <td>-49.966644</td>\n",
              "      <td>-2.693714</td>\n",
              "      <td>82.089033</td>\n",
              "      <td>-20.866155</td>\n",
              "    </tr>\n",
              "    <tr>\n",
              "      <th>...</th>\n",
              "      <td>...</td>\n",
              "      <td>...</td>\n",
              "      <td>...</td>\n",
              "      <td>...</td>\n",
              "      <td>...</td>\n",
              "      <td>...</td>\n",
              "      <td>...</td>\n",
              "      <td>...</td>\n",
              "      <td>...</td>\n",
              "      <td>...</td>\n",
              "      <td>...</td>\n",
              "      <td>...</td>\n",
              "      <td>...</td>\n",
              "      <td>...</td>\n",
              "      <td>...</td>\n",
              "      <td>...</td>\n",
              "      <td>...</td>\n",
              "    </tr>\n",
              "    <tr>\n",
              "      <th>99995</th>\n",
              "      <td>99.000000</td>\n",
              "      <td>99</td>\n",
              "      <td>99.000000</td>\n",
              "      <td>99.00000</td>\n",
              "      <td>99.000000</td>\n",
              "      <td>7.254698</td>\n",
              "      <td>0.554058</td>\n",
              "      <td>0.347714</td>\n",
              "      <td>1.786109</td>\n",
              "      <td>0.450614</td>\n",
              "      <td>56.576515</td>\n",
              "      <td>0.352979</td>\n",
              "      <td>-1.576469</td>\n",
              "      <td>-3.557831</td>\n",
              "      <td>-1.872846</td>\n",
              "      <td>88.381617</td>\n",
              "      <td>-42.970279</td>\n",
              "    </tr>\n",
              "    <tr>\n",
              "      <th>99996</th>\n",
              "      <td>26.231888</td>\n",
              "      <td>99</td>\n",
              "      <td>99.000000</td>\n",
              "      <td>25.39952</td>\n",
              "      <td>99.000000</td>\n",
              "      <td>0.000000</td>\n",
              "      <td>-0.021143</td>\n",
              "      <td>0.353502</td>\n",
              "      <td>-0.006051</td>\n",
              "      <td>0.019273</td>\n",
              "      <td>0.014914</td>\n",
              "      <td>0.569570</td>\n",
              "      <td>1.191209</td>\n",
              "      <td>-3.557828</td>\n",
              "      <td>-0.457893</td>\n",
              "      <td>52.598511</td>\n",
              "      <td>-10.715876</td>\n",
              "    </tr>\n",
              "    <tr>\n",
              "      <th>99997</th>\n",
              "      <td>31.392279</td>\n",
              "      <td>99</td>\n",
              "      <td>99.000000</td>\n",
              "      <td>99.00000</td>\n",
              "      <td>24.443895</td>\n",
              "      <td>7.922318</td>\n",
              "      <td>-0.271700</td>\n",
              "      <td>0.353278</td>\n",
              "      <td>-0.164562</td>\n",
              "      <td>0.346653</td>\n",
              "      <td>-0.203010</td>\n",
              "      <td>0.019273</td>\n",
              "      <td>0.012019</td>\n",
              "      <td>-3.557744</td>\n",
              "      <td>-2.609829</td>\n",
              "      <td>325.225557</td>\n",
              "      <td>-41.327009</td>\n",
              "    </tr>\n",
              "    <tr>\n",
              "      <th>99998</th>\n",
              "      <td>99.000000</td>\n",
              "      <td>99</td>\n",
              "      <td>25.805523</td>\n",
              "      <td>24.21366</td>\n",
              "      <td>99.000000</td>\n",
              "      <td>4.092001</td>\n",
              "      <td>-0.027301</td>\n",
              "      <td>0.347147</td>\n",
              "      <td>0.002832</td>\n",
              "      <td>0.479637</td>\n",
              "      <td>-0.018696</td>\n",
              "      <td>0.434219</td>\n",
              "      <td>-1.963052</td>\n",
              "      <td>-3.557709</td>\n",
              "      <td>0.426904</td>\n",
              "      <td>40.257824</td>\n",
              "      <td>-38.550024</td>\n",
              "    </tr>\n",
              "    <tr>\n",
              "      <th>99999</th>\n",
              "      <td>99.000000</td>\n",
              "      <td>99</td>\n",
              "      <td>99.000000</td>\n",
              "      <td>99.00000</td>\n",
              "      <td>99.000000</td>\n",
              "      <td>8.377748</td>\n",
              "      <td>0.025821</td>\n",
              "      <td>0.346658</td>\n",
              "      <td>1.000000</td>\n",
              "      <td>0.346700</td>\n",
              "      <td>0.338076</td>\n",
              "      <td>0.019273</td>\n",
              "      <td>-0.674628</td>\n",
              "      <td>-3.557684</td>\n",
              "      <td>-1.757393</td>\n",
              "      <td>20.838504</td>\n",
              "      <td>-2.050635</td>\n",
              "    </tr>\n",
              "  </tbody>\n",
              "</table>\n",
              "<p>100000 rows × 17 columns</p>\n",
              "</div>"
            ],
            "text/plain": [
              "            gmag  rmag       zmag      imag       ymag  kron_radius  \\\n",
              "0      22.115036    99  99.000000  99.00000  99.000000     8.449265   \n",
              "1      23.964737    99  99.000000  99.00000  99.000000     8.983423   \n",
              "2      99.000000    99  23.928865  99.00000  23.879759     3.500000   \n",
              "3      99.000000    99  99.000000  99.00000  99.000000     8.545079   \n",
              "4      22.759033    99  99.000000  99.00000  99.000000     8.618557   \n",
              "...          ...   ...        ...       ...        ...          ...   \n",
              "99995  99.000000    99  99.000000  99.00000  99.000000     7.254698   \n",
              "99996  26.231888    99  99.000000  25.39952  99.000000     0.000000   \n",
              "99997  31.392279    99  99.000000  99.00000  24.443895     7.922318   \n",
              "99998  99.000000    99  25.805523  24.21366  99.000000     4.092001   \n",
              "99999  99.000000    99  99.000000  99.00000  99.000000     8.377748   \n",
              "\n",
              "       spread_model_g  class_star_g  spread_model_r  class_star_r  \\\n",
              "0            0.012004      0.042333        1.000000      0.349992   \n",
              "1            0.008607      0.607084        1.000000      0.019274   \n",
              "2           -0.100816      0.284600       -0.010246      0.012631   \n",
              "3           -0.028510      0.514376        1.000000      0.418036   \n",
              "4           -0.008259      0.369813        1.000000      0.347991   \n",
              "...               ...           ...             ...           ...   \n",
              "99995        0.554058      0.347714        1.786109      0.450614   \n",
              "99996       -0.021143      0.353502       -0.006051      0.019273   \n",
              "99997       -0.271700      0.353278       -0.164562      0.346653   \n",
              "99998       -0.027301      0.347147        0.002832      0.479637   \n",
              "99999        0.025821      0.346658        1.000000      0.346700   \n",
              "\n",
              "       spread_model_z  class_star_z     snr_g      snr_r     snr_z  \\\n",
              "0            1.000000      0.009584  5.640619 -49.992058 -9.495123   \n",
              "1            1.000000      0.395193  2.208419 -49.986885 -6.294527   \n",
              "2            0.004203      0.002869 -0.268048 -49.974236  0.982654   \n",
              "3            1.000000      0.442787 -4.645531 -49.971180 -3.901429   \n",
              "4            1.000000      0.502264  3.931107 -49.966644 -2.693714   \n",
              "...               ...           ...       ...        ...       ...   \n",
              "99995       56.576515      0.352979 -1.576469  -3.557831 -1.872846   \n",
              "99996        0.014914      0.569570  1.191209  -3.557828 -0.457893   \n",
              "99997       -0.203010      0.019273  0.012019  -3.557744 -2.609829   \n",
              "99998       -0.018696      0.434219 -1.963052  -3.557709  0.426904   \n",
              "99999        0.338076      0.019273 -0.674628  -3.557684 -1.757393   \n",
              "\n",
              "               ra        dec  \n",
              "0       19.846645 -53.602146  \n",
              "1       23.626489 -29.413980  \n",
              "2       53.554756 -44.696893  \n",
              "3      306.153553 -56.852316  \n",
              "4       82.089033 -20.866155  \n",
              "...           ...        ...  \n",
              "99995   88.381617 -42.970279  \n",
              "99996   52.598511 -10.715876  \n",
              "99997  325.225557 -41.327009  \n",
              "99998   40.257824 -38.550024  \n",
              "99999   20.838504  -2.050635  \n",
              "\n",
              "[100000 rows x 17 columns]"
            ]
          },
          "metadata": {},
          "output_type": "display_data"
        }
      ],
      "source": [
        "query = \"\"\"\n",
        "        SELECT mag_auto_g as gmag, mag_auto_r as rmag, mag_auto_z as zmag,\n",
        "               mag_auto_i as imag, mag_auto_y as ymag,\n",
        "               kron_radius, spread_model_g, class_star_g, spread_model_r, class_star_r,\n",
        "               spread_model_z, class_star_z,\n",
        "               snr_g, snr_r, snr_z, ra, dec\n",
        "        FROM des_dr1.main\n",
        "        WHERE (fluxerr_auto_g>0 and fluxerr_auto_r>0 and fluxerr_auto_z>0 and snr_g>-50 and snr_g<50 and snr_r>-50 and snr_r<50 and snr_z>-50 and snr_z<50)\n",
        "        LIMIT 100000\"\"\"\n",
        "sample_res = qc.query(sql=query)\n",
        "working_df = convert(sample_res,'pandas',na_values=('Infinity','-Infinity'))\n",
        "display(working_df)"
      ]
    },
    {
      "cell_type": "markdown",
      "metadata": {
        "id": "AIOgqJLIVSUn"
      },
      "source": [
        "### <span style=\"color:LightGreen\">Question 05</span>\n",
        "\n",
        "The images produced by DES are used to distinguish between stars (point sources), galaxies (resolved, if not too distant), and QSOs (which may have both point-like and resolved components).\n",
        "\n",
        "* `kron_radius`: Kron radius in pixels\n",
        "* `spread_model_X`: star-galaxy classifier comparing extended model to PSF model. Value is given for each band X = *g, r, i, z, y*\n",
        "* `class_star_X`: value ranging from 0.0 (not point-like) to 1.0 (point-like), for each band X = *g, r, i, z, y*\n",
        "\n",
        "The value of `spread_model_X` is near zero for a point source (star or QSO), positive for an extended source (galaxy), negative for an artifact smaller than the PSF (e.g., bad pixel or cosmic ray).\n",
        "\n",
        "Let's define an object as a star if `spread_model_g`<=0.5, and a galaxy if `spread_model_g` > 0.5. In our sample data, count the number of objects that are stars and the number of objects that are galaxies."
      ]
    },
    {
      "cell_type": "code",
      "execution_count": 25,
      "metadata": {},
      "outputs": [
        {
          "name": "stdout",
          "output_type": "stream",
          "text": [
            "64836\n",
            "35164\n"
          ]
        }
      ],
      "source": [
        "stars = working_df.drop(working_df[working_df.spread_model_g > 0.5].index)\n",
        "print(len(stars))\n",
        "galaxies = working_df.drop(working_df[working_df.spread_model_g <= 0.5].index)\n",
        "print(len(galaxies))"
      ]
    },
    {
      "cell_type": "markdown",
      "metadata": {},
      "source": [
        "# Question 5 Answer\n",
        "I found that there are 64836 stars in our dataset, and 35164 galaxies."
      ]
    },
    {
      "cell_type": "markdown",
      "metadata": {
        "id": "zLMJBHtrWmMX"
      },
      "source": [
        "### <span style=\"color:LightGreen\">Question 06</span>\n",
        "\n",
        "Suppose we wish to divide the imaging data observed by the DES into roughly equal subsets of data for more efficient parallel data processing and analysis. We will do so by using K-Means clustering on the data points of the area of the night sky observed by DES.\n",
        "\n",
        "In astronomy, RA (right ascension) and Dec (declination) are the coordinates on the sky that correspond to longitude and latitude on Earth and are used to describe the position of an object. Define a subset of the data with two columns: `ra` and `dec`. Using K-Means clustering, fit the data into 2 distinct clusters.\n",
        "\n",
        "Here, each cluster will represent a subset of data, so we want the number data points of all clusters to be roughly the same. Display the fit using the helper function `display()`. Is the result what you expected? Is this a suitable method to equally divide our data?"
      ]
    },
    {
      "cell_type": "code",
      "execution_count": 26,
      "metadata": {},
      "outputs": [],
      "source": [
        "data_for_clustering = working_df[['ra', 'dec']]\n",
        "a_fit = cluster.KMeans(n_clusters=2).fit(data_for_clustering)"
      ]
    },
    {
      "cell_type": "code",
      "execution_count": 27,
      "metadata": {
        "id": "d-jU374Bs8OX"
      },
      "outputs": [],
      "source": [
        "def display_data(data, fit):\n",
        "    n_clusters = len(np.unique(fit.labels_))\n",
        "    # Pick good colors to distinguish the different clusters.\n",
        "    import matplotlib.colors\n",
        "    cmap = matplotlib.colors.ListedColormap(\n",
        "        sns.color_palette(\"husl\", n_clusters).as_hex())\n",
        "    plt.scatter(data.iloc[:, 0], data.iloc[:, 1], s=5, c=fit.labels_, cmap=cmap)\n",
        "    # Use standard axes to match the plot above.\n",
        "#    plt.xlim(0, 360)\n",
        "    plt.ylim(-90, +90)\n",
        "    plt.xlabel('RA [degrees]')\n",
        "    plt.ylabel('Dec [degrees]')\n",
        "    plt.gca().set_aspect(1.)"
      ]
    },
    {
      "cell_type": "code",
      "execution_count": 28,
      "metadata": {},
      "outputs": [
        {
          "data": {
            "image/png": "[encoded data removed]",
            "text/plain": [
              "<Figure size 640x480 with 1 Axes>"
            ]
          },
          "metadata": {},
          "output_type": "display_data"
        }
      ],
      "source": [
        "display_data(data_for_clustering, a_fit)"
      ]
    },
    {
      "cell_type": "markdown",
      "metadata": {},
      "source": [
        "# Question 6 Answer:\n",
        "That is not at all how I expected the data to be layed out. Because the sky is not flat, it shouldn't matter if something is at 0 degrees or 360 degrees, so this clustering doesn't make much sense, and is not a suitable method to divide the data equally."
      ]
    },
    {
      "cell_type": "markdown",
      "metadata": {
        "id": "2NwRUT6nWpoG"
      },
      "source": [
        "### <span style=\"color:LightGreen\">Question 07</span>\n",
        "\n",
        "Modify the `ra` column such that if `ra` >= 180 deg, we subtract 360 deg from `ra` for our observed sky map to be continuous. Now, change the number of clusters so that each cluster covers roughly equal area of the observed sky? For what `n_clusters` does the K-means clustering make the most sense to you?\n",
        "\n",
        "However, you shouldn't increase `n_clusters` to an arbitrarily large number just to get equally covered area of the observed sky - each cluster would represent a subset of data we use for parallel processing, and requiring more processors is not always feasible or sensible."
      ]
    },
    {
      "cell_type": "code",
      "execution_count": 29,
      "metadata": {},
      "outputs": [
        {
          "data": {
            "text/html": [
              "<div>\n",
              "<style scoped>\n",
              "    .dataframe tbody tr th:only-of-type {\n",
              "        vertical-align: middle;\n",
              "    }\n",
              "\n",
              "    .dataframe tbody tr th {\n",
              "        vertical-align: top;\n",
              "    }\n",
              "\n",
              "    .dataframe thead th {\n",
              "        text-align: right;\n",
              "    }\n",
              "</style>\n",
              "<table border=\"1\" class=\"dataframe\">\n",
              "  <thead>\n",
              "    <tr style=\"text-align: right;\">\n",
              "      <th></th>\n",
              "      <th>ra</th>\n",
              "      <th>dec</th>\n",
              "    </tr>\n",
              "  </thead>\n",
              "  <tbody>\n",
              "    <tr>\n",
              "      <th>0</th>\n",
              "      <td>19.846645</td>\n",
              "      <td>-53.602146</td>\n",
              "    </tr>\n",
              "    <tr>\n",
              "      <th>1</th>\n",
              "      <td>23.626489</td>\n",
              "      <td>-29.413980</td>\n",
              "    </tr>\n",
              "    <tr>\n",
              "      <th>2</th>\n",
              "      <td>53.554756</td>\n",
              "      <td>-44.696893</td>\n",
              "    </tr>\n",
              "    <tr>\n",
              "      <th>3</th>\n",
              "      <td>-53.846447</td>\n",
              "      <td>-56.852316</td>\n",
              "    </tr>\n",
              "    <tr>\n",
              "      <th>4</th>\n",
              "      <td>82.089033</td>\n",
              "      <td>-20.866155</td>\n",
              "    </tr>\n",
              "    <tr>\n",
              "      <th>...</th>\n",
              "      <td>...</td>\n",
              "      <td>...</td>\n",
              "    </tr>\n",
              "    <tr>\n",
              "      <th>99995</th>\n",
              "      <td>88.381617</td>\n",
              "      <td>-42.970279</td>\n",
              "    </tr>\n",
              "    <tr>\n",
              "      <th>99996</th>\n",
              "      <td>52.598511</td>\n",
              "      <td>-10.715876</td>\n",
              "    </tr>\n",
              "    <tr>\n",
              "      <th>99997</th>\n",
              "      <td>-34.774443</td>\n",
              "      <td>-41.327009</td>\n",
              "    </tr>\n",
              "    <tr>\n",
              "      <th>99998</th>\n",
              "      <td>40.257824</td>\n",
              "      <td>-38.550024</td>\n",
              "    </tr>\n",
              "    <tr>\n",
              "      <th>99999</th>\n",
              "      <td>20.838504</td>\n",
              "      <td>-2.050635</td>\n",
              "    </tr>\n",
              "  </tbody>\n",
              "</table>\n",
              "<p>100000 rows × 2 columns</p>\n",
              "</div>"
            ],
            "text/plain": [
              "              ra        dec\n",
              "0      19.846645 -53.602146\n",
              "1      23.626489 -29.413980\n",
              "2      53.554756 -44.696893\n",
              "3     -53.846447 -56.852316\n",
              "4      82.089033 -20.866155\n",
              "...          ...        ...\n",
              "99995  88.381617 -42.970279\n",
              "99996  52.598511 -10.715876\n",
              "99997 -34.774443 -41.327009\n",
              "99998  40.257824 -38.550024\n",
              "99999  20.838504  -2.050635\n",
              "\n",
              "[100000 rows x 2 columns]"
            ]
          },
          "metadata": {},
          "output_type": "display_data"
        },
        {
          "data": {
            "text/html": [
              "<div>\n",
              "<style scoped>\n",
              "    .dataframe tbody tr th:only-of-type {\n",
              "        vertical-align: middle;\n",
              "    }\n",
              "\n",
              "    .dataframe tbody tr th {\n",
              "        vertical-align: top;\n",
              "    }\n",
              "\n",
              "    .dataframe thead th {\n",
              "        text-align: right;\n",
              "    }\n",
              "</style>\n",
              "<table border=\"1\" class=\"dataframe\">\n",
              "  <thead>\n",
              "    <tr style=\"text-align: right;\">\n",
              "      <th></th>\n",
              "      <th>ra</th>\n",
              "      <th>dec</th>\n",
              "    </tr>\n",
              "  </thead>\n",
              "  <tbody>\n",
              "    <tr>\n",
              "      <th>0</th>\n",
              "      <td>19.846645</td>\n",
              "      <td>-53.602146</td>\n",
              "    </tr>\n",
              "    <tr>\n",
              "      <th>1</th>\n",
              "      <td>23.626489</td>\n",
              "      <td>-29.413980</td>\n",
              "    </tr>\n",
              "    <tr>\n",
              "      <th>2</th>\n",
              "      <td>53.554756</td>\n",
              "      <td>-44.696893</td>\n",
              "    </tr>\n",
              "    <tr>\n",
              "      <th>3</th>\n",
              "      <td>-53.846447</td>\n",
              "      <td>-56.852316</td>\n",
              "    </tr>\n",
              "    <tr>\n",
              "      <th>4</th>\n",
              "      <td>82.089033</td>\n",
              "      <td>-20.866155</td>\n",
              "    </tr>\n",
              "    <tr>\n",
              "      <th>...</th>\n",
              "      <td>...</td>\n",
              "      <td>...</td>\n",
              "    </tr>\n",
              "    <tr>\n",
              "      <th>99995</th>\n",
              "      <td>88.381617</td>\n",
              "      <td>-42.970279</td>\n",
              "    </tr>\n",
              "    <tr>\n",
              "      <th>99996</th>\n",
              "      <td>52.598511</td>\n",
              "      <td>-10.715876</td>\n",
              "    </tr>\n",
              "    <tr>\n",
              "      <th>99997</th>\n",
              "      <td>-34.774443</td>\n",
              "      <td>-41.327009</td>\n",
              "    </tr>\n",
              "    <tr>\n",
              "      <th>99998</th>\n",
              "      <td>40.257824</td>\n",
              "      <td>-38.550024</td>\n",
              "    </tr>\n",
              "    <tr>\n",
              "      <th>99999</th>\n",
              "      <td>20.838504</td>\n",
              "      <td>-2.050635</td>\n",
              "    </tr>\n",
              "  </tbody>\n",
              "</table>\n",
              "<p>100000 rows × 2 columns</p>\n",
              "</div>"
            ],
            "text/plain": [
              "              ra        dec\n",
              "0      19.846645 -53.602146\n",
              "1      23.626489 -29.413980\n",
              "2      53.554756 -44.696893\n",
              "3     -53.846447 -56.852316\n",
              "4      82.089033 -20.866155\n",
              "...          ...        ...\n",
              "99995  88.381617 -42.970279\n",
              "99996  52.598511 -10.715876\n",
              "99997 -34.774443 -41.327009\n",
              "99998  40.257824 -38.550024\n",
              "99999  20.838504  -2.050635\n",
              "\n",
              "[100000 rows x 2 columns]"
            ]
          },
          "metadata": {},
          "output_type": "display_data"
        }
      ],
      "source": [
        "shifted_data = data_for_clustering\n",
        "shifted_data.loc[:, \"ra\"] = data_for_clustering.ra.apply(lambda x: x if x < 180 else x - 360)\n",
        "# shifted_data = data_for_clustering[data_for_clustering.ra > 180] - 360\n",
        "display(data_for_clustering)\n",
        "display(shifted_data)\n",
        "# shifted_data = data_for_clustering.apply(data_for_clustering[data_for_clustering.ra > 180])\n",
        "# shifted_data = np.where(data_for_clustering.ra > 180)\n",
        "# print(shifted_data[0])\n",
        "# shifted_data\n"
      ]
    },
    {
      "cell_type": "code",
      "execution_count": 30,
      "metadata": {},
      "outputs": [
        {
          "data": {
            "image/png": "[encoded data removed]",
            "text/plain": [
              "<Figure size 640x480 with 1 Axes>"
            ]
          },
          "metadata": {},
          "output_type": "display_data"
        }
      ],
      "source": [
        "b_fit = cluster.KMeans(n_clusters=5).fit(shifted_data)\n",
        "display_data(shifted_data, b_fit)\n",
        "# c_fit = cluster.Birch(n_clusters=5).fit(shifted_data)\n",
        "# display_data(shifted_data, c_fit)"
      ]
    },
    {
      "cell_type": "markdown",
      "metadata": {},
      "source": [
        "# Question 7 Answer:\n",
        "I found that setting the number of clusters to 5 gave a very good spread, with each cluster representing about a fifth of the data. Using 7 clusters also gave a reasonable division, but one cluster was significantly smaller than the rest.\n"
      ]
    },
    {
      "cell_type": "code",
      "execution_count": 31,
      "metadata": {},
      "outputs": [
        {
          "data": {
            "image/png": "[encoded data removed]",
            "text/plain": [
              "<Figure size 640x480 with 1 Axes>"
            ]
          },
          "metadata": {},
          "output_type": "display_data"
        }
      ],
      "source": [
        "b_fit = cluster.KMeans(n_clusters=7).fit(shifted_data)\n",
        "display_data(shifted_data, b_fit)"
      ]
    },
    {
      "cell_type": "markdown",
      "metadata": {},
      "source": [
        "# Resources Used:\n",
        "https://www.darkenergysurvey.org/the-des-project/survey-and-operations/\n",
        "\n",
        "https://arxiv.org/pdf/1801.03181.pdf\n",
        "\n",
        "https://en.wikipedia.org/wiki/Photometric_system"
      ]
    },
    {
      "cell_type": "markdown",
      "metadata": {
        "id": "jBUTSqcNN4ee"
      },
      "source": [
        "## <span style=\"color:Orange\">References</span>\n",
        "\n",
        "* [__<span style=\"color:Red\">1</span>__] Jupyter Notebook Example from Astro Data Lab using DES DR1: https://github.com/astro-datalab/notebooks-latest/blob/master/03_ScienceExamples/StarGalQSOSeparation/StarGalQsoDESDR1.ipynb\n",
        "\n",
        "* __[<span style=\"color:Red\">2</span>]__ DES Collaboration \"The Dark Energy Survey Data Release 1\" ApJS 239, 18, 2018, https://arxiv.org/abs/1801.03181\n",
        "\n",
        "* Data Lab concept paper: Fitzpatrick et al., \"The NOAO Data Laboratory: a conceptual overview\", SPIE, 9149, 2014, https://spie.org/Publications/Proceedings/Paper/10.1117/12.2057445?SSO=1 \n",
        "\n",
        "* Data Lab disclaimer: https://datalab.noirlab.edu/disclaimers.php"
      ]
    },
    {
      "cell_type": "markdown",
      "metadata": {},
      "source": [
        "## <span style=\"color:Orange\">Acknowledgements</span>\n",
        "\n",
        "* Initial version: Ferzem Khan with some guidance from Mark Neubauer\n",
        "\n",
        "© Copyright 2024"
      ]
    }
  ],
  "metadata": {
    "colab": {
      "provenance": []
    },
    "kernelspec": {
      "display_name": "Python 3",
      "name": "python3"
    },
    "language_info": {
      "codemirror_mode": {
        "name": "ipython",
        "version": 3
      },
      "file_extension": ".py",
      "mimetype": "text/x-python",
      "name": "python",
      "nbconvert_exporter": "python",
      "pygments_lexer": "ipython3",
      "version": "3.12.1"
    }
  },
  "nbformat": 4,
  "nbformat_minor": 0
}
