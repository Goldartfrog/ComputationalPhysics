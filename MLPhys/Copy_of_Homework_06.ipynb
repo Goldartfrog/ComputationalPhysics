{
  "cells": [
    {
      "cell_type": "markdown",
      "id": "hu-xeGr4Y0ds",
      "metadata": {
        "id": "hu-xeGr4Y0ds"
      },
      "source": [
        "# Homework 06: Forecasting Projectile Motion with Recurrent Neural Networks"
      ]
    },
    {
      "cell_type": "code",
      "execution_count": 3,
      "id": "a-utiRozzioB",
      "metadata": {
        "id": "a-utiRozzioB"
      },
      "outputs": [],
      "source": [
        "%matplotlib inline\n",
        "import matplotlib.pyplot as plt\n",
        "import seaborn as sns; sns.set()\n",
        "import numpy as np\n",
        "import pandas as pd\n",
        "import warnings\n",
        "warnings.filterwarnings('ignore')\n",
        "\n",
        "# Use CPU rather than GPU for keras neural networks\n",
        "import os\n",
        "os.environ[\"CUDA_DEVICE_ORDER\"] = \"PCI_BUS_ID\"\n",
        "os.environ[\"CUDA_VISIBLE_DEVICES\"] = \"\"\n",
        "from tensorflow import keras\n",
        "from tqdm.keras import TqdmCallback"
      ]
    },
    {
      "cell_type": "markdown",
      "id": "k0aCUaTAY0d4",
      "metadata": {
        "id": "k0aCUaTAY0d4"
      },
      "source": [
        "## <span style=\"color:LightGreen\">Projectile data used in this homework</span>"
      ]
    },
    {
      "cell_type": "markdown",
      "id": "1DQZ2drLY0d6",
      "metadata": {
        "id": "1DQZ2drLY0d6"
      },
      "source": [
        "Simulations of the motion of several trapezoid shaped projectiles after having been catapulted from the ground were performed using [notebook](https://github.com/GDS-Education-Community-of-Practice/DSECOP/blob/main/Time_Series_Analysis_and_Forecasting/01_Simulating_Projectile_Motion_with_Drag.ipynb) from the APS Group on Data Science. This is an imagined scenario but takes the simple Newtonian motion of an idealized projectile and considers a more realistic scenario of varied drag.\n",
        "\n",
        "This data includes a varied drag coefficient and projectile area for four sides of the object.\n",
        "\n",
        "A large number of these runs was simulated and saved in the file `launches.csv`. We begin by loading this file of simulated launches.\n",
        "\n",
        "In [notebook](https://github.com/GDS-Education-Community-of-Practice/DSECOP/blob/main/Time_Series_Analysis_and_Forecasting/02_Time_Series_Analysis_and_Forecasting.ipynb), some classical time series analysis techniques to better understand that data and then demonstrated linear techniques for \"forecasting\" or predicting the future state of the projectile, given some initial portion of the data.\n",
        "\n",
        "In this notebook, we will explore the use of <span style=\"color:Violet\">neural networks</span>, which as you know are nonlinear models, to forecast future states of the projectile, given the previous locations and other information. For example, if we know how the projectile travelled from time $t=0$ to time $t=10$, where will it be at time $t=11$?\n",
        "\n",
        "Although you can calculate this with Newton's second law, the previously referenced [notebook](https://github.com/GDS-Education-Community-of-Practice/DSECOP/blob/main/Time_Series_Analysis_and_Forecasting/02_Time_Series_Analysis_and_Forecasting.ipynb) demonstrated that this calculation can be more tricky if you do not know the exact drag coefficient on the projectile.\n",
        "\n",
        "We begin by loading the file of simulated launches, which will be our data for tuning and testing the neural network parameters."
      ]
    },
    {
      "cell_type": "code",
      "execution_count": 4,
      "id": "tHXdTJ4vD3zk",
      "metadata": {
        "id": "tHXdTJ4vD3zk"
      },
      "outputs": [],
      "source": [
        "# Load our launch data\n",
        "data_location = \"https://raw.githubusercontent.com/GDS-Education-Community-of-Practice/DSECOP/main/Time_Series_Analysis_and_Forecasting/launches.csv\"\n",
        "all_launches = pd.read_csv(data_location, index_col=\"Time (s)\")\n",
        "\n",
        "# Split into individual launches\n",
        "split_indices = np.where(all_launches.index[1:] - all_launches.index[0:-1] < 0)[0].tolist() # Find where time decreases (signifies different launch)\n",
        "split_indices = [0] + split_indices + [all_launches.shape[0]]\n",
        "launches = [all_launches.iloc[split_indices[i]+1:split_indices[i+1]] for i in range(100)]"
      ]
    },
    {
      "cell_type": "markdown",
      "id": "tulo_2LFjKWQ",
      "metadata": {
        "id": "tulo_2LFjKWQ"
      },
      "source": [
        "We can examine what these 100 launches look like"
      ]
    },
    {
      "cell_type": "code",
      "execution_count": 5,
      "id": "KqvfcaKojrug",
      "metadata": {
        "colab": {
          "base_uri": "https://localhost:8080/"
        },
        "id": "KqvfcaKojrug",
        "outputId": "34c9c3e8-82d7-4914-a0a8-5cb5eb690d48"
      },
      "outputs": [
        {
          "name": "stdout",
          "output_type": "stream",
          "text": [
            "Number of launches: 100\n"
          ]
        }
      ],
      "source": [
        "print(\"Number of launches: {}\".format(len(launches)))"
      ]
    },
    {
      "cell_type": "code",
      "execution_count": 6,
      "id": "qJdLdG9FjNdJ",
      "metadata": {
        "colab": {
          "base_uri": "https://localhost:8080/",
          "height": 237
        },
        "id": "qJdLdG9FjNdJ",
        "outputId": "d6df12c9-04b1-4f72-d14f-a42b2c416774"
      },
      "outputs": [
        {
          "data": {
            "text/html": [
              "<div>\n",
              "<style scoped>\n",
              "    .dataframe tbody tr th:only-of-type {\n",
              "        vertical-align: middle;\n",
              "    }\n",
              "\n",
              "    .dataframe tbody tr th {\n",
              "        vertical-align: top;\n",
              "    }\n",
              "\n",
              "    .dataframe thead th {\n",
              "        text-align: right;\n",
              "    }\n",
              "</style>\n",
              "<table border=\"1\" class=\"dataframe\">\n",
              "  <thead>\n",
              "    <tr style=\"text-align: right;\">\n",
              "      <th></th>\n",
              "      <th>Distance (m)</th>\n",
              "      <th>Height (m)</th>\n",
              "      <th>Drag coefficient</th>\n",
              "      <th>Projectile area (m^2)</th>\n",
              "    </tr>\n",
              "    <tr>\n",
              "      <th>Time (s)</th>\n",
              "      <th></th>\n",
              "      <th></th>\n",
              "      <th></th>\n",
              "      <th></th>\n",
              "    </tr>\n",
              "  </thead>\n",
              "  <tbody>\n",
              "    <tr>\n",
              "      <th>0.0</th>\n",
              "      <td>4.427921</td>\n",
              "      <td>0.563013</td>\n",
              "      <td>0.735944</td>\n",
              "      <td>0.481926</td>\n",
              "    </tr>\n",
              "    <tr>\n",
              "      <th>0.1</th>\n",
              "      <td>12.809772</td>\n",
              "      <td>4.574100</td>\n",
              "      <td>0.671363</td>\n",
              "      <td>0.496926</td>\n",
              "    </tr>\n",
              "    <tr>\n",
              "      <th>0.2</th>\n",
              "      <td>16.557326</td>\n",
              "      <td>15.916676</td>\n",
              "      <td>0.702337</td>\n",
              "      <td>0.492869</td>\n",
              "    </tr>\n",
              "    <tr>\n",
              "      <th>0.3</th>\n",
              "      <td>20.400843</td>\n",
              "      <td>24.550528</td>\n",
              "      <td>0.677031</td>\n",
              "      <td>0.476391</td>\n",
              "    </tr>\n",
              "    <tr>\n",
              "      <th>0.4</th>\n",
              "      <td>34.114391</td>\n",
              "      <td>31.817728</td>\n",
              "      <td>0.670797</td>\n",
              "      <td>0.498977</td>\n",
              "    </tr>\n",
              "  </tbody>\n",
              "</table>\n",
              "</div>"
            ],
            "text/plain": [
              "          Distance (m)  Height (m)  Drag coefficient  Projectile area (m^2)\n",
              "Time (s)                                                                   \n",
              "0.0           4.427921    0.563013          0.735944               0.481926\n",
              "0.1          12.809772    4.574100          0.671363               0.496926\n",
              "0.2          16.557326   15.916676          0.702337               0.492869\n",
              "0.3          20.400843   24.550528          0.677031               0.476391\n",
              "0.4          34.114391   31.817728          0.670797               0.498977"
            ]
          },
          "execution_count": 6,
          "metadata": {},
          "output_type": "execute_result"
        }
      ],
      "source": [
        "all_launches.head()"
      ]
    },
    {
      "cell_type": "markdown",
      "id": "WHr7rSAKjlMT",
      "metadata": {
        "id": "WHr7rSAKjlMT"
      },
      "source": [
        "As you can see, the launch data comprises of 100 launches which are made up of time points every 0.1 seconds and variables of distance, height, drag coefficient, and projectile area over these times.\n",
        "\n",
        "In this notebook, we will mostly use a single test case (launch 20, for no special reason).\n",
        "However, at the end of the notebook, all the launches will be used to train the recurrent neural network."
      ]
    },
    {
      "cell_type": "markdown",
      "id": "qxU5KmsEY0eD",
      "metadata": {
        "id": "qxU5KmsEY0eD"
      },
      "source": [
        "## <span style=\"color:LightGreen\">Forecasting projectile data with recurrent neural networks</span>"
      ]
    },
    {
      "cell_type": "markdown",
      "id": "rDahbG3eqkbs",
      "metadata": {
        "id": "rDahbG3eqkbs"
      },
      "source": [
        "<hr/>\n",
        "\n",
        "*Note:* Recurrent neural networks are often large and nonlinear and thus very complex models.\n",
        "On the one hand, this means that they are capable of capturing complicated relationships and patterns.\n",
        "On the other hand, this means that they often require a lot of challenging \"data engineering\" (getting data in the right form to force the model to see what you want it to) and parameter tuning.\n",
        "For the remainder of this notebook, you will experience some of these challenges firsthand.\n",
        "There are alternative methods for overcoming them than are presented, but know that the experience you will be having is the same as for those who use these models professionally in business and scientific applications.\n",
        "\n",
        "<hr/>\n",
        "\n",
        "Recurrent neural networks are mainly used for sequential information because of their repetitive nature.\n",
        "This is perfectly suited for time series data such as our projectile data.\n",
        "\n",
        "Similarly to the application of the [Autoregressive moving-average](https://en.wikipedia.org/wiki/Autoregressive_moving-average_model) (ARMA) linear model in previously referenced [notebook](https://github.com/GDS-Education-Community-of-Practice/DSECOP/blob/main/Time_Series_Analysis_and_Forecasting/02_Time_Series_Analysis_and_Forecasting.ipynb), we will consider our test launch as our training data.\n",
        "As we did in the example, we will consider taking two steps of the distance variable and try to predict the next distance."
      ]
    },
    {
      "cell_type": "code",
      "execution_count": 7,
      "id": "WU8ttzxu8p6I",
      "metadata": {
        "id": "WU8ttzxu8p6I"
      },
      "outputs": [],
      "source": [
        "# Get our test launch data\n",
        "test_launch = launches[20]\n",
        "\n",
        "# Take the first quarter of the data\n",
        "distance = test_launch[\"Distance (m)\"]\n",
        "quarter_distance = np.array(distance.iloc[1:17])\n",
        "quarter_height = np.array(test_launch[\"Height (m)\"].iloc[1:17])\n",
        "\n",
        "# Organize the data for our recurrent neural network\n",
        "k = 2\n",
        "distance_in = []\n",
        "distance_out = []\n",
        "for i in range(len(quarter_distance)-k):\n",
        "  # Take k samples at time t_i ... t_{i+k-1}\n",
        "  distance_in.append(quarter_distance[i:i+k].reshape((k,1)))\n",
        "  # Get function output at time t_{i+k}\n",
        "  distance_out.append(quarter_distance[i+k])\n",
        "\n",
        "distance_in = np.array(distance_in)\n",
        "distance_out = np.array(distance_out)"
      ]
    },
    {
      "cell_type": "code",
      "execution_count": 8,
      "id": "hAth-ag0_Jht",
      "metadata": {
        "colab": {
          "base_uri": "https://localhost:8080/",
          "height": 49,
          "referenced_widgets": [
            "65b7812c5d064651894e1602b16fa1da",
            "1d659029073a4ebb9255f38684ee459b",
            "5d252a1b271741e1b5dfaaa37ef8ad8a",
            "0de3c09f39de4943993cb5a213658c5f",
            "47adcbeb147045de89219da4bfba3267",
            "a1af153143bf47dfb8e178acde1cd6be",
            "d7fbafb6a7c24f6c8e382cdcad5c5932",
            "f6521be9c74641f2b241a7f7a67c488a",
            "dcb17349ff8d419db4f5e942a54579cf",
            "7e209d8be92c4fed9584df9d2d387221",
            "97a5c49042a4487bae5a1160e03ab804"
          ]
        },
        "id": "hAth-ag0_Jht",
        "outputId": "abf2ae6c-afb3-4b5a-8304-e06fe43793c1"
      },
      "outputs": [
        {
          "name": "stderr",
          "output_type": "stream",
          "text": [
            "100%|██████████| 2000/2000 [00:34<00:00, 58.13epoch/s, loss=24.1]  \n"
          ]
        }
      ],
      "source": [
        "keras.utils.set_random_seed(0)\n",
        "\n",
        "# Make simple many to one model (input 2 samples of size 1)\n",
        "x = keras.layers.Input(shape=(k,1))\n",
        "y = keras.layers.SimpleRNN(10,activation=\"tanh\", return_sequences=True)(x)\n",
        "y = keras.layers.SimpleRNN(1,activation=\"linear\", return_sequences=False)(y)\n",
        "distance_model  = keras.Model(inputs=x,outputs=y)\n",
        "\n",
        "# Train model\n",
        "distance_model.compile(\n",
        "    optimizer = keras.optimizers.Adam(),\n",
        "    loss = keras.losses.MeanSquaredError()\n",
        ")\n",
        "history = distance_model.fit(\n",
        "    distance_in,\n",
        "    distance_out,\n",
        "    batch_size=10,         # The training takes groups of samples (in this case 10 samples at a time)\n",
        "    epochs=2000,           # The number of times to iterate through our dataset\n",
        "    validation_split = 0 , # Use 0% of data to check accuracy\n",
        "    verbose=0,             # Don't print info as it trains\n",
        "    callbacks=[TqdmCallback(verbose=0)]\n",
        ")"
      ]
    },
    {
      "cell_type": "code",
      "execution_count": 9,
      "id": "lJvfoPdpgRhU",
      "metadata": {
        "colab": {
          "base_uri": "https://localhost:8080/",
          "height": 373
        },
        "id": "lJvfoPdpgRhU",
        "outputId": "14b35f0c-542c-4459-ebfb-3316718dcfa0"
      },
      "outputs": [
        {
          "data": {
            "image/png": "[encoded data removed]",
            "text/plain": [
              "<Figure size 1000x400 with 1 Axes>"
            ]
          },
          "metadata": {},
          "output_type": "display_data"
        }
      ],
      "source": [
        "# Plot prediction and the true values\n",
        "data_distance = distance.iloc[17:]\n",
        "data_height = test_launch[\"Height (m)\"].iloc[17:]\n",
        "\n",
        "# Run predictions through the model to get the next time step\n",
        "predictions = [distance_in[-1][i,0] for i in range(k)]\n",
        "for i in range(len(data_distance)):\n",
        "  # Get the k previous steps\n",
        "  i_input = np.array([predictions[-i] for i in range(k,0,-1)])\n",
        "  prediction = distance_model(i_input.reshape((1,k,1)))\n",
        "  # Convert single value matrix to just a number\n",
        "  predictions.append(np.array(prediction)[0][0])\n",
        "\n",
        "# Cut out first k predictions (that we actually already knew)\n",
        "predictions = np.array(predictions[k:])\n",
        "\n",
        "# Plot\n",
        "plt.close('all')\n",
        "plt.figure(figsize=(10,4))\n",
        "plt.scatter(quarter_distance, quarter_height, label=\"Input\")\n",
        "plt.scatter(data_distance, data_height, label=\"True data\")\n",
        "plt.scatter(predictions, data_height, label=\"Predicted data\")\n",
        "plt.legend()\n",
        "plt.show()"
      ]
    },
    {
      "cell_type": "markdown",
      "id": "28SZyNgZKsbP",
      "metadata": {
        "id": "28SZyNgZKsbP"
      },
      "source": [
        "Well, those predictions are no good!\n",
        "Apparently, our model is unable to predict the next portion of the data..\n",
        "This is because the model is not good at \"extrapolation\" or predicting beyond where it was trained (this is more common for nonlinear models like our recurrent neural network than for linear models like ARMA because they are more flexible).\n",
        "Note that all of the input data is in the range 0 to 75.\n",
        "It seems that as soon as we give data beyond that, the model spits out values that it has seen before.\n",
        "\n",
        "One way to avoid this issue would be to first make our data stationary or close to stationary (see the previously referenced [notebook](https://github.com/GDS-Education-Community-of-Practice/DSECOP/blob/main/Time_Series_Analysis_and_Forecasting/02_Time_Series_Analysis_and_Forecasting.ipynb) for more information).\n",
        "We can do this by subtracting the data at the previous time from the current data.\n",
        "Our new stationary distance will then be in the range of the training data and work better with our network."
      ]
    },
    {
      "cell_type": "code",
      "execution_count": 10,
      "id": "oqyivZMgn4b3",
      "metadata": {
        "id": "oqyivZMgn4b3"
      },
      "outputs": [],
      "source": [
        "keras.utils.set_random_seed(0)\n",
        "\n",
        "# Take the first quarter of the data (stationary)\n",
        "original_distance = test_launch[\"Distance (m)\"].shift()\n",
        "distance = test_launch[\"Distance (m)\"] - test_launch[\"Distance (m)\"].shift()\n",
        "quarter_distance = np.array(distance.iloc[1:17])\n",
        "quarter_height = np.array(test_launch[\"Height (m)\"].iloc[1:17])\n",
        "\n",
        "# Organize the data for our recurrent neural network\n",
        "k = 2\n",
        "distance_in = []\n",
        "distance_out = []\n",
        "for i in range(len(quarter_distance)-k):\n",
        "  # Take k samples at time t_i ... t_{i+k-1}\n",
        "  distance_in.append(quarter_distance[i:i+k].reshape((k,1)))\n",
        "  # Get function output at time t_{i+k}\n",
        "  distance_out.append(quarter_distance[i+k])\n",
        "\n",
        "distance_in = np.array(distance_in)\n",
        "distance_out = np.array(distance_out)"
      ]
    },
    {
      "cell_type": "markdown",
      "id": "g8S38ouin8sP",
      "metadata": {
        "id": "g8S38ouin8sP"
      },
      "source": [
        "Now, we can make a new model and train it with this new stationary data."
      ]
    },
    {
      "cell_type": "code",
      "execution_count": 11,
      "id": "0Fjggy9roO02",
      "metadata": {
        "colab": {
          "base_uri": "https://localhost:8080/",
          "height": 49,
          "referenced_widgets": [
            "a063b430a66f4a47a36f8d2d369c53cd",
            "086ca6406659400091cfdf353b1b8bea",
            "b16cacced1d649a9b4ae80fd70e3418a",
            "9744f28afe2a4e139afb22ac292810c0",
            "5268f5217c44461394d2b3bb6c40e73e",
            "b1b5c250b19d4e288bf25daf928a47e4",
            "fa074baadbbd4b248fae868689b6483d",
            "d3009f7530164f9e89df0e6c21271cf4",
            "397dc60b403b4785a672ea8a2f27d778",
            "d28ff2ac186c4e1ca44738589215333c",
            "5d3833564bbf420e84f6e5c7ce4dccca"
          ]
        },
        "id": "0Fjggy9roO02",
        "outputId": "de419352-5738-4533-ff23-223bc25e3183"
      },
      "outputs": [
        {
          "name": "stderr",
          "output_type": "stream",
          "text": [
            "100%|██████████| 2000/2000 [00:40<00:00, 49.26epoch/s, loss=11.6]\n"
          ]
        }
      ],
      "source": [
        "# Make simple many to one model (input 2 samples of size 1)\n",
        "x = keras.layers.Input(shape=(k,1))\n",
        "y = keras.layers.SimpleRNN(10,activation=\"tanh\", return_sequences=True)(x)\n",
        "y = keras.layers.SimpleRNN(1,activation=\"linear\", return_sequences=False)(y)\n",
        "distance_model  = keras.Model(inputs=x,outputs=y)\n",
        "\n",
        "# Train model\n",
        "distance_model.compile(\n",
        "    optimizer = keras.optimizers.Adam(),\n",
        "    loss = keras.losses.MeanSquaredError()\n",
        ")\n",
        "history = distance_model.fit(\n",
        "    distance_in,\n",
        "    distance_out,\n",
        "    batch_size=10,         # The training takes groups of samples (in this case 10 samples at a time)\n",
        "    epochs=2000,           # The number of times to iterate through our dataset\n",
        "    validation_split = 0,  # Use 0% of data to check accuracy\n",
        "    verbose=0,             # Don't print info as it trains\n",
        "    callbacks=[TqdmCallback(verbose=0)]\n",
        ")"
      ]
    },
    {
      "cell_type": "markdown",
      "id": "8Tnt15S7oQLA",
      "metadata": {
        "id": "8Tnt15S7oQLA"
      },
      "source": [
        "And now we can make and plot the predictions."
      ]
    },
    {
      "cell_type": "code",
      "execution_count": 12,
      "id": "A6QZaATvhfwO",
      "metadata": {
        "colab": {
          "base_uri": "https://localhost:8080/",
          "height": 373
        },
        "id": "A6QZaATvhfwO",
        "outputId": "1a008fe4-3345-43c1-aa2b-2113f65548d6"
      },
      "outputs": [
        {
          "data": {
            "image/png": "[encoded data removed]",
            "text/plain": [
              "<Figure size 1000x400 with 1 Axes>"
            ]
          },
          "metadata": {},
          "output_type": "display_data"
        }
      ],
      "source": [
        "# Plot prediction and the true values\n",
        "data_distance = distance.iloc[17:]\n",
        "data_height = test_launch[\"Height (m)\"].iloc[17:]\n",
        "\n",
        "# Run predictions through the model to get the next time step\n",
        "predictions = [distance_in[-1][i,0] for i in range(k)]\n",
        "for i in range(len(data_distance)):\n",
        "  # Get the k previous steps\n",
        "  i_input = np.array([predictions[-i] for i in range(k,0,-1)])\n",
        "  prediction = distance_model(i_input.reshape((1,k,1)))\n",
        "  # Convert single value matrix to just a number\n",
        "  predictions.append(np.array(prediction)[0][0])\n",
        "\n",
        "# Cut out first k predictions (that we actually already knew)\n",
        "predictions = np.array(predictions[k:])\n",
        "\n",
        "# Shift data and predictions\n",
        "shift_quarter_distance = quarter_distance+original_distance.iloc[1:17]\n",
        "shift_data_distance = data_distance+original_distance.iloc[17:]\n",
        "shift_predictions = [predictions[0]+original_distance.iloc[17]]\n",
        "for pred in predictions[1:]:\n",
        "  shift_predictions.append(pred + shift_predictions[-1])\n",
        "\n",
        "# Plot\n",
        "plt.close('all')\n",
        "plt.figure(figsize=(10,4))\n",
        "plt.scatter(shift_quarter_distance, quarter_height, label=\"Input\")\n",
        "plt.scatter(shift_data_distance, data_height, label=\"True data\")\n",
        "plt.scatter(shift_predictions, data_height, label=\"Predicted data\")\n",
        "plt.legend()\n",
        "plt.show()"
      ]
    },
    {
      "cell_type": "markdown",
      "id": "wHq3bfugh_GX",
      "metadata": {
        "id": "wHq3bfugh_GX"
      },
      "source": [
        "Well that worked enormously better!\n",
        "But the results still look somewhat equivalent to the linear models of ARMA in the previously referenced [notebook](https://github.com/GDS-Education-Community-of-Practice/DSECOP/blob/main/Time_Series_Analysis_and_Forecasting/02_Time_Series_Analysis_and_Forecasting.ipynb).\n",
        "\n",
        "---"
      ]
    },
    {
      "cell_type": "markdown",
      "id": "IH-kOEf8Y0eO",
      "metadata": {
        "id": "IH-kOEf8Y0eO"
      },
      "source": [
        "## <span style=\"color:Orange\">Problem 1</span>"
      ]
    },
    {
      "cell_type": "markdown",
      "id": "8gUF2wOOL8Nv",
      "metadata": {
        "id": "8gUF2wOOL8Nv"
      },
      "source": [
        "Try adding more `SimpleRNN` layers, changing the number of nodes in the layers, adding more training `epochs`, and adjusting the number of time points `k` for the dataset to acheive more accurate results. Remake the last plot above with this better tuned hyperparameters.\n",
        "\n",
        "How close can you get to a good prediction of the projectile data?\n",
        "\n",
        "*Note:* It is recommended that you change one at a time to see how each component affects the results."
      ]
    },
    {
      "cell_type": "code",
      "execution_count": 37,
      "id": "fHtN-LhXKxmg",
      "metadata": {
        "colab": {
          "base_uri": "https://localhost:8080/",
          "height": 49,
          "referenced_widgets": [
            "bd5d179b029a4c68b4409c15ee82cdac",
            "aeda17186c194d10bc5542875405215b",
            "2609601d3fdb4a84ba56837044db5661",
            "1d73d23a48274df5a1d2ce1fa4b1b86d",
            "8c97a14e02e245b88552032bca9b1185",
            "4ec232aa1e0b462fa5037d1f0afb76dd",
            "431e8a23ebc3426bbb7fb1dc332ae52c",
            "ad863d399e67474480c799c1c5b73b60",
            "2c4c46987d3b473e9b892824b3a41f4f",
            "f9b5420828cd40db8e8ac2413daea79f",
            "42101cb74817487cacb2c9617567afd6"
          ]
        },
        "id": "fHtN-LhXKxmg",
        "outputId": "0f4176b2-2e0b-4188-b755-743f04ee4881"
      },
      "outputs": [
        {
          "name": "stderr",
          "output_type": "stream",
          "text": [
            "100%|██████████| 700/700 [00:33<00:00, 20.68epoch/s, loss=4.89, val_loss=32]  \n"
          ]
        }
      ],
      "source": [
        "# YOUR CODE HERE\n",
        "keras.utils.set_random_seed(0)\n",
        "\n",
        "# Take the first quarter of the data (stationary)\n",
        "original_distance = test_launch[\"Distance (m)\"].shift()\n",
        "distance = test_launch[\"Distance (m)\"] - test_launch[\"Distance (m)\"].shift()\n",
        "quarter_distance = np.array(distance.iloc[1:17])\n",
        "quarter_height = np.array(test_launch[\"Height (m)\"].iloc[1:17])\n",
        "\n",
        "# Organize the data for our recurrent neural network\n",
        "k = 2\n",
        "distance_in = []\n",
        "distance_out = []\n",
        "for i in range(len(quarter_distance)-k):\n",
        "  # Take k samples at time t_i ... t_{i+k-1}\n",
        "  distance_in.append(quarter_distance[i:i+k].reshape((k,1)))\n",
        "  # Get function output at time t_{i+k}\n",
        "  distance_out.append(quarter_distance[i+k])\n",
        "\n",
        "distance_in = np.array(distance_in)\n",
        "distance_out = np.array(distance_out)\n",
        "\n",
        "# Make simple many to one model (input 2 samples of size 1)\n",
        "x = keras.layers.Input(shape=(k,1))\n",
        "y = keras.layers.SimpleRNN(100,activation=\"tanh\", return_sequences=True)(x)\n",
        "y = keras.layers.SimpleRNN(10,activation=\"tanh\", return_sequences=True)(y)\n",
        "y = keras.layers.SimpleRNN(1,activation=\"linear\", return_sequences=False)(y)\n",
        "distance_model  = keras.Model(inputs=x,outputs=y)\n",
        "\n",
        "# Train model\n",
        "distance_model.compile(\n",
        "    optimizer = keras.optimizers.Adam(),\n",
        "    loss = keras.losses.MeanSquaredError()\n",
        ")\n",
        "history = distance_model.fit(\n",
        "    distance_in,\n",
        "    distance_out,\n",
        "    batch_size=10,         # The training takes groups of samples (in this case 10 samples at a time)\n",
        "    epochs=700,           # The number of times to iterate through our dataset\n",
        "    validation_split = 0.1,  # Use 10% of data to check accuracy\n",
        "    verbose=0,             # Don't print info as it trains\n",
        "    callbacks=[TqdmCallback(verbose=0)]\n",
        ")"
      ]
    },
    {
      "cell_type": "code",
      "execution_count": 38,
      "id": "KjkyEEvYgn3v",
      "metadata": {
        "colab": {
          "base_uri": "https://localhost:8080/",
          "height": 373
        },
        "id": "KjkyEEvYgn3v",
        "outputId": "80731178-0779-4165-9f79-95094bad0043"
      },
      "outputs": [
        {
          "data": {
            "image/png": "[encoded data removed]",
            "text/plain": [
              "<Figure size 1000x400 with 1 Axes>"
            ]
          },
          "metadata": {},
          "output_type": "display_data"
        }
      ],
      "source": [
        "# Plot prediction and the true values\n",
        "data_distance = distance.iloc[17:]\n",
        "data_height = test_launch[\"Height (m)\"].iloc[17:]\n",
        "\n",
        "# Run predictions through the model to get the next time step\n",
        "predictions = [distance_in[-1][i,0] for i in range(k)]\n",
        "for i in range(len(data_distance)):\n",
        "  # Get the k previous steps\n",
        "  i_input = np.array([predictions[-i] for i in range(k,0,-1)])\n",
        "  prediction = distance_model(i_input.reshape((1,k,1)))\n",
        "  # Convert single value matrix to just a number\n",
        "  predictions.append(np.array(prediction)[0][0])\n",
        "\n",
        "# Cut out first k predictions (that we actually already knew)\n",
        "predictions = np.array(predictions[k:])\n",
        "\n",
        "# Shift data and predictions\n",
        "shift_quarter_distance = quarter_distance+original_distance.iloc[1:17]\n",
        "shift_data_distance = data_distance+original_distance.iloc[17:]\n",
        "shift_predictions = [predictions[0]+original_distance.iloc[17]]\n",
        "for pred in predictions[1:]:\n",
        "  shift_predictions.append(pred + shift_predictions[-1])\n",
        "\n",
        "# Plot\n",
        "plt.close('all')\n",
        "plt.figure(figsize=(10,4))\n",
        "plt.scatter(shift_quarter_distance, quarter_height, label=\"Input\")\n",
        "plt.scatter(shift_data_distance, data_height, label=\"True data\")\n",
        "plt.scatter(shift_predictions, data_height, label=\"Predicted data\")\n",
        "plt.legend()\n",
        "plt.show()"
      ]
    },
    {
      "cell_type": "code",
      "execution_count": 39,
      "id": "7vCpa7joi0Kd",
      "metadata": {
        "colab": {
          "base_uri": "https://localhost:8080/",
          "height": 573
        },
        "id": "7vCpa7joi0Kd",
        "outputId": "58c7504d-8901-4d71-ef9a-da84758978e6"
      },
      "outputs": [
        {
          "data": {
            "image/png": "[encoded data removed]",
            "text/plain": [
              "<Figure size 1000x600 with 1 Axes>"
            ]
          },
          "metadata": {},
          "output_type": "display_data"
        }
      ],
      "source": [
        "# Chatgpt helped me make some of this function quickly\n",
        "def plot_rnn_training_loss(history):\n",
        "    \"\"\"\n",
        "    Plots the training loss of a Keras RNN model.\n",
        "\n",
        "    Parameters:\n",
        "    - history: The history callback object returned from the `fit` method of a Keras model.\n",
        "\n",
        "    Returns:\n",
        "    - A plot showing the training loss over epochs.\n",
        "    \"\"\"\n",
        "    # Extract loss values from the history object\n",
        "    loss = history.history['loss']\n",
        "    val = history.history['val_loss']\n",
        "    epochs = range(1, len(loss) + 1)\n",
        "\n",
        "    # Plotting the loss\n",
        "    plt.figure(figsize=(10, 6))\n",
        "    plt.plot(epochs, loss, label='Training loss')\n",
        "    plt.plot(epochs, val, label='Validation loss')\n",
        "    plt.title('Training Loss')\n",
        "    plt.xlabel('Epochs')\n",
        "    plt.ylabel('Loss')\n",
        "    plt.legend()\n",
        "\n",
        "    plt.show()\n",
        "plot_rnn_training_loss(history)"
      ]
    },
    {
      "cell_type": "markdown",
      "id": "nrx3lZw-i0Ek",
      "metadata": {
        "id": "nrx3lZw-i0Ek"
      },
      "source": [
        "----\n",
        "\n",
        "Now, up until now, our data has been entirely based on the distance information.\n",
        "However, our dataset contains more than just distance.\n",
        "Also, notably, classical linear models such as ARMA cannot easily incorporate more than one variable.\n",
        "But neural networks are very well suited to high dimensional data.\n",
        "\n",
        "What if we also include the height variable in the training and prediction?"
      ]
    },
    {
      "cell_type": "code",
      "execution_count": 40,
      "id": "hy0_9LS8xTEG",
      "metadata": {
        "colab": {
          "base_uri": "https://localhost:8080/",
          "height": 405,
          "referenced_widgets": [
            "c74d1c8d09e04eaca426b549e217365f",
            "7707f90480674be4a3b75b2306e0315e",
            "0f65db13bcad4994986bf3b202c61d59",
            "59d7fef4a3c44fcab69688df1b27ff46",
            "1150101e184643ffacc06bee3375b7a7",
            "4bf79baa300f4114a3e53df10a1ba10c",
            "fe9c6afa208a4cfd9fac129c09f92335",
            "a2c4790065424fd8a4c6124d93602435",
            "bf7ec20072eb4058be647ae7ed6438b2",
            "7d519f50156f412cbf1144aee9180ef9",
            "7129b5319193458594bb33449d726de1"
          ]
        },
        "id": "hy0_9LS8xTEG",
        "outputId": "a0143cfc-5595-4a2c-8e86-3b20d90ad629"
      },
      "outputs": [
        {
          "name": "stderr",
          "output_type": "stream",
          "text": [
            "100%|██████████| 2000/2000 [00:33<00:00, 59.70epoch/s, loss=4.54e-7] \n"
          ]
        },
        {
          "data": {
            "image/png": "[encoded data removed]",
            "text/plain": [
              "<Figure size 1000x400 with 1 Axes>"
            ]
          },
          "metadata": {},
          "output_type": "display_data"
        }
      ],
      "source": [
        "keras.utils.set_random_seed(0)\n",
        "\n",
        "# Take the first quarter of the data (stationary)\n",
        "original_dh = test_launch[[\"Distance (m)\", \"Height (m)\"]].shift()\n",
        "dh_data = test_launch[[\"Distance (m)\", \"Height (m)\"]] - test_launch[[\"Distance (m)\", \"Height (m)\"]].shift()\n",
        "quarter_dh = np.array(dh_data.iloc[1:17])\n",
        "quarter_height = np.array(test_launch[\"Height (m)\"].iloc[1:17])\n",
        "\n",
        "# Organize the data for our recurrent neural network\n",
        "k = 4\n",
        "dh_in = []\n",
        "distance_out = []\n",
        "for i in range(len(quarter_dh)-k):\n",
        "  # Take k samples at time t_i ... t_{i+k-1}\n",
        "  dh_in.append(quarter_dh[i:i+k])\n",
        "  # Get function output at time t_{i+k}\n",
        "  distance_out.append(quarter_dh[i+k,0])\n",
        "\n",
        "dh_in = np.array(dh_in)\n",
        "distance_out = np.array(distance_out)\n",
        "\n",
        "# Make simple many to one model (input 2 samples of size 2 variables)\n",
        "x = keras.layers.Input(shape=(k,2))\n",
        "y = keras.layers.SimpleRNN(10,activation=\"tanh\", return_sequences=True)(x)\n",
        "y = keras.layers.SimpleRNN(1,activation=\"linear\", return_sequences=False)(y)\n",
        "dh_model  = keras.Model(inputs=x,outputs=y)\n",
        "\n",
        "# Train model\n",
        "dh_model.compile(\n",
        "    optimizer = keras.optimizers.Adam(),\n",
        "    loss = keras.losses.MeanSquaredError()\n",
        ")\n",
        "history = dh_model.fit(\n",
        "    dh_in,\n",
        "    distance_out,\n",
        "    batch_size=10,         # The training takes groups of samples (in this case 10 samples at a time)\n",
        "    epochs=2000,           # The number of times to iterate through our dataset\n",
        "    validation_split = 0,  # Use 0% of data to check accuracy\n",
        "    verbose=0,             # Don't print info as it trains\n",
        "    callbacks=[TqdmCallback(verbose=0)]\n",
        ")\n",
        "\n",
        "# Plot prediction and the true values\n",
        "data_distance = test_launch[\"Distance (m)\"].iloc[17:]\n",
        "data_height = test_launch[\"Height (m)\"].iloc[17:]\n",
        "\n",
        "# Run predictions through the model to get the next time step\n",
        "predictions = [dh_in[-1][i,0] for i in range(k)]\n",
        "for i in range(len(data_distance)):\n",
        "  # Get the k previous steps of height and with predicted distance\n",
        "  i_input = np.vstack([\n",
        "      np.array([predictions[-i] for i in range(k,0,-1)]),\n",
        "      np.array([dh_data[\"Height (m)\"].iloc[17+i-j] for j in range(k,0,-1)])\n",
        "  ]).T\n",
        "  prediction = dh_model(i_input.reshape((1,k,2)))\n",
        "  # Convert single value matrix to just a number\n",
        "  predictions.append(np.array(prediction)[0][0])\n",
        "\n",
        "# Cut out first k predictions (that we actually already knew)\n",
        "predictions = np.array(predictions[k:])\n",
        "\n",
        "# Shift data and predictions\n",
        "shift_quarter_distance = quarter_dh[:,0]+original_dh[\"Distance (m)\"].iloc[1:17]\n",
        "shift_data_distance = data_distance\n",
        "shift_predictions = [predictions[0]+original_dh[\"Distance (m)\"].iloc[17]]\n",
        "for pred in predictions[1:]:\n",
        "  shift_predictions.append(pred + shift_predictions[-1])\n",
        "\n",
        "# Plot\n",
        "plt.close('all')\n",
        "plt.figure(figsize=(10,4))\n",
        "plt.scatter(shift_quarter_distance, quarter_height, label=\"Input\")\n",
        "plt.scatter(shift_data_distance, data_height, label=\"True data\")\n",
        "plt.scatter(shift_predictions, data_height, label=\"Predicted data\")\n",
        "plt.legend()\n",
        "plt.show()"
      ]
    },
    {
      "cell_type": "markdown",
      "id": "mUsDPw5TP198",
      "metadata": {
        "id": "mUsDPw5TP198"
      },
      "source": [
        "This result doesn't look too different from our previous result, but notice that we needed to change to use `k=4` previous time points to make the prediction.\n",
        "\n",
        "You can try to use `k=2` to see the interesting predictions that it yields (because the height values repeat themselves when the projectile comes back down, the predictions show distance decreasing!).\n",
        "\n",
        "---"
      ]
    },
    {
      "cell_type": "markdown",
      "id": "3DHX9lK6Y0eT",
      "metadata": {
        "id": "3DHX9lK6Y0eT"
      },
      "source": [
        "## <span style=\"color:Orange\">Problem 2</span>"
      ]
    },
    {
      "cell_type": "markdown",
      "id": "HT4wowHvQQGR",
      "metadata": {
        "id": "HT4wowHvQQGR"
      },
      "source": [
        "Using the example above, include the other variables in our dataset.\n",
        "Namely, include the drag coefficient and projectile area.\n",
        "\n",
        "Do these help with the prediction accuracy (without changing anything else)?\n",
        "Why or why not might that be?"
      ]
    },
    {
      "cell_type": "code",
      "execution_count": 67,
      "id": "HRAMCgXMQduC",
      "metadata": {
        "colab": {
          "base_uri": "https://localhost:8080/",
          "height": 49,
          "referenced_widgets": [
            "83ef9fc65409470b9490b180fa58a87f",
            "8f99eb1c675a4d7c831b210228e9061e",
            "75f74772c24b4df49bb91cb2803cb381",
            "1129f8645b3345e4b847c5cf2a4c39d7",
            "f9b51b4b367d4ab59000292a830f27c7",
            "32b81bb2a8e4468a86edeaefa732b01e",
            "dc20b977a67d43739ccf1290f6aa536d",
            "4ee1822028924682b2d5280bbbc7cff1",
            "0c826e92383d4b59b717bb8885f220ae",
            "ae738eb7cd724f7da7980666539647b5",
            "011cb3a587ec4daf9745e27e18301384"
          ]
        },
        "id": "HRAMCgXMQduC",
        "outputId": "5ed08267-7861-472f-a841-e454225114e5"
      },
      "outputs": [
        {
          "name": "stderr",
          "output_type": "stream",
          "text": [
            "100%|██████████| 2000/2000 [00:29<00:00, 67.81epoch/s, loss=4.62e-6] \n"
          ]
        }
      ],
      "source": [
        "# YOUR CODE HERE\n",
        "keras.utils.set_random_seed(0)\n",
        "# print(test_launch.describe())\n",
        "# Take the first quarter of the data (stationary)\n",
        "original_dh = test_launch[[\"Distance (m)\", \"Height (m)\", \"Drag coefficient\", \"Projectile area (m^2)\"]].shift()\n",
        "dh_data = test_launch[[\"Distance (m)\", \"Height (m)\", \"Drag coefficient\", \"Projectile area (m^2)\"]] - test_launch[[\"Distance (m)\", \"Height (m)\", \"Drag coefficient\", \"Projectile area (m^2)\"]].shift()\n",
        "quarter_dh = np.array(dh_data.iloc[1:17])\n",
        "quarter_height = np.array(test_launch[\"Height (m)\"].iloc[1:17])\n",
        "\n",
        "\n",
        "# Organize the data for our recurrent neural network\n",
        "k = 4\n",
        "dh_in = []\n",
        "distance_out = []\n",
        "for i in range(len(quarter_dh)-k):\n",
        "  # Take k samples at time t_i ... t_{i+k-1}\n",
        "  dh_in.append(quarter_dh[i:i+k])\n",
        "  # Get function output at time t_{i+k}\n",
        "  distance_out.append(quarter_dh[i+k,0])\n",
        "\n",
        "dh_in = np.array(dh_in)\n",
        "distance_out = np.array(distance_out)\n",
        "\n",
        "# Make simple many to one model (input 2 samples of size 2 variables)\n",
        "x = keras.layers.Input(shape=(k,4))\n",
        "y = keras.layers.SimpleRNN(10,activation=\"tanh\", return_sequences=True)(x)\n",
        "y = keras.layers.SimpleRNN(1,activation=\"linear\", return_sequences=False)(y)\n",
        "dh_model  = keras.Model(inputs=x,outputs=y)\n",
        "\n",
        "# Train model\n",
        "dh_model.compile(\n",
        "    optimizer = keras.optimizers.Adam(),\n",
        "    loss = keras.losses.MeanSquaredError()\n",
        ")\n",
        "history = dh_model.fit(\n",
        "    dh_in,\n",
        "    distance_out,\n",
        "    batch_size=10,         # The training takes groups of samples (in this case 10 samples at a time)\n",
        "    epochs=2000,           # The number of times to iterate through our dataset\n",
        "    validation_split = 0,  # Use 0% of data to check accuracy\n",
        "    verbose=0,             # Don't print info as it trains\n",
        "    callbacks=[TqdmCallback(verbose=0)]\n",
        ")\n"
      ]
    },
    {
      "cell_type": "code",
      "execution_count": 66,
      "id": "JjB7u2Op8edI",
      "metadata": {
        "colab": {
          "base_uri": "https://localhost:8080/",
          "height": 373
        },
        "id": "JjB7u2Op8edI",
        "outputId": "10f51eef-f562-4616-e75d-5a341d266e76"
      },
      "outputs": [
        {
          "data": {
            "image/png": "[encoded data removed]",
            "text/plain": [
              "<Figure size 1000x400 with 1 Axes>"
            ]
          },
          "metadata": {},
          "output_type": "display_data"
        }
      ],
      "source": [
        "# Plot prediction and the true values\n",
        "data_distance = test_launch[\"Distance (m)\"].iloc[17:]\n",
        "data_height = test_launch[\"Height (m)\"].iloc[17:]\n",
        "\n",
        "# Run predictions through the model to get the next time step\n",
        "predictions = [dh_in[-1][i,0] for i in range(k)]\n",
        "for i in range(len(data_distance)):\n",
        "  # Get the k previous steps of height and with predicted distance\n",
        "  i_input = np.vstack([\n",
        "      np.array([predictions[-i] for i in range(k,0,-1)]),\n",
        "      np.array([dh_data[\"Height (m)\"].iloc[17+i-j] for j in range(k,0,-1)]),\n",
        "      np.array([dh_data[\"Drag coefficient\"].iloc[17+i-j] for j in range(k,0,-1)]),\n",
        "      np.array([dh_data[\"Projectile area (m^2)\"].iloc[17+i-j] for j in range(k,0,-1)])\n",
        "  ]).T\n",
        "  prediction = dh_model(i_input.reshape((1,k,4)))\n",
        "  # Convert single value matrix to just a number\n",
        "  predictions.append(np.array(prediction)[0][0])\n",
        "\n",
        "# Cut out first k predictions (that we actually already knew)\n",
        "predictions = np.array(predictions[k:])\n",
        "\n",
        "# Shift data and predictions\n",
        "shift_quarter_distance = quarter_dh[:,0]+original_dh[\"Distance (m)\"].iloc[1:17]\n",
        "shift_data_distance = data_distance\n",
        "shift_predictions = [predictions[0]+original_dh[\"Distance (m)\"].iloc[17]]\n",
        "for pred in predictions[1:]:\n",
        "  shift_predictions.append(pred + shift_predictions[-1])\n",
        "\n",
        "# Plot\n",
        "plt.close('all')\n",
        "plt.figure(figsize=(10,4))\n",
        "plt.scatter(shift_quarter_distance, quarter_height, label=\"Input\")\n",
        "plt.scatter(shift_data_distance, data_height, label=\"True data\")\n",
        "plt.scatter(shift_predictions, data_height, label=\"Predicted data\")\n",
        "plt.legend()\n",
        "plt.show()"
      ]
    },
    {
      "cell_type": "markdown",
      "id": "1nReL3axRmzW",
      "metadata": {
        "id": "1nReL3axRmzW"
      },
      "source": [
        "Including the drag and area doesn't seem to help with the prediction at all.\n",
        "This may be because the drag and area both assist in determining the jump in the distance between time points, which is already captured fairly well by the previous distance points.\n",
        "In other words, the drag and area are almost redundant information given the previous distance samples.\n",
        "\n",
        "----"
      ]
    },
    {
      "cell_type": "markdown",
      "id": "5l8okl7bY0eW",
      "metadata": {
        "id": "5l8okl7bY0eW"
      },
      "source": [
        "## <span style=\"color:Orange\">Problem 3</span>"
      ]
    },
    {
      "cell_type": "markdown",
      "id": "L70ALlLJSNK9",
      "metadata": {
        "id": "L70ALlLJSNK9"
      },
      "source": [
        "So far, we have only used a single test launch.\n",
        "However, the network training can be improved by incorporating all of the launches.\n",
        "In fact, all of the launches can be used in their entirety to train the network, after which we can test it on the case we have been considering.\n",
        "\n",
        "In this problem, fit (or train) the network on all of the data contained in `launches` except for the 20th entry (which is `test_launch`), then predict on the last 3/4 of the data from `test_launch` as the previous examples and problems have shown (which envisions only seeing the first part of the trajectory and needing to know the rest).\n",
        "The notebook cell for organizing the stationary data earlier in the notebook is a good starting point for what to change to add all the launches in.\n",
        "\n",
        "*Note:* You will likely need to decrease the number of `epochs` due to the much larger dataset.\n",
        "Also, use `np.any(np.isnan())` to make sure you don't add anything with `NaN` (not a number) to the dataset.\n",
        "\n",
        "*Help:* To work with the `all_launches` Pandas dataset, [this cheatsheet](https://pandas.pydata.org/Pandas_Cheat_Sheet.pdf) may be helpful."
      ]
    },
    {
      "cell_type": "code",
      "execution_count": 82,
      "id": "Zg31nnG6R-eO",
      "metadata": {
        "id": "Zg31nnG6R-eO"
      },
      "outputs": [
        {
          "name": "stdout",
          "output_type": "stream",
          "text": [
            "<class 'pandas.core.frame.DataFrame'>\n",
            "<class 'pandas.core.frame.DataFrame'>\n"
          ]
        }
      ],
      "source": [
        "# YOUR CODE HERE\n",
        "train_launches = launches[:19] + launches[20:]\n",
        "stationary_train_launches = []\n",
        "for i in train_launches:\n",
        "    original_dh = i[[\"Distance (m)\", \"Height (m)\"]].shift()\n",
        "    dh_data = i[[\"Distance (m)\", \"Height (m)\"]] - i[[\"Distance (m)\", \"Height (m)\"]].shift()\n",
        "    stationary_train_launches.append(pd.concat([dh_data,i[[\"Drag coefficient\", \"Projectile area (m^2)\"]]], axis=1).iloc[1:])\n",
        "# now stationary_train_launches is a list of dataframes of each launch (but not the 20th) \n",
        "# where the distance and height data is stationary but the drag coefficient and projectile area are not\n",
        "print(type(stationary_train_launches[20]))\n",
        "print(type(stationary_train_launches[21]))\n",
        "keras.utils.set_random_seed(0)\n",
        "\n",
        "# Make simple many to one model (input 2 samples of size 1)\n",
        "x = keras.layers.Input(shape=(k,1))\n",
        "y = keras.layers.SimpleRNN(10,activation=\"tanh\", return_sequences=True)(x)\n",
        "y = keras.layers.SimpleRNN(1,activation=\"linear\", return_sequences=False)(y)\n"
      ]
    },
    {
      "cell_type": "markdown",
      "id": "XEc3Qkn5kLY7",
      "metadata": {
        "id": "XEc3Qkn5kLY7"
      },
      "source": [
        "The prediction with your RNN should be spot on!"
      ]
    },
    {
      "cell_type": "markdown",
      "id": "wGJg7hk3zuws",
      "metadata": {
        "id": "wGJg7hk3zuws"
      },
      "source": [
        "## <span style=\"color:Orange\">Appendix</span>\n",
        "\n",
        "### <span style=\"color:LightGreen\">Additional Information</span>\n",
        "\n",
        "There are many drawbacks with the recurrent neural network architecture as presented in this notebook (such as training difficulties with vanishing gradients or lack of generalizability).\n",
        "More complicated but improved alternatives that could be used as replacements for the `SimpleRNN` layer used in this notebook are:\n",
        "\n",
        "- [`LSTM`](https://keras.io/api/layers/recurrent_layers/lstm/) which is described [here](https://en.wikipedia.org/wiki/Long_short-term_memory)\n",
        "-[`GRU`](https://keras.io/api/layers/recurrent_layers/gru/) which is described [here](https://en.wikipedia.org/wiki/Gated_recurrent_unit)\n",
        "\n",
        "### <span style=\"color:LightGreen\">Resources</span>\n",
        "\n",
        "- https://towardsdatascience.com/time-series-forecasting-deep-learning-vs-statistics-who-wins-c568389d02df\n",
        "- https://neptune.ai/blog/time-series-prediction-vs-machine-learning"
      ]
    },
    {
      "cell_type": "markdown",
      "id": "512ba1cf",
      "metadata": {
        "id": "512ba1cf"
      },
      "source": [
        "## <span style=\"color:Orange\">Acknowledgments</span>\n",
        "\n",
        "* Initial version: Mark Neubauer\n",
        "  * From APS GDS repository\n",
        "\n",
        "© Copyright 2024"
      ]
    }
  ],
  "metadata": {
    "colab": {
      "gpuType": "T4",
      "provenance": []
    },
    "kernelspec": {
      "display_name": "Python 3",
      "name": "python3"
    },
    "language_info": {
      "codemirror_mode": {
        "name": "ipython",
        "version": 3
      },
      "file_extension": ".py",
      "mimetype": "text/x-python",
      "name": "python",
      "nbconvert_exporter": "python",
      "pygments_lexer": "ipython3",
      "version": "3.12.1"
    },
    "widgets": {
      "application/vnd.jupyter.widget-state+json": {
        "011cb3a587ec4daf9745e27e18301384": {
          "model_module": "@jupyter-widgets/controls",
          "model_module_version": "1.5.0",
          "model_name": "DescriptionStyleModel",
          "state": {
            "_model_module": "@jupyter-widgets/controls",
            "_model_module_version": "1.5.0",
            "_model_name": "DescriptionStyleModel",
            "_view_count": null,
            "_view_module": "@jupyter-widgets/base",
            "_view_module_version": "1.2.0",
            "_view_name": "StyleView",
            "description_width": ""
          }
        },
        "086ca6406659400091cfdf353b1b8bea": {
          "model_module": "@jupyter-widgets/controls",
          "model_module_version": "1.5.0",
          "model_name": "HTMLModel",
          "state": {
            "_dom_classes": [],
            "_model_module": "@jupyter-widgets/controls",
            "_model_module_version": "1.5.0",
            "_model_name": "HTMLModel",
            "_view_count": null,
            "_view_module": "@jupyter-widgets/controls",
            "_view_module_version": "1.5.0",
            "_view_name": "HTMLView",
            "description": "",
            "description_tooltip": null,
            "layout": "IPY_MODEL_b1b5c250b19d4e288bf25daf928a47e4",
            "placeholder": "​",
            "style": "IPY_MODEL_fa074baadbbd4b248fae868689b6483d",
            "value": "100%"
          }
        },
        "0c826e92383d4b59b717bb8885f220ae": {
          "model_module": "@jupyter-widgets/controls",
          "model_module_version": "1.5.0",
          "model_name": "ProgressStyleModel",
          "state": {
            "_model_module": "@jupyter-widgets/controls",
            "_model_module_version": "1.5.0",
            "_model_name": "ProgressStyleModel",
            "_view_count": null,
            "_view_module": "@jupyter-widgets/base",
            "_view_module_version": "1.2.0",
            "_view_name": "StyleView",
            "bar_color": null,
            "description_width": ""
          }
        },
        "0de3c09f39de4943993cb5a213658c5f": {
          "model_module": "@jupyter-widgets/controls",
          "model_module_version": "1.5.0",
          "model_name": "HTMLModel",
          "state": {
            "_dom_classes": [],
            "_model_module": "@jupyter-widgets/controls",
            "_model_module_version": "1.5.0",
            "_model_name": "HTMLModel",
            "_view_count": null,
            "_view_module": "@jupyter-widgets/controls",
            "_view_module_version": "1.5.0",
            "_view_name": "HTMLView",
            "description": "",
            "description_tooltip": null,
            "layout": "IPY_MODEL_7e209d8be92c4fed9584df9d2d387221",
            "placeholder": "​",
            "style": "IPY_MODEL_97a5c49042a4487bae5a1160e03ab804",
            "value": " 2000/2000 [00:10&lt;00:00, 174.03epoch/s, loss=40.8]"
          }
        },
        "0f65db13bcad4994986bf3b202c61d59": {
          "model_module": "@jupyter-widgets/controls",
          "model_module_version": "1.5.0",
          "model_name": "FloatProgressModel",
          "state": {
            "_dom_classes": [],
            "_model_module": "@jupyter-widgets/controls",
            "_model_module_version": "1.5.0",
            "_model_name": "FloatProgressModel",
            "_view_count": null,
            "_view_module": "@jupyter-widgets/controls",
            "_view_module_version": "1.5.0",
            "_view_name": "ProgressView",
            "bar_style": "success",
            "description": "",
            "description_tooltip": null,
            "layout": "IPY_MODEL_a2c4790065424fd8a4c6124d93602435",
            "max": 2000,
            "min": 0,
            "orientation": "horizontal",
            "style": "IPY_MODEL_bf7ec20072eb4058be647ae7ed6438b2",
            "value": 2000
          }
        },
        "1129f8645b3345e4b847c5cf2a4c39d7": {
          "model_module": "@jupyter-widgets/controls",
          "model_module_version": "1.5.0",
          "model_name": "HTMLModel",
          "state": {
            "_dom_classes": [],
            "_model_module": "@jupyter-widgets/controls",
            "_model_module_version": "1.5.0",
            "_model_name": "HTMLModel",
            "_view_count": null,
            "_view_module": "@jupyter-widgets/controls",
            "_view_module_version": "1.5.0",
            "_view_name": "HTMLView",
            "description": "",
            "description_tooltip": null,
            "layout": "IPY_MODEL_ae738eb7cd724f7da7980666539647b5",
            "placeholder": "​",
            "style": "IPY_MODEL_011cb3a587ec4daf9745e27e18301384",
            "value": " 2000/2000 [00:11&lt;00:00, 195.32epoch/s, loss=5.15e-11]"
          }
        },
        "1150101e184643ffacc06bee3375b7a7": {
          "model_module": "@jupyter-widgets/base",
          "model_module_version": "1.2.0",
          "model_name": "LayoutModel",
          "state": {
            "_model_module": "@jupyter-widgets/base",
            "_model_module_version": "1.2.0",
            "_model_name": "LayoutModel",
            "_view_count": null,
            "_view_module": "@jupyter-widgets/base",
            "_view_module_version": "1.2.0",
            "_view_name": "LayoutView",
            "align_content": null,
            "align_items": null,
            "align_self": null,
            "border": null,
            "bottom": null,
            "display": null,
            "flex": null,
            "flex_flow": null,
            "grid_area": null,
            "grid_auto_columns": null,
            "grid_auto_flow": null,
            "grid_auto_rows": null,
            "grid_column": null,
            "grid_gap": null,
            "grid_row": null,
            "grid_template_areas": null,
            "grid_template_columns": null,
            "grid_template_rows": null,
            "height": null,
            "justify_content": null,
            "justify_items": null,
            "left": null,
            "margin": null,
            "max_height": null,
            "max_width": null,
            "min_height": null,
            "min_width": null,
            "object_fit": null,
            "object_position": null,
            "order": null,
            "overflow": null,
            "overflow_x": null,
            "overflow_y": null,
            "padding": null,
            "right": null,
            "top": null,
            "visibility": null,
            "width": null
          }
        },
        "1d659029073a4ebb9255f38684ee459b": {
          "model_module": "@jupyter-widgets/controls",
          "model_module_version": "1.5.0",
          "model_name": "HTMLModel",
          "state": {
            "_dom_classes": [],
            "_model_module": "@jupyter-widgets/controls",
            "_model_module_version": "1.5.0",
            "_model_name": "HTMLModel",
            "_view_count": null,
            "_view_module": "@jupyter-widgets/controls",
            "_view_module_version": "1.5.0",
            "_view_name": "HTMLView",
            "description": "",
            "description_tooltip": null,
            "layout": "IPY_MODEL_a1af153143bf47dfb8e178acde1cd6be",
            "placeholder": "​",
            "style": "IPY_MODEL_d7fbafb6a7c24f6c8e382cdcad5c5932",
            "value": "100%"
          }
        },
        "1d73d23a48274df5a1d2ce1fa4b1b86d": {
          "model_module": "@jupyter-widgets/controls",
          "model_module_version": "1.5.0",
          "model_name": "HTMLModel",
          "state": {
            "_dom_classes": [],
            "_model_module": "@jupyter-widgets/controls",
            "_model_module_version": "1.5.0",
            "_model_name": "HTMLModel",
            "_view_count": null,
            "_view_module": "@jupyter-widgets/controls",
            "_view_module_version": "1.5.0",
            "_view_name": "HTMLView",
            "description": "",
            "description_tooltip": null,
            "layout": "IPY_MODEL_f9b5420828cd40db8e8ac2413daea79f",
            "placeholder": "​",
            "style": "IPY_MODEL_42101cb74817487cacb2c9617567afd6",
            "value": " 1000/1000 [00:26&lt;00:00, 43.54epoch/s, loss=16.2, val_loss=27.3]"
          }
        },
        "2609601d3fdb4a84ba56837044db5661": {
          "model_module": "@jupyter-widgets/controls",
          "model_module_version": "1.5.0",
          "model_name": "FloatProgressModel",
          "state": {
            "_dom_classes": [],
            "_model_module": "@jupyter-widgets/controls",
            "_model_module_version": "1.5.0",
            "_model_name": "FloatProgressModel",
            "_view_count": null,
            "_view_module": "@jupyter-widgets/controls",
            "_view_module_version": "1.5.0",
            "_view_name": "ProgressView",
            "bar_style": "success",
            "description": "",
            "description_tooltip": null,
            "layout": "IPY_MODEL_ad863d399e67474480c799c1c5b73b60",
            "max": 1000,
            "min": 0,
            "orientation": "horizontal",
            "style": "IPY_MODEL_2c4c46987d3b473e9b892824b3a41f4f",
            "value": 1000
          }
        },
        "2c4c46987d3b473e9b892824b3a41f4f": {
          "model_module": "@jupyter-widgets/controls",
          "model_module_version": "1.5.0",
          "model_name": "ProgressStyleModel",
          "state": {
            "_model_module": "@jupyter-widgets/controls",
            "_model_module_version": "1.5.0",
            "_model_name": "ProgressStyleModel",
            "_view_count": null,
            "_view_module": "@jupyter-widgets/base",
            "_view_module_version": "1.2.0",
            "_view_name": "StyleView",
            "bar_color": null,
            "description_width": ""
          }
        },
        "32b81bb2a8e4468a86edeaefa732b01e": {
          "model_module": "@jupyter-widgets/base",
          "model_module_version": "1.2.0",
          "model_name": "LayoutModel",
          "state": {
            "_model_module": "@jupyter-widgets/base",
            "_model_module_version": "1.2.0",
            "_model_name": "LayoutModel",
            "_view_count": null,
            "_view_module": "@jupyter-widgets/base",
            "_view_module_version": "1.2.0",
            "_view_name": "LayoutView",
            "align_content": null,
            "align_items": null,
            "align_self": null,
            "border": null,
            "bottom": null,
            "display": null,
            "flex": null,
            "flex_flow": null,
            "grid_area": null,
            "grid_auto_columns": null,
            "grid_auto_flow": null,
            "grid_auto_rows": null,
            "grid_column": null,
            "grid_gap": null,
            "grid_row": null,
            "grid_template_areas": null,
            "grid_template_columns": null,
            "grid_template_rows": null,
            "height": null,
            "justify_content": null,
            "justify_items": null,
            "left": null,
            "margin": null,
            "max_height": null,
            "max_width": null,
            "min_height": null,
            "min_width": null,
            "object_fit": null,
            "object_position": null,
            "order": null,
            "overflow": null,
            "overflow_x": null,
            "overflow_y": null,
            "padding": null,
            "right": null,
            "top": null,
            "visibility": null,
            "width": null
          }
        },
        "397dc60b403b4785a672ea8a2f27d778": {
          "model_module": "@jupyter-widgets/controls",
          "model_module_version": "1.5.0",
          "model_name": "ProgressStyleModel",
          "state": {
            "_model_module": "@jupyter-widgets/controls",
            "_model_module_version": "1.5.0",
            "_model_name": "ProgressStyleModel",
            "_view_count": null,
            "_view_module": "@jupyter-widgets/base",
            "_view_module_version": "1.2.0",
            "_view_name": "StyleView",
            "bar_color": null,
            "description_width": ""
          }
        },
        "42101cb74817487cacb2c9617567afd6": {
          "model_module": "@jupyter-widgets/controls",
          "model_module_version": "1.5.0",
          "model_name": "DescriptionStyleModel",
          "state": {
            "_model_module": "@jupyter-widgets/controls",
            "_model_module_version": "1.5.0",
            "_model_name": "DescriptionStyleModel",
            "_view_count": null,
            "_view_module": "@jupyter-widgets/base",
            "_view_module_version": "1.2.0",
            "_view_name": "StyleView",
            "description_width": ""
          }
        },
        "431e8a23ebc3426bbb7fb1dc332ae52c": {
          "model_module": "@jupyter-widgets/controls",
          "model_module_version": "1.5.0",
          "model_name": "DescriptionStyleModel",
          "state": {
            "_model_module": "@jupyter-widgets/controls",
            "_model_module_version": "1.5.0",
            "_model_name": "DescriptionStyleModel",
            "_view_count": null,
            "_view_module": "@jupyter-widgets/base",
            "_view_module_version": "1.2.0",
            "_view_name": "StyleView",
            "description_width": ""
          }
        },
        "47adcbeb147045de89219da4bfba3267": {
          "model_module": "@jupyter-widgets/base",
          "model_module_version": "1.2.0",
          "model_name": "LayoutModel",
          "state": {
            "_model_module": "@jupyter-widgets/base",
            "_model_module_version": "1.2.0",
            "_model_name": "LayoutModel",
            "_view_count": null,
            "_view_module": "@jupyter-widgets/base",
            "_view_module_version": "1.2.0",
            "_view_name": "LayoutView",
            "align_content": null,
            "align_items": null,
            "align_self": null,
            "border": null,
            "bottom": null,
            "display": null,
            "flex": null,
            "flex_flow": null,
            "grid_area": null,
            "grid_auto_columns": null,
            "grid_auto_flow": null,
            "grid_auto_rows": null,
            "grid_column": null,
            "grid_gap": null,
            "grid_row": null,
            "grid_template_areas": null,
            "grid_template_columns": null,
            "grid_template_rows": null,
            "height": null,
            "justify_content": null,
            "justify_items": null,
            "left": null,
            "margin": null,
            "max_height": null,
            "max_width": null,
            "min_height": null,
            "min_width": null,
            "object_fit": null,
            "object_position": null,
            "order": null,
            "overflow": null,
            "overflow_x": null,
            "overflow_y": null,
            "padding": null,
            "right": null,
            "top": null,
            "visibility": null,
            "width": null
          }
        },
        "4bf79baa300f4114a3e53df10a1ba10c": {
          "model_module": "@jupyter-widgets/base",
          "model_module_version": "1.2.0",
          "model_name": "LayoutModel",
          "state": {
            "_model_module": "@jupyter-widgets/base",
            "_model_module_version": "1.2.0",
            "_model_name": "LayoutModel",
            "_view_count": null,
            "_view_module": "@jupyter-widgets/base",
            "_view_module_version": "1.2.0",
            "_view_name": "LayoutView",
            "align_content": null,
            "align_items": null,
            "align_self": null,
            "border": null,
            "bottom": null,
            "display": null,
            "flex": null,
            "flex_flow": null,
            "grid_area": null,
            "grid_auto_columns": null,
            "grid_auto_flow": null,
            "grid_auto_rows": null,
            "grid_column": null,
            "grid_gap": null,
            "grid_row": null,
            "grid_template_areas": null,
            "grid_template_columns": null,
            "grid_template_rows": null,
            "height": null,
            "justify_content": null,
            "justify_items": null,
            "left": null,
            "margin": null,
            "max_height": null,
            "max_width": null,
            "min_height": null,
            "min_width": null,
            "object_fit": null,
            "object_position": null,
            "order": null,
            "overflow": null,
            "overflow_x": null,
            "overflow_y": null,
            "padding": null,
            "right": null,
            "top": null,
            "visibility": null,
            "width": null
          }
        },
        "4ec232aa1e0b462fa5037d1f0afb76dd": {
          "model_module": "@jupyter-widgets/base",
          "model_module_version": "1.2.0",
          "model_name": "LayoutModel",
          "state": {
            "_model_module": "@jupyter-widgets/base",
            "_model_module_version": "1.2.0",
            "_model_name": "LayoutModel",
            "_view_count": null,
            "_view_module": "@jupyter-widgets/base",
            "_view_module_version": "1.2.0",
            "_view_name": "LayoutView",
            "align_content": null,
            "align_items": null,
            "align_self": null,
            "border": null,
            "bottom": null,
            "display": null,
            "flex": null,
            "flex_flow": null,
            "grid_area": null,
            "grid_auto_columns": null,
            "grid_auto_flow": null,
            "grid_auto_rows": null,
            "grid_column": null,
            "grid_gap": null,
            "grid_row": null,
            "grid_template_areas": null,
            "grid_template_columns": null,
            "grid_template_rows": null,
            "height": null,
            "justify_content": null,
            "justify_items": null,
            "left": null,
            "margin": null,
            "max_height": null,
            "max_width": null,
            "min_height": null,
            "min_width": null,
            "object_fit": null,
            "object_position": null,
            "order": null,
            "overflow": null,
            "overflow_x": null,
            "overflow_y": null,
            "padding": null,
            "right": null,
            "top": null,
            "visibility": null,
            "width": null
          }
        },
        "4ee1822028924682b2d5280bbbc7cff1": {
          "model_module": "@jupyter-widgets/base",
          "model_module_version": "1.2.0",
          "model_name": "LayoutModel",
          "state": {
            "_model_module": "@jupyter-widgets/base",
            "_model_module_version": "1.2.0",
            "_model_name": "LayoutModel",
            "_view_count": null,
            "_view_module": "@jupyter-widgets/base",
            "_view_module_version": "1.2.0",
            "_view_name": "LayoutView",
            "align_content": null,
            "align_items": null,
            "align_self": null,
            "border": null,
            "bottom": null,
            "display": null,
            "flex": null,
            "flex_flow": null,
            "grid_area": null,
            "grid_auto_columns": null,
            "grid_auto_flow": null,
            "grid_auto_rows": null,
            "grid_column": null,
            "grid_gap": null,
            "grid_row": null,
            "grid_template_areas": null,
            "grid_template_columns": null,
            "grid_template_rows": null,
            "height": null,
            "justify_content": null,
            "justify_items": null,
            "left": null,
            "margin": null,
            "max_height": null,
            "max_width": null,
            "min_height": null,
            "min_width": null,
            "object_fit": null,
            "object_position": null,
            "order": null,
            "overflow": null,
            "overflow_x": null,
            "overflow_y": null,
            "padding": null,
            "right": null,
            "top": null,
            "visibility": null,
            "width": null
          }
        },
        "5268f5217c44461394d2b3bb6c40e73e": {
          "model_module": "@jupyter-widgets/base",
          "model_module_version": "1.2.0",
          "model_name": "LayoutModel",
          "state": {
            "_model_module": "@jupyter-widgets/base",
            "_model_module_version": "1.2.0",
            "_model_name": "LayoutModel",
            "_view_count": null,
            "_view_module": "@jupyter-widgets/base",
            "_view_module_version": "1.2.0",
            "_view_name": "LayoutView",
            "align_content": null,
            "align_items": null,
            "align_self": null,
            "border": null,
            "bottom": null,
            "display": null,
            "flex": null,
            "flex_flow": null,
            "grid_area": null,
            "grid_auto_columns": null,
            "grid_auto_flow": null,
            "grid_auto_rows": null,
            "grid_column": null,
            "grid_gap": null,
            "grid_row": null,
            "grid_template_areas": null,
            "grid_template_columns": null,
            "grid_template_rows": null,
            "height": null,
            "justify_content": null,
            "justify_items": null,
            "left": null,
            "margin": null,
            "max_height": null,
            "max_width": null,
            "min_height": null,
            "min_width": null,
            "object_fit": null,
            "object_position": null,
            "order": null,
            "overflow": null,
            "overflow_x": null,
            "overflow_y": null,
            "padding": null,
            "right": null,
            "top": null,
            "visibility": null,
            "width": null
          }
        },
        "59d7fef4a3c44fcab69688df1b27ff46": {
          "model_module": "@jupyter-widgets/controls",
          "model_module_version": "1.5.0",
          "model_name": "HTMLModel",
          "state": {
            "_dom_classes": [],
            "_model_module": "@jupyter-widgets/controls",
            "_model_module_version": "1.5.0",
            "_model_name": "HTMLModel",
            "_view_count": null,
            "_view_module": "@jupyter-widgets/controls",
            "_view_module_version": "1.5.0",
            "_view_name": "HTMLView",
            "description": "",
            "description_tooltip": null,
            "layout": "IPY_MODEL_7d519f50156f412cbf1144aee9180ef9",
            "placeholder": "​",
            "style": "IPY_MODEL_7129b5319193458594bb33449d726de1",
            "value": " 2000/2000 [00:11&lt;00:00, 202.58epoch/s, loss=1.04e-11]"
          }
        },
        "5d252a1b271741e1b5dfaaa37ef8ad8a": {
          "model_module": "@jupyter-widgets/controls",
          "model_module_version": "1.5.0",
          "model_name": "FloatProgressModel",
          "state": {
            "_dom_classes": [],
            "_model_module": "@jupyter-widgets/controls",
            "_model_module_version": "1.5.0",
            "_model_name": "FloatProgressModel",
            "_view_count": null,
            "_view_module": "@jupyter-widgets/controls",
            "_view_module_version": "1.5.0",
            "_view_name": "ProgressView",
            "bar_style": "success",
            "description": "",
            "description_tooltip": null,
            "layout": "IPY_MODEL_f6521be9c74641f2b241a7f7a67c488a",
            "max": 2000,
            "min": 0,
            "orientation": "horizontal",
            "style": "IPY_MODEL_dcb17349ff8d419db4f5e942a54579cf",
            "value": 2000
          }
        },
        "5d3833564bbf420e84f6e5c7ce4dccca": {
          "model_module": "@jupyter-widgets/controls",
          "model_module_version": "1.5.0",
          "model_name": "DescriptionStyleModel",
          "state": {
            "_model_module": "@jupyter-widgets/controls",
            "_model_module_version": "1.5.0",
            "_model_name": "DescriptionStyleModel",
            "_view_count": null,
            "_view_module": "@jupyter-widgets/base",
            "_view_module_version": "1.2.0",
            "_view_name": "StyleView",
            "description_width": ""
          }
        },
        "65b7812c5d064651894e1602b16fa1da": {
          "model_module": "@jupyter-widgets/controls",
          "model_module_version": "1.5.0",
          "model_name": "HBoxModel",
          "state": {
            "_dom_classes": [],
            "_model_module": "@jupyter-widgets/controls",
            "_model_module_version": "1.5.0",
            "_model_name": "HBoxModel",
            "_view_count": null,
            "_view_module": "@jupyter-widgets/controls",
            "_view_module_version": "1.5.0",
            "_view_name": "HBoxView",
            "box_style": "",
            "children": [
              "IPY_MODEL_1d659029073a4ebb9255f38684ee459b",
              "IPY_MODEL_5d252a1b271741e1b5dfaaa37ef8ad8a",
              "IPY_MODEL_0de3c09f39de4943993cb5a213658c5f"
            ],
            "layout": "IPY_MODEL_47adcbeb147045de89219da4bfba3267"
          }
        },
        "7129b5319193458594bb33449d726de1": {
          "model_module": "@jupyter-widgets/controls",
          "model_module_version": "1.5.0",
          "model_name": "DescriptionStyleModel",
          "state": {
            "_model_module": "@jupyter-widgets/controls",
            "_model_module_version": "1.5.0",
            "_model_name": "DescriptionStyleModel",
            "_view_count": null,
            "_view_module": "@jupyter-widgets/base",
            "_view_module_version": "1.2.0",
            "_view_name": "StyleView",
            "description_width": ""
          }
        },
        "75f74772c24b4df49bb91cb2803cb381": {
          "model_module": "@jupyter-widgets/controls",
          "model_module_version": "1.5.0",
          "model_name": "FloatProgressModel",
          "state": {
            "_dom_classes": [],
            "_model_module": "@jupyter-widgets/controls",
            "_model_module_version": "1.5.0",
            "_model_name": "FloatProgressModel",
            "_view_count": null,
            "_view_module": "@jupyter-widgets/controls",
            "_view_module_version": "1.5.0",
            "_view_name": "ProgressView",
            "bar_style": "success",
            "description": "",
            "description_tooltip": null,
            "layout": "IPY_MODEL_4ee1822028924682b2d5280bbbc7cff1",
            "max": 2000,
            "min": 0,
            "orientation": "horizontal",
            "style": "IPY_MODEL_0c826e92383d4b59b717bb8885f220ae",
            "value": 2000
          }
        },
        "7707f90480674be4a3b75b2306e0315e": {
          "model_module": "@jupyter-widgets/controls",
          "model_module_version": "1.5.0",
          "model_name": "HTMLModel",
          "state": {
            "_dom_classes": [],
            "_model_module": "@jupyter-widgets/controls",
            "_model_module_version": "1.5.0",
            "_model_name": "HTMLModel",
            "_view_count": null,
            "_view_module": "@jupyter-widgets/controls",
            "_view_module_version": "1.5.0",
            "_view_name": "HTMLView",
            "description": "",
            "description_tooltip": null,
            "layout": "IPY_MODEL_4bf79baa300f4114a3e53df10a1ba10c",
            "placeholder": "​",
            "style": "IPY_MODEL_fe9c6afa208a4cfd9fac129c09f92335",
            "value": "100%"
          }
        },
        "7d519f50156f412cbf1144aee9180ef9": {
          "model_module": "@jupyter-widgets/base",
          "model_module_version": "1.2.0",
          "model_name": "LayoutModel",
          "state": {
            "_model_module": "@jupyter-widgets/base",
            "_model_module_version": "1.2.0",
            "_model_name": "LayoutModel",
            "_view_count": null,
            "_view_module": "@jupyter-widgets/base",
            "_view_module_version": "1.2.0",
            "_view_name": "LayoutView",
            "align_content": null,
            "align_items": null,
            "align_self": null,
            "border": null,
            "bottom": null,
            "display": null,
            "flex": null,
            "flex_flow": null,
            "grid_area": null,
            "grid_auto_columns": null,
            "grid_auto_flow": null,
            "grid_auto_rows": null,
            "grid_column": null,
            "grid_gap": null,
            "grid_row": null,
            "grid_template_areas": null,
            "grid_template_columns": null,
            "grid_template_rows": null,
            "height": null,
            "justify_content": null,
            "justify_items": null,
            "left": null,
            "margin": null,
            "max_height": null,
            "max_width": null,
            "min_height": null,
            "min_width": null,
            "object_fit": null,
            "object_position": null,
            "order": null,
            "overflow": null,
            "overflow_x": null,
            "overflow_y": null,
            "padding": null,
            "right": null,
            "top": null,
            "visibility": null,
            "width": null
          }
        },
        "7e209d8be92c4fed9584df9d2d387221": {
          "model_module": "@jupyter-widgets/base",
          "model_module_version": "1.2.0",
          "model_name": "LayoutModel",
          "state": {
            "_model_module": "@jupyter-widgets/base",
            "_model_module_version": "1.2.0",
            "_model_name": "LayoutModel",
            "_view_count": null,
            "_view_module": "@jupyter-widgets/base",
            "_view_module_version": "1.2.0",
            "_view_name": "LayoutView",
            "align_content": null,
            "align_items": null,
            "align_self": null,
            "border": null,
            "bottom": null,
            "display": null,
            "flex": null,
            "flex_flow": null,
            "grid_area": null,
            "grid_auto_columns": null,
            "grid_auto_flow": null,
            "grid_auto_rows": null,
            "grid_column": null,
            "grid_gap": null,
            "grid_row": null,
            "grid_template_areas": null,
            "grid_template_columns": null,
            "grid_template_rows": null,
            "height": null,
            "justify_content": null,
            "justify_items": null,
            "left": null,
            "margin": null,
            "max_height": null,
            "max_width": null,
            "min_height": null,
            "min_width": null,
            "object_fit": null,
            "object_position": null,
            "order": null,
            "overflow": null,
            "overflow_x": null,
            "overflow_y": null,
            "padding": null,
            "right": null,
            "top": null,
            "visibility": null,
            "width": null
          }
        },
        "83ef9fc65409470b9490b180fa58a87f": {
          "model_module": "@jupyter-widgets/controls",
          "model_module_version": "1.5.0",
          "model_name": "HBoxModel",
          "state": {
            "_dom_classes": [],
            "_model_module": "@jupyter-widgets/controls",
            "_model_module_version": "1.5.0",
            "_model_name": "HBoxModel",
            "_view_count": null,
            "_view_module": "@jupyter-widgets/controls",
            "_view_module_version": "1.5.0",
            "_view_name": "HBoxView",
            "box_style": "",
            "children": [
              "IPY_MODEL_8f99eb1c675a4d7c831b210228e9061e",
              "IPY_MODEL_75f74772c24b4df49bb91cb2803cb381",
              "IPY_MODEL_1129f8645b3345e4b847c5cf2a4c39d7"
            ],
            "layout": "IPY_MODEL_f9b51b4b367d4ab59000292a830f27c7"
          }
        },
        "8c97a14e02e245b88552032bca9b1185": {
          "model_module": "@jupyter-widgets/base",
          "model_module_version": "1.2.0",
          "model_name": "LayoutModel",
          "state": {
            "_model_module": "@jupyter-widgets/base",
            "_model_module_version": "1.2.0",
            "_model_name": "LayoutModel",
            "_view_count": null,
            "_view_module": "@jupyter-widgets/base",
            "_view_module_version": "1.2.0",
            "_view_name": "LayoutView",
            "align_content": null,
            "align_items": null,
            "align_self": null,
            "border": null,
            "bottom": null,
            "display": null,
            "flex": null,
            "flex_flow": null,
            "grid_area": null,
            "grid_auto_columns": null,
            "grid_auto_flow": null,
            "grid_auto_rows": null,
            "grid_column": null,
            "grid_gap": null,
            "grid_row": null,
            "grid_template_areas": null,
            "grid_template_columns": null,
            "grid_template_rows": null,
            "height": null,
            "justify_content": null,
            "justify_items": null,
            "left": null,
            "margin": null,
            "max_height": null,
            "max_width": null,
            "min_height": null,
            "min_width": null,
            "object_fit": null,
            "object_position": null,
            "order": null,
            "overflow": null,
            "overflow_x": null,
            "overflow_y": null,
            "padding": null,
            "right": null,
            "top": null,
            "visibility": null,
            "width": null
          }
        },
        "8f99eb1c675a4d7c831b210228e9061e": {
          "model_module": "@jupyter-widgets/controls",
          "model_module_version": "1.5.0",
          "model_name": "HTMLModel",
          "state": {
            "_dom_classes": [],
            "_model_module": "@jupyter-widgets/controls",
            "_model_module_version": "1.5.0",
            "_model_name": "HTMLModel",
            "_view_count": null,
            "_view_module": "@jupyter-widgets/controls",
            "_view_module_version": "1.5.0",
            "_view_name": "HTMLView",
            "description": "",
            "description_tooltip": null,
            "layout": "IPY_MODEL_32b81bb2a8e4468a86edeaefa732b01e",
            "placeholder": "​",
            "style": "IPY_MODEL_dc20b977a67d43739ccf1290f6aa536d",
            "value": "100%"
          }
        },
        "9744f28afe2a4e139afb22ac292810c0": {
          "model_module": "@jupyter-widgets/controls",
          "model_module_version": "1.5.0",
          "model_name": "HTMLModel",
          "state": {
            "_dom_classes": [],
            "_model_module": "@jupyter-widgets/controls",
            "_model_module_version": "1.5.0",
            "_model_name": "HTMLModel",
            "_view_count": null,
            "_view_module": "@jupyter-widgets/controls",
            "_view_module_version": "1.5.0",
            "_view_name": "HTMLView",
            "description": "",
            "description_tooltip": null,
            "layout": "IPY_MODEL_d28ff2ac186c4e1ca44738589215333c",
            "placeholder": "​",
            "style": "IPY_MODEL_5d3833564bbf420e84f6e5c7ce4dccca",
            "value": " 2000/2000 [00:10&lt;00:00, 225.73epoch/s, loss=14.5]"
          }
        },
        "97a5c49042a4487bae5a1160e03ab804": {
          "model_module": "@jupyter-widgets/controls",
          "model_module_version": "1.5.0",
          "model_name": "DescriptionStyleModel",
          "state": {
            "_model_module": "@jupyter-widgets/controls",
            "_model_module_version": "1.5.0",
            "_model_name": "DescriptionStyleModel",
            "_view_count": null,
            "_view_module": "@jupyter-widgets/base",
            "_view_module_version": "1.2.0",
            "_view_name": "StyleView",
            "description_width": ""
          }
        },
        "a063b430a66f4a47a36f8d2d369c53cd": {
          "model_module": "@jupyter-widgets/controls",
          "model_module_version": "1.5.0",
          "model_name": "HBoxModel",
          "state": {
            "_dom_classes": [],
            "_model_module": "@jupyter-widgets/controls",
            "_model_module_version": "1.5.0",
            "_model_name": "HBoxModel",
            "_view_count": null,
            "_view_module": "@jupyter-widgets/controls",
            "_view_module_version": "1.5.0",
            "_view_name": "HBoxView",
            "box_style": "",
            "children": [
              "IPY_MODEL_086ca6406659400091cfdf353b1b8bea",
              "IPY_MODEL_b16cacced1d649a9b4ae80fd70e3418a",
              "IPY_MODEL_9744f28afe2a4e139afb22ac292810c0"
            ],
            "layout": "IPY_MODEL_5268f5217c44461394d2b3bb6c40e73e"
          }
        },
        "a1af153143bf47dfb8e178acde1cd6be": {
          "model_module": "@jupyter-widgets/base",
          "model_module_version": "1.2.0",
          "model_name": "LayoutModel",
          "state": {
            "_model_module": "@jupyter-widgets/base",
            "_model_module_version": "1.2.0",
            "_model_name": "LayoutModel",
            "_view_count": null,
            "_view_module": "@jupyter-widgets/base",
            "_view_module_version": "1.2.0",
            "_view_name": "LayoutView",
            "align_content": null,
            "align_items": null,
            "align_self": null,
            "border": null,
            "bottom": null,
            "display": null,
            "flex": null,
            "flex_flow": null,
            "grid_area": null,
            "grid_auto_columns": null,
            "grid_auto_flow": null,
            "grid_auto_rows": null,
            "grid_column": null,
            "grid_gap": null,
            "grid_row": null,
            "grid_template_areas": null,
            "grid_template_columns": null,
            "grid_template_rows": null,
            "height": null,
            "justify_content": null,
            "justify_items": null,
            "left": null,
            "margin": null,
            "max_height": null,
            "max_width": null,
            "min_height": null,
            "min_width": null,
            "object_fit": null,
            "object_position": null,
            "order": null,
            "overflow": null,
            "overflow_x": null,
            "overflow_y": null,
            "padding": null,
            "right": null,
            "top": null,
            "visibility": null,
            "width": null
          }
        },
        "a2c4790065424fd8a4c6124d93602435": {
          "model_module": "@jupyter-widgets/base",
          "model_module_version": "1.2.0",
          "model_name": "LayoutModel",
          "state": {
            "_model_module": "@jupyter-widgets/base",
            "_model_module_version": "1.2.0",
            "_model_name": "LayoutModel",
            "_view_count": null,
            "_view_module": "@jupyter-widgets/base",
            "_view_module_version": "1.2.0",
            "_view_name": "LayoutView",
            "align_content": null,
            "align_items": null,
            "align_self": null,
            "border": null,
            "bottom": null,
            "display": null,
            "flex": null,
            "flex_flow": null,
            "grid_area": null,
            "grid_auto_columns": null,
            "grid_auto_flow": null,
            "grid_auto_rows": null,
            "grid_column": null,
            "grid_gap": null,
            "grid_row": null,
            "grid_template_areas": null,
            "grid_template_columns": null,
            "grid_template_rows": null,
            "height": null,
            "justify_content": null,
            "justify_items": null,
            "left": null,
            "margin": null,
            "max_height": null,
            "max_width": null,
            "min_height": null,
            "min_width": null,
            "object_fit": null,
            "object_position": null,
            "order": null,
            "overflow": null,
            "overflow_x": null,
            "overflow_y": null,
            "padding": null,
            "right": null,
            "top": null,
            "visibility": null,
            "width": null
          }
        },
        "ad863d399e67474480c799c1c5b73b60": {
          "model_module": "@jupyter-widgets/base",
          "model_module_version": "1.2.0",
          "model_name": "LayoutModel",
          "state": {
            "_model_module": "@jupyter-widgets/base",
            "_model_module_version": "1.2.0",
            "_model_name": "LayoutModel",
            "_view_count": null,
            "_view_module": "@jupyter-widgets/base",
            "_view_module_version": "1.2.0",
            "_view_name": "LayoutView",
            "align_content": null,
            "align_items": null,
            "align_self": null,
            "border": null,
            "bottom": null,
            "display": null,
            "flex": null,
            "flex_flow": null,
            "grid_area": null,
            "grid_auto_columns": null,
            "grid_auto_flow": null,
            "grid_auto_rows": null,
            "grid_column": null,
            "grid_gap": null,
            "grid_row": null,
            "grid_template_areas": null,
            "grid_template_columns": null,
            "grid_template_rows": null,
            "height": null,
            "justify_content": null,
            "justify_items": null,
            "left": null,
            "margin": null,
            "max_height": null,
            "max_width": null,
            "min_height": null,
            "min_width": null,
            "object_fit": null,
            "object_position": null,
            "order": null,
            "overflow": null,
            "overflow_x": null,
            "overflow_y": null,
            "padding": null,
            "right": null,
            "top": null,
            "visibility": null,
            "width": null
          }
        },
        "ae738eb7cd724f7da7980666539647b5": {
          "model_module": "@jupyter-widgets/base",
          "model_module_version": "1.2.0",
          "model_name": "LayoutModel",
          "state": {
            "_model_module": "@jupyter-widgets/base",
            "_model_module_version": "1.2.0",
            "_model_name": "LayoutModel",
            "_view_count": null,
            "_view_module": "@jupyter-widgets/base",
            "_view_module_version": "1.2.0",
            "_view_name": "LayoutView",
            "align_content": null,
            "align_items": null,
            "align_self": null,
            "border": null,
            "bottom": null,
            "display": null,
            "flex": null,
            "flex_flow": null,
            "grid_area": null,
            "grid_auto_columns": null,
            "grid_auto_flow": null,
            "grid_auto_rows": null,
            "grid_column": null,
            "grid_gap": null,
            "grid_row": null,
            "grid_template_areas": null,
            "grid_template_columns": null,
            "grid_template_rows": null,
            "height": null,
            "justify_content": null,
            "justify_items": null,
            "left": null,
            "margin": null,
            "max_height": null,
            "max_width": null,
            "min_height": null,
            "min_width": null,
            "object_fit": null,
            "object_position": null,
            "order": null,
            "overflow": null,
            "overflow_x": null,
            "overflow_y": null,
            "padding": null,
            "right": null,
            "top": null,
            "visibility": null,
            "width": null
          }
        },
        "aeda17186c194d10bc5542875405215b": {
          "model_module": "@jupyter-widgets/controls",
          "model_module_version": "1.5.0",
          "model_name": "HTMLModel",
          "state": {
            "_dom_classes": [],
            "_model_module": "@jupyter-widgets/controls",
            "_model_module_version": "1.5.0",
            "_model_name": "HTMLModel",
            "_view_count": null,
            "_view_module": "@jupyter-widgets/controls",
            "_view_module_version": "1.5.0",
            "_view_name": "HTMLView",
            "description": "",
            "description_tooltip": null,
            "layout": "IPY_MODEL_4ec232aa1e0b462fa5037d1f0afb76dd",
            "placeholder": "​",
            "style": "IPY_MODEL_431e8a23ebc3426bbb7fb1dc332ae52c",
            "value": "100%"
          }
        },
        "b16cacced1d649a9b4ae80fd70e3418a": {
          "model_module": "@jupyter-widgets/controls",
          "model_module_version": "1.5.0",
          "model_name": "FloatProgressModel",
          "state": {
            "_dom_classes": [],
            "_model_module": "@jupyter-widgets/controls",
            "_model_module_version": "1.5.0",
            "_model_name": "FloatProgressModel",
            "_view_count": null,
            "_view_module": "@jupyter-widgets/controls",
            "_view_module_version": "1.5.0",
            "_view_name": "ProgressView",
            "bar_style": "success",
            "description": "",
            "description_tooltip": null,
            "layout": "IPY_MODEL_d3009f7530164f9e89df0e6c21271cf4",
            "max": 2000,
            "min": 0,
            "orientation": "horizontal",
            "style": "IPY_MODEL_397dc60b403b4785a672ea8a2f27d778",
            "value": 2000
          }
        },
        "b1b5c250b19d4e288bf25daf928a47e4": {
          "model_module": "@jupyter-widgets/base",
          "model_module_version": "1.2.0",
          "model_name": "LayoutModel",
          "state": {
            "_model_module": "@jupyter-widgets/base",
            "_model_module_version": "1.2.0",
            "_model_name": "LayoutModel",
            "_view_count": null,
            "_view_module": "@jupyter-widgets/base",
            "_view_module_version": "1.2.0",
            "_view_name": "LayoutView",
            "align_content": null,
            "align_items": null,
            "align_self": null,
            "border": null,
            "bottom": null,
            "display": null,
            "flex": null,
            "flex_flow": null,
            "grid_area": null,
            "grid_auto_columns": null,
            "grid_auto_flow": null,
            "grid_auto_rows": null,
            "grid_column": null,
            "grid_gap": null,
            "grid_row": null,
            "grid_template_areas": null,
            "grid_template_columns": null,
            "grid_template_rows": null,
            "height": null,
            "justify_content": null,
            "justify_items": null,
            "left": null,
            "margin": null,
            "max_height": null,
            "max_width": null,
            "min_height": null,
            "min_width": null,
            "object_fit": null,
            "object_position": null,
            "order": null,
            "overflow": null,
            "overflow_x": null,
            "overflow_y": null,
            "padding": null,
            "right": null,
            "top": null,
            "visibility": null,
            "width": null
          }
        },
        "bd5d179b029a4c68b4409c15ee82cdac": {
          "model_module": "@jupyter-widgets/controls",
          "model_module_version": "1.5.0",
          "model_name": "HBoxModel",
          "state": {
            "_dom_classes": [],
            "_model_module": "@jupyter-widgets/controls",
            "_model_module_version": "1.5.0",
            "_model_name": "HBoxModel",
            "_view_count": null,
            "_view_module": "@jupyter-widgets/controls",
            "_view_module_version": "1.5.0",
            "_view_name": "HBoxView",
            "box_style": "",
            "children": [
              "IPY_MODEL_aeda17186c194d10bc5542875405215b",
              "IPY_MODEL_2609601d3fdb4a84ba56837044db5661",
              "IPY_MODEL_1d73d23a48274df5a1d2ce1fa4b1b86d"
            ],
            "layout": "IPY_MODEL_8c97a14e02e245b88552032bca9b1185"
          }
        },
        "bf7ec20072eb4058be647ae7ed6438b2": {
          "model_module": "@jupyter-widgets/controls",
          "model_module_version": "1.5.0",
          "model_name": "ProgressStyleModel",
          "state": {
            "_model_module": "@jupyter-widgets/controls",
            "_model_module_version": "1.5.0",
            "_model_name": "ProgressStyleModel",
            "_view_count": null,
            "_view_module": "@jupyter-widgets/base",
            "_view_module_version": "1.2.0",
            "_view_name": "StyleView",
            "bar_color": null,
            "description_width": ""
          }
        },
        "c74d1c8d09e04eaca426b549e217365f": {
          "model_module": "@jupyter-widgets/controls",
          "model_module_version": "1.5.0",
          "model_name": "HBoxModel",
          "state": {
            "_dom_classes": [],
            "_model_module": "@jupyter-widgets/controls",
            "_model_module_version": "1.5.0",
            "_model_name": "HBoxModel",
            "_view_count": null,
            "_view_module": "@jupyter-widgets/controls",
            "_view_module_version": "1.5.0",
            "_view_name": "HBoxView",
            "box_style": "",
            "children": [
              "IPY_MODEL_7707f90480674be4a3b75b2306e0315e",
              "IPY_MODEL_0f65db13bcad4994986bf3b202c61d59",
              "IPY_MODEL_59d7fef4a3c44fcab69688df1b27ff46"
            ],
            "layout": "IPY_MODEL_1150101e184643ffacc06bee3375b7a7"
          }
        },
        "d28ff2ac186c4e1ca44738589215333c": {
          "model_module": "@jupyter-widgets/base",
          "model_module_version": "1.2.0",
          "model_name": "LayoutModel",
          "state": {
            "_model_module": "@jupyter-widgets/base",
            "_model_module_version": "1.2.0",
            "_model_name": "LayoutModel",
            "_view_count": null,
            "_view_module": "@jupyter-widgets/base",
            "_view_module_version": "1.2.0",
            "_view_name": "LayoutView",
            "align_content": null,
            "align_items": null,
            "align_self": null,
            "border": null,
            "bottom": null,
            "display": null,
            "flex": null,
            "flex_flow": null,
            "grid_area": null,
            "grid_auto_columns": null,
            "grid_auto_flow": null,
            "grid_auto_rows": null,
            "grid_column": null,
            "grid_gap": null,
            "grid_row": null,
            "grid_template_areas": null,
            "grid_template_columns": null,
            "grid_template_rows": null,
            "height": null,
            "justify_content": null,
            "justify_items": null,
            "left": null,
            "margin": null,
            "max_height": null,
            "max_width": null,
            "min_height": null,
            "min_width": null,
            "object_fit": null,
            "object_position": null,
            "order": null,
            "overflow": null,
            "overflow_x": null,
            "overflow_y": null,
            "padding": null,
            "right": null,
            "top": null,
            "visibility": null,
            "width": null
          }
        },
        "d3009f7530164f9e89df0e6c21271cf4": {
          "model_module": "@jupyter-widgets/base",
          "model_module_version": "1.2.0",
          "model_name": "LayoutModel",
          "state": {
            "_model_module": "@jupyter-widgets/base",
            "_model_module_version": "1.2.0",
            "_model_name": "LayoutModel",
            "_view_count": null,
            "_view_module": "@jupyter-widgets/base",
            "_view_module_version": "1.2.0",
            "_view_name": "LayoutView",
            "align_content": null,
            "align_items": null,
            "align_self": null,
            "border": null,
            "bottom": null,
            "display": null,
            "flex": null,
            "flex_flow": null,
            "grid_area": null,
            "grid_auto_columns": null,
            "grid_auto_flow": null,
            "grid_auto_rows": null,
            "grid_column": null,
            "grid_gap": null,
            "grid_row": null,
            "grid_template_areas": null,
            "grid_template_columns": null,
            "grid_template_rows": null,
            "height": null,
            "justify_content": null,
            "justify_items": null,
            "left": null,
            "margin": null,
            "max_height": null,
            "max_width": null,
            "min_height": null,
            "min_width": null,
            "object_fit": null,
            "object_position": null,
            "order": null,
            "overflow": null,
            "overflow_x": null,
            "overflow_y": null,
            "padding": null,
            "right": null,
            "top": null,
            "visibility": null,
            "width": null
          }
        },
        "d7fbafb6a7c24f6c8e382cdcad5c5932": {
          "model_module": "@jupyter-widgets/controls",
          "model_module_version": "1.5.0",
          "model_name": "DescriptionStyleModel",
          "state": {
            "_model_module": "@jupyter-widgets/controls",
            "_model_module_version": "1.5.0",
            "_model_name": "DescriptionStyleModel",
            "_view_count": null,
            "_view_module": "@jupyter-widgets/base",
            "_view_module_version": "1.2.0",
            "_view_name": "StyleView",
            "description_width": ""
          }
        },
        "dc20b977a67d43739ccf1290f6aa536d": {
          "model_module": "@jupyter-widgets/controls",
          "model_module_version": "1.5.0",
          "model_name": "DescriptionStyleModel",
          "state": {
            "_model_module": "@jupyter-widgets/controls",
            "_model_module_version": "1.5.0",
            "_model_name": "DescriptionStyleModel",
            "_view_count": null,
            "_view_module": "@jupyter-widgets/base",
            "_view_module_version": "1.2.0",
            "_view_name": "StyleView",
            "description_width": ""
          }
        },
        "dcb17349ff8d419db4f5e942a54579cf": {
          "model_module": "@jupyter-widgets/controls",
          "model_module_version": "1.5.0",
          "model_name": "ProgressStyleModel",
          "state": {
            "_model_module": "@jupyter-widgets/controls",
            "_model_module_version": "1.5.0",
            "_model_name": "ProgressStyleModel",
            "_view_count": null,
            "_view_module": "@jupyter-widgets/base",
            "_view_module_version": "1.2.0",
            "_view_name": "StyleView",
            "bar_color": null,
            "description_width": ""
          }
        },
        "f6521be9c74641f2b241a7f7a67c488a": {
          "model_module": "@jupyter-widgets/base",
          "model_module_version": "1.2.0",
          "model_name": "LayoutModel",
          "state": {
            "_model_module": "@jupyter-widgets/base",
            "_model_module_version": "1.2.0",
            "_model_name": "LayoutModel",
            "_view_count": null,
            "_view_module": "@jupyter-widgets/base",
            "_view_module_version": "1.2.0",
            "_view_name": "LayoutView",
            "align_content": null,
            "align_items": null,
            "align_self": null,
            "border": null,
            "bottom": null,
            "display": null,
            "flex": null,
            "flex_flow": null,
            "grid_area": null,
            "grid_auto_columns": null,
            "grid_auto_flow": null,
            "grid_auto_rows": null,
            "grid_column": null,
            "grid_gap": null,
            "grid_row": null,
            "grid_template_areas": null,
            "grid_template_columns": null,
            "grid_template_rows": null,
            "height": null,
            "justify_content": null,
            "justify_items": null,
            "left": null,
            "margin": null,
            "max_height": null,
            "max_width": null,
            "min_height": null,
            "min_width": null,
            "object_fit": null,
            "object_position": null,
            "order": null,
            "overflow": null,
            "overflow_x": null,
            "overflow_y": null,
            "padding": null,
            "right": null,
            "top": null,
            "visibility": null,
            "width": null
          }
        },
        "f9b51b4b367d4ab59000292a830f27c7": {
          "model_module": "@jupyter-widgets/base",
          "model_module_version": "1.2.0",
          "model_name": "LayoutModel",
          "state": {
            "_model_module": "@jupyter-widgets/base",
            "_model_module_version": "1.2.0",
            "_model_name": "LayoutModel",
            "_view_count": null,
            "_view_module": "@jupyter-widgets/base",
            "_view_module_version": "1.2.0",
            "_view_name": "LayoutView",
            "align_content": null,
            "align_items": null,
            "align_self": null,
            "border": null,
            "bottom": null,
            "display": null,
            "flex": null,
            "flex_flow": null,
            "grid_area": null,
            "grid_auto_columns": null,
            "grid_auto_flow": null,
            "grid_auto_rows": null,
            "grid_column": null,
            "grid_gap": null,
            "grid_row": null,
            "grid_template_areas": null,
            "grid_template_columns": null,
            "grid_template_rows": null,
            "height": null,
            "justify_content": null,
            "justify_items": null,
            "left": null,
            "margin": null,
            "max_height": null,
            "max_width": null,
            "min_height": null,
            "min_width": null,
            "object_fit": null,
            "object_position": null,
            "order": null,
            "overflow": null,
            "overflow_x": null,
            "overflow_y": null,
            "padding": null,
            "right": null,
            "top": null,
            "visibility": null,
            "width": null
          }
        },
        "f9b5420828cd40db8e8ac2413daea79f": {
          "model_module": "@jupyter-widgets/base",
          "model_module_version": "1.2.0",
          "model_name": "LayoutModel",
          "state": {
            "_model_module": "@jupyter-widgets/base",
            "_model_module_version": "1.2.0",
            "_model_name": "LayoutModel",
            "_view_count": null,
            "_view_module": "@jupyter-widgets/base",
            "_view_module_version": "1.2.0",
            "_view_name": "LayoutView",
            "align_content": null,
            "align_items": null,
            "align_self": null,
            "border": null,
            "bottom": null,
            "display": null,
            "flex": null,
            "flex_flow": null,
            "grid_area": null,
            "grid_auto_columns": null,
            "grid_auto_flow": null,
            "grid_auto_rows": null,
            "grid_column": null,
            "grid_gap": null,
            "grid_row": null,
            "grid_template_areas": null,
            "grid_template_columns": null,
            "grid_template_rows": null,
            "height": null,
            "justify_content": null,
            "justify_items": null,
            "left": null,
            "margin": null,
            "max_height": null,
            "max_width": null,
            "min_height": null,
            "min_width": null,
            "object_fit": null,
            "object_position": null,
            "order": null,
            "overflow": null,
            "overflow_x": null,
            "overflow_y": null,
            "padding": null,
            "right": null,
            "top": null,
            "visibility": null,
            "width": null
          }
        },
        "fa074baadbbd4b248fae868689b6483d": {
          "model_module": "@jupyter-widgets/controls",
          "model_module_version": "1.5.0",
          "model_name": "DescriptionStyleModel",
          "state": {
            "_model_module": "@jupyter-widgets/controls",
            "_model_module_version": "1.5.0",
            "_model_name": "DescriptionStyleModel",
            "_view_count": null,
            "_view_module": "@jupyter-widgets/base",
            "_view_module_version": "1.2.0",
            "_view_name": "StyleView",
            "description_width": ""
          }
        },
        "fe9c6afa208a4cfd9fac129c09f92335": {
          "model_module": "@jupyter-widgets/controls",
          "model_module_version": "1.5.0",
          "model_name": "DescriptionStyleModel",
          "state": {
            "_model_module": "@jupyter-widgets/controls",
            "_model_module_version": "1.5.0",
            "_model_name": "DescriptionStyleModel",
            "_view_count": null,
            "_view_module": "@jupyter-widgets/base",
            "_view_module_version": "1.2.0",
            "_view_name": "StyleView",
            "description_width": ""
          }
        }
      }
    }
  },
  "nbformat": 4,
  "nbformat_minor": 5
}
