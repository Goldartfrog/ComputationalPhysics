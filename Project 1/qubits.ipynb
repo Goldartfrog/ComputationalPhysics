{
 "cells": [
  {
   "cell_type": "code",
   "execution_count": 2,
   "metadata": {},
   "outputs": [],
   "source": [
    "import numpy as np\n",
    "import matplotlib.pyplot as plt\n",
    "import time"
   ]
  },
  {
   "cell_type": "code",
   "execution_count": 3,
   "metadata": {},
   "outputs": [],
   "source": [
    "# collection of functions not organized into classes\n",
    "def PrettyPrintBinary(state):\n",
    "    outstr = \"\"\n",
    "    if (type(state) == list and type(state[0]) == tuple):\n",
    "        for i in range(len(state)):\n",
    "            if (not np.isclose(state[i][0], 0)):\n",
    "                outstr += f\"{state[i][0]:.4f} |{state[i][1]}>\"\n",
    "                if (i < len(state) - 1):\n",
    "                    outstr += \" + \"\n",
    "        print(outstr)\n",
    "    else:\n",
    "        print(\"State is not valid\")\n",
    "def PrettyPrintInteger(state):\n",
    "    if (type(state) == list):\n",
    "        if(type(state[0]) == tuple):\n",
    "            state = DiracToVec(state)\n",
    "        outstr = \"\"\n",
    "        for i in range(len(state)):\n",
    "            if (state[i] != 0):\n",
    "                if (i != 0):\n",
    "                    outstr += \"+ \"\n",
    "                outstr += (str)(state[i])\n",
    "                outstr += \" |\"\n",
    "                outstr += str(i)\n",
    "                outstr += \"> \"\n",
    "        print(outstr)\n",
    "    else:\n",
    "        print(\"State passed to PrettyPrintInteger is not valid\")\n",
    "\n",
    "def VecToDirac(myVec):\n",
    "    if ((type(myVec) == list and len(myVec) % 2 == 0)):\n",
    "        newState = []\n",
    "        binlen = int(np.log2(len(myVec)))\n",
    "        for i in range(len(myVec)):\n",
    "            if (myVec[i] != 0):\n",
    "                bi = bin(i)[2:].zfill(binlen)\n",
    "                newState.append((myVec[i], bi))\n",
    "        return newState\n",
    "    else:\n",
    "        print(\"Error in VecToDirac\")\n",
    "        \n",
    "def DiracToVec(state):\n",
    "    if (not (type(state) == list and type(state[0]) == tuple)):\n",
    "        print(\"Error in DiracToVec\")\n",
    "    else:\n",
    "        newVec = []\n",
    "        for i in range(2**len(state[0][1])):\n",
    "            newVec.append(0)\n",
    "        for s in state:\n",
    "            newVec[int(s[1], 2)] = s[0]\n",
    "        return newVec\n",
    "def ReadInputString(myInput_lines):\n",
    "    myInput=[]\n",
    "    myInput_lines=myInput_lines.split('\\n')\n",
    "    myInput_lines = [ i for i in myInput_lines if i!='']\n",
    "    numberOfWires=int(myInput_lines[0])\n",
    "    for line in myInput_lines[1:]:\n",
    "        myInput.append(line.split())\n",
    "    return (numberOfWires,myInput)\n",
    "\n",
    "def GetStateFromFile(file, dirac):\n",
    "    a = open(file).read()\n",
    "    a = a.split(\"\\n\")\n",
    "    output = []\n",
    "    for i in a:\n",
    "        x = i.split(' ')\n",
    "        output.append(float(x[0]) + float(x[1]) * 1.j)\n",
    "    if (dirac):\n",
    "        return VecToDirac(output)\n",
    "    return output\n",
    "    \n",
    "def TensorMe(listOfMatrices):\n",
    "    current = listOfMatrices[0]\n",
    "    for i in range(len(listOfMatrices) - 1):\n",
    "        current = np.kron(current, listOfMatrices[i+1])\n",
    "    return current\n",
    "    "
   ]
  },
  {
   "cell_type": "code",
   "execution_count": 181,
   "metadata": {},
   "outputs": [],
   "source": [
    "# Simulator S\n",
    "class S:\n",
    "    def H(wire, inputState):\n",
    "        newState = []\n",
    "        for s in inputState:\n",
    "            if (s[1][wire] == '0'):\n",
    "                bi = list(s[1])\n",
    "                bi[wire] = '0'\n",
    "                newState.append((s[0] * np.sqrt(1/2), \"\".join(bi)))\n",
    "                bi[wire] = '1'\n",
    "                newState.append((s[0] * np.sqrt(1/2), \"\".join(bi)))\n",
    "            if (s[1][wire] == '1'):\n",
    "                bi = list(s[1])\n",
    "                bi[wire] = '0'\n",
    "                newState.append((s[0] * np.sqrt(1/2), \"\".join(bi)))\n",
    "                bi[wire] = '1'\n",
    "                newState.append((s[0] * -np.sqrt(1/2), \"\".join(bi)))\n",
    "        return newState\n",
    "\n",
    "    def Phase(wire, theta, inputState):\n",
    "        newState = []\n",
    "        for s in inputState:\n",
    "            if (s[1][wire] == '0'):\n",
    "                newState.append(s)\n",
    "            else:\n",
    "                newState.append((s[0] * np.exp(1.j * theta), s[1]))\n",
    "        return newState\n",
    "\n",
    "    def CNOT(controlwire, notwire, inputState):\n",
    "        newState = []\n",
    "        for s in inputState:\n",
    "            if (s[1][controlwire] == '0'):\n",
    "                newState.append(s)\n",
    "            else:\n",
    "                bi = list(s[1])\n",
    "                bi[notwire] = str((int(bi[notwire]) + 1) % 2)\n",
    "                # if (bi[notwire] == '0'):\n",
    "                #     print(\"here\")\n",
    "                #     bi[notwire] == '1'\n",
    "                # else:\n",
    "                #     bi[notwire] == '0'\n",
    "                string = \"\".join(bi)                \n",
    "                newState.append((s[0], string))\n",
    "        return newState\n",
    "    \n",
    "    def AddDuplicates(inputState):\n",
    "        bidict = {}\n",
    "        for s in inputState:\n",
    "            if (s[1] in bidict):\n",
    "                bidict[s[1]] += s[0]\n",
    "            else:\n",
    "                bidict[s[1]] = s[0]\n",
    "        \n",
    "        outstate = []\n",
    "        for i in bidict.keys():\n",
    "            if (not np.isclose(bidict[i], 0)):\n",
    "                outstate.append((bidict[i], i))\n",
    "        outstate = sorted(outstate, key=lambda x: int(x[1], 2))\n",
    "        return outstate\n",
    "    \n",
    "    def measure(state, size = 1):\n",
    "        possibleStates = []\n",
    "        probabilities = []\n",
    "        for s in state:\n",
    "            possibleStates.append(s[1])\n",
    "            probabilities.append(s[0] * np.conjugate(s[0]))\n",
    "        rng = np.random.default_rng(seed=123)\n",
    "        return rng.choice(possibleStates, size=size, p=np.real(probabilities))\n",
    "\n",
    "    def ReadAndProcessString(input_lines, test=False, measures=1, ignoreMeasure=False):\n",
    "        numberOfWires, inputGates = ReadInputString(input_lines)\n",
    "        bin = ''\n",
    "        for i in range(numberOfWires):\n",
    "            bin += '0'\n",
    "        currentState = [(1, bin)]\n",
    "        for g in inputGates:\n",
    "            \n",
    "            if (g[0] == 'INITSTATE'):\n",
    "                if (g[1] == 'BASIS'):\n",
    "                    currentState[0] = (1, g[2][1:-1])\n",
    "                    if(test):\n",
    "                        print(\"BASIS\")\n",
    "                if (g[1] == 'FILE'):\n",
    "                    currentState = GetStateFromFile(g[2], True)\n",
    "            if (g[0] == 'H'):\n",
    "                if (test):\n",
    "                    print(\"H \" + g[1])\n",
    "                currentState = S.H(int(g[1]), currentState)\n",
    "            if (g[0] == 'P'):\n",
    "                if (test):\n",
    "                    print(\"P \" + g[2])\n",
    "                currentState = S.Phase(int(g[1]), float(g[2]), currentState)\n",
    "            if (g[0] == 'CNOT'):\n",
    "                if (test):\n",
    "                    print(\"CNOT \" + g[1] + \" \" + g[2])\n",
    "                if (g[1] == g[2]):\n",
    "                    continue\n",
    "                else:\n",
    "                    currentState = S.CNOT(int(g[1]), int(g[2]), currentState)\n",
    "            currentState = S.AddDuplicates(currentState)\n",
    "            if (test):\n",
    "                PrettyPrintBinary(currentState)\n",
    "            if (g[0] == 'MEASURE' and not ignoreMeasure):\n",
    "                return S.measure(currentState, measures)\n",
    "        return currentState"
   ]
  },
  {
   "cell_type": "code",
   "execution_count": 5,
   "metadata": {},
   "outputs": [],
   "source": [
    "# Class for simulator M-a\n",
    "class MA:\n",
    "    H = 1/np.sqrt(2) * np.array([[1, 1], [1, -1]])\n",
    "    \n",
    "    def Hadamard(i, k):\n",
    "        \"\"\"creates a hadamard array\n",
    "        i: target wire\n",
    "        k: number of wires\"\"\"\n",
    "        arr = []\n",
    "        for j in range(k):\n",
    "            if j < i:\n",
    "                arr.append(np.eye(2))\n",
    "            if j == i:\n",
    "                arr.append(MA.H)\n",
    "            if j > i:\n",
    "                arr.append(np.eye(2))\n",
    "        return TensorMe(arr)\n",
    "    def Phase(i, k, theta):\n",
    "        \"\"\"creates a phase matrix\n",
    "        i: target wire\n",
    "        k: number of wires\n",
    "        theta: the phase to rotate by\"\"\"\n",
    "        arr = []\n",
    "        for j in range(k):\n",
    "            if j < i:\n",
    "                arr.append(np.eye(2))\n",
    "            if j == i:\n",
    "                arr.append(np.array([[1, 0], [0, np.exp(1.j * theta)]]))\n",
    "            if j > i:\n",
    "                arr.append(np.eye(2))\n",
    "        return TensorMe(arr)\n",
    "    def CNOT(controlwire, otherwire, totalwires):\n",
    "        \"\"\"creates a matrix for a CNOT gate\n",
    "        controlwire: the control wire\n",
    "        otherwire: the target wire (must be adjacent to control)\n",
    "        totalwires: yeah\"\"\"\n",
    "        if not((controlwire - 1 == otherwire) or (controlwire + 1 == otherwire)):\n",
    "            raise(ValueError(\"Controlwire and otherwire must be adjacent\"))\n",
    "        arr = []\n",
    "        hasntRun = True\n",
    "        j = 0\n",
    "        while j < totalwires:\n",
    "            if (j == controlwire or j == otherwire) and hasntRun:\n",
    "                t = np.eye(4)\n",
    "                if (controlwire < otherwire):\n",
    "                    t[:, [2, 3]] = t[:, [3, 2]] \n",
    "                else:\n",
    "                    t[1, 1] = 0\n",
    "                    t[3, 3] = 0\n",
    "                    t[3, 1] = 1\n",
    "                    t[1, 3] = 1\n",
    "                    # t[:, [0, 1]] = t[:, [1, 0]]\n",
    "                arr.append(t)\n",
    "                j = j + 1\n",
    "                hasntRun = False\n",
    "            elif j < controlwire:\n",
    "                arr.append(np.eye(2))\n",
    "            elif j > otherwire:\n",
    "                arr.append(np.eye(2))\n",
    "            j = j + 1\n",
    "        return TensorMe(arr)\n",
    "    \n",
    "    def CreateCircutMatrix(input_lines):\n",
    "        numberOfWires, inputGates = ReadInputString(input_lines)\n",
    "        currentState = list(np.zeros(numberOfWires))\n",
    "        ListOmatrices = []\n",
    "        for g in inputGates:\n",
    "            if (g[0] == 'H'):\n",
    "                ListOmatrices.append(MA.Hadamard(int(g[1]), numberOfWires))\n",
    "            if (g[0] == 'P'):\n",
    "                ListOmatrices.append(MA.Phase(int(g[1]), numberOfWires, float(g[2])))\n",
    "            if (g[0] == 'CNOT'):\n",
    "                ListOmatrices.append(MA.CNOT(int(g[1]), int(g[2]), numberOfWires))\n",
    "            \n",
    "        TheMatrix = np.eye(2**numberOfWires)\n",
    "        ListOmatrices = ListOmatrices[::-1]\n",
    "        for m in ListOmatrices:\n",
    "            TheMatrix = TheMatrix @ m\n",
    "        return TheMatrix\n",
    "        \n",
    "            "
   ]
  },
  {
   "cell_type": "code",
   "execution_count": 6,
   "metadata": {},
   "outputs": [],
   "source": [
    "# Class for simulator M-b\n",
    "class MB:\n",
    "    H = 1/np.sqrt(2) * np.array([[1, 1], [1, -1]])\n",
    "    \n",
    "    def Hadamard(i, k, state):\n",
    "        \"\"\"creates a hadamard array\n",
    "        i: target wire\n",
    "        k: number of wires\"\"\"\n",
    "        arr = []\n",
    "        for j in range(k):\n",
    "            if j < i:\n",
    "                arr.append(np.eye(2))\n",
    "            if j == i:\n",
    "                arr.append(MA.H)\n",
    "            if j > i:\n",
    "                arr.append(np.eye(2))\n",
    "        return TensorMe(arr) @ state\n",
    "    def Phase(i, k, theta, state):\n",
    "        \"\"\"creates a phase matrix\n",
    "        i: target wire\n",
    "        k: number of wires\n",
    "        theta: the phase to rotate by\"\"\"\n",
    "        arr = []\n",
    "        for j in range(k):\n",
    "            if j < i:\n",
    "                arr.append(np.eye(2))\n",
    "            if j == i:\n",
    "                arr.append(np.array([[1, 0], [0, np.exp(1.j * theta)]]))\n",
    "            if j > i:\n",
    "                arr.append(np.eye(2))\n",
    "        return TensorMe(arr) @ state\n",
    "    def CNOT(controlwire, otherwire, totalwires, state):\n",
    "        \"\"\"creates a matrix for a CNOT gate\n",
    "        controlwire: the control wire\n",
    "        otherwire: the target wire (must be adjacent to control)\n",
    "        totalwires: yeah\"\"\"\n",
    "        if not((controlwire - 1 == otherwire) or (controlwire + 1 == otherwire)):\n",
    "            raise(ValueError(\"Controlwire and otherwire must be adjacent\"))\n",
    "        arr = []\n",
    "        hasntRun = True\n",
    "        j = 0\n",
    "        while j < totalwires:\n",
    "            if (j == controlwire or j == otherwire) and hasntRun:\n",
    "                t = np.eye(4)\n",
    "                if (controlwire < otherwire):\n",
    "                    t[:, [2, 3]] = t[:, [3, 2]] \n",
    "                else:\n",
    "                    t[1, 1] = 0\n",
    "                    t[3, 3] = 0\n",
    "                    t[3, 1] = 1\n",
    "                    t[1, 3] = 1\n",
    "                    # t[:, [0, 1]] = t[:, [1, 0]]\n",
    "                arr.append(t)\n",
    "                j = j + 1\n",
    "                hasntRun = False\n",
    "            elif j < controlwire:\n",
    "                arr.append(np.eye(2))\n",
    "            elif j > otherwire:\n",
    "                arr.append(np.eye(2))\n",
    "            j = j + 1\n",
    "        return TensorMe(arr) @ state\n",
    "    \n",
    "    def ReadAndRunCircuit(input_lines, startstate, test=False):\n",
    "        numberOfWires, inputGates = ReadInputString(input_lines)\n",
    "        currentState = startstate\n",
    "        ListOmatrices = []\n",
    "        for g in inputGates:\n",
    "            if (g[0] == 'H'):\n",
    "                currentState = MB.Hadamard(int(g[1]), numberOfWires, currentState)\n",
    "            if (g[0] == 'P'):\n",
    "                currentState = MB.Phase(int(g[1]), numberOfWires, float(g[2]), currentState)\n",
    "            if (g[0] == 'CNOT'):\n",
    "                currentState = MB.CNOT(int(g[1]), int(g[2]), numberOfWires, currentState)\n",
    "            if (g[0] == 'MEASURE'):\n",
    "                return S.measure(VecToDirac(list(currentState)))\n",
    "            if (test):\n",
    "                print(currentState)\n",
    "        return currentState"
   ]
  },
  {
   "cell_type": "code",
   "execution_count": 541,
   "metadata": {},
   "outputs": [],
   "source": [
    "# turn each nonatomic gate into a string of atomic gates\n",
    "def NOT(wire):\n",
    "    return f\"H {wire}\\nP {wire} {np.pi}\\nH {wire}\\n\"\n",
    "def Rz(wire, phase):\n",
    "    return f\"{NOT(wire)}P {wire} {-phase/2}\\n{NOT(wire)}P {wire} {phase/2}\\n\"\n",
    "def CRz(controlwire, targetwire, phase):\n",
    "    return f\"CNOT {controlwire} {targetwire}\\nP {targetwire} {phase/2}\\nCNOT {controlwire} {targetwire}\\nP {targetwire} {-phase/2}\\n\"\n",
    "def CPhase(controlwire, targetwire, phase):\n",
    "    return f\"P {targetwire} {phase/2}\\nCNOT {controlwire} {targetwire}\\nP {targetwire} {-phase/2}\\nCNOT {controlwire} {targetwire}\\nP {controlwire} {phase/2}\\n\"\n",
    "def Swap(firstwire, secondwire):\n",
    "    if (firstwire == secondwire):\n",
    "        return \"\"\n",
    "    return f\"CNOT {firstwire} {secondwire}\\nCNOT {secondwire} {firstwire}\\nCNOT {firstwire} {secondwire}\\n\"\n",
    "def Reverse(firstwire, lastwire):\n",
    "    # if (firstwire == lastwire - 1):\n",
    "    #     return f\"{Swap(firstwire, lastwire)}\\n\"\n",
    "    # out = \"\"\n",
    "    # for i in range(firstwire, firstwire + int((lastwire-firstwire)/2)):\n",
    "    #     out += f\"{Swap(i, lastwire-i-1)}\\n\"\n",
    "    \n",
    "    # out = \"\"\n",
    "    # for i in range(int(float(lastwire-firstwire)/2)+1):\n",
    "    #     out+=f\"{Swap(firstwire+i, lastwire-i)}\"\n",
    "    out = \"\"\n",
    "    for i in range(firstwire, int((lastwire-firstwire)/2 + 1)):\n",
    "        out += f\"{Swap(i, lastwire-i)}\"\n",
    "    return out"
   ]
  },
  {
   "cell_type": "code",
   "execution_count": 422,
   "metadata": {},
   "outputs": [],
   "source": [
    "# Precompiler code\n",
    "def is_number(s): # stolen from stackoverflow: https://stackoverflow.com/questions/354038/how-do-i-check-if-a-string-represents-a-number-float-or-int\n",
    "    try:\n",
    "        float(s)\n",
    "        return True\n",
    "    except ValueError:\n",
    "        return False\n",
    "\n",
    "def Precompile(input):\n",
    "    input = input.split(\"\\n\")\n",
    "    output = \"\"\"\"\"\"\n",
    "    for i in input:\n",
    "        a = i.split(' ')\n",
    "        if (a[0] == \"H\" or a[0] == \"CNOT\" or a[0] == \"P\" or is_number(a[0]) or a[0] == \"MEASURE\" or a[0] == \"INITSTATE\"):\n",
    "            output += i\n",
    "            output += \"\\n\"\n",
    "        if (a[0] == \"NOT\"):\n",
    "            output += NOT(int(a[1]))\n",
    "        if (a[0] == \"RZ\"):\n",
    "            output += Rz(int(a[1]), float(a[2]))\n",
    "        if (a[0] == \"CRZ\"):\n",
    "            output += CRz(int(a[1]), int(a[2]), float(a[3]))\n",
    "        if (a[0] == \"CPHASE\"):\n",
    "            output += CPhase(int(a[1]), int(a[2]), float(a[3]))\n",
    "        if (a[0] == \"SWAP\"):\n",
    "            output += Swap(a[1], a[2])\n",
    "        if (a[0] == \"REVERSE\"):\n",
    "            output += Reverse(int(a[1]), int(a[2]))\n",
    "    return output\n",
    "        "
   ]
  },
  {
   "cell_type": "code",
   "execution_count": 548,
   "metadata": {},
   "outputs": [],
   "source": [
    "# Functions for generating circuits:\n",
    "def RandomCircuit(nQubits, nGates):\n",
    "    output = f\"{nQubits}\\n\"\n",
    "    rng = np.random.default_rng()\n",
    "    gates = [\"H\", \"CNOT\", \"P\"]\n",
    "    bits = list(range(nQubits))\n",
    "    for i in range(nGates):\n",
    "        \n",
    "        nextgate = rng.choice(gates)\n",
    "        targetbit = rng.choice(bits)\n",
    "        \n",
    "        if (nextgate == \"H\"):\n",
    "            output += f\"H {targetbit}\\n\"\n",
    "        elif (nextgate == \"CNOT\"):\n",
    "            if (targetbit == 0):\n",
    "                output += f\"CNOT {targetbit} 1\\n\"\n",
    "            elif (targetbit == nQubits-1):\n",
    "                output += f\"CNOT {targetbit} {nQubits-2}\\n\"\n",
    "            else:\n",
    "                shift = rng.choice([-1, 1])\n",
    "                output += f\"CNOT {targetbit} {targetbit+shift}\\n\"\n",
    "        elif (nextgate == \"P\"):\n",
    "            phi = rng.uniform(0, 2 * np.pi)\n",
    "            output += f\"P {targetbit} {phi}\\n\"\n",
    "    return output\n",
    "    \n",
    "def GenerateQFT(nwires):\n",
    "    out = \"\"\n",
    "    out += f\"REVERSE {0} {nwires-1}\\n\"\n",
    "    for i in range(nwires-1, -1, -1):\n",
    "        out += f\"H {i}\\n\"\n",
    "        for j in range(i):\n",
    "            out += f\"CPHASE {i} {i-j-1} {np.pi/(2**(j+1))}\\n\"\n",
    "    \n",
    "    return out\n",
    "\n",
    "def invert(inString):\n",
    "    a = inString.split(\"\\n\")\n",
    "    a = a[::-1]\n",
    "    out = ''\n",
    "    for b in a:\n",
    "        c = b.split(' ')\n",
    "        if (c[0] == \"P\"):\n",
    "            out += f\"P {c[1]} {-float(c[2])}\\n\"\n",
    "        else:\n",
    "            out += f\"{b}\\n\"\n",
    "    return out[1:] #this gets rid of the \\n at the beginning"
   ]
  },
  {
   "cell_type": "code",
   "execution_count": 494,
   "metadata": {},
   "outputs": [
    {
     "name": "stdout",
     "output_type": "stream",
     "text": [
      "0.0000+0.3162j |101> + 0.7071 |000> + -0.6325 |010>\n",
      "0.7071067811865476 |0> + -0.6324555320336759 |2> + 0.31622776601683794j |5> \n",
      "0.7071067811865476 |0> + -0.6324555320336759 |2> + 0.31622776601683794j |5> \n",
      "0.7071 |000> + -0.6325 |010> + 0.0000+0.3162j |101>\n"
     ]
    }
   ],
   "source": [
    "#early tests\n",
    "myState=[\n",
    "  (-np.sqrt(0.125), '11' ),\n",
    "  (np.sqrt(0.1), '00'),\n",
    "  (np.sqrt(0.4), '01') ,\n",
    "  (-np.sqrt(0.125), '11' )\n",
    "]\n",
    "myState2=[\n",
    "   (np.sqrt(0.1)*1.j, '101'),\n",
    "   (np.sqrt(0.5), '000') ,\n",
    "   (-np.sqrt(0.4), '010' )]\n",
    "myEquivilentState2 = [np.sqrt(0.5), 0, -np.sqrt(0.4), 0, 0, np.sqrt(0.1)*1.j, 0, 0]\n",
    "PrettyPrintBinary(myState2)\n",
    "PrettyPrintInteger(myState2)\n",
    "# PrettyPrintBinary(VecToDirac(myEquivilentState2))\n",
    "PrettyPrintInteger(DiracToVec(myState2))\n",
    "PrettyPrintBinary(VecToDirac(DiracToVec(myState2)))"
   ]
  },
  {
   "cell_type": "code",
   "execution_count": 495,
   "metadata": {},
   "outputs": [
    {
     "name": "stdout",
     "output_type": "stream",
     "text": [
      "0.9777+0.1478j |000> + 0.0223-0.1478j |011>\n",
      "0.9777+0.1478j |000> + 0.0223-0.1478j |010> + 0.0000-0.0000j |100> + -0.0000+0.0000j |110>\n",
      "0.9777+0.1478j |000> + 0.0223-0.1478j |010> + 0.0000+0.0000j |100> + 0.0000-0.0000j |110>\n"
     ]
    },
    {
     "name": "stdout",
     "output_type": "stream",
     "text": [
      "0.1457+0.1135j |00000> + 0.0431-0.1218j |00001> + -0.0002+0.0801j |00010> + 0.0504-0.0073j |00011> + 0.0723-0.0226j |00100> + -0.0344-0.0422j |00101> + 0.0539+0.0090j |00110> + 0.0018-0.0268j |00111> + 0.1346-0.1256j |01000> + -0.1041-0.0676j |01001> + 0.0107+0.0709j |01010> + 0.0315-0.0354j |01011> + 0.0079+0.2979j |01100> + 0.1961-0.0584j |01101> + -0.1131-0.0228j |01110> + 0.0257+0.0756j |01111> + 0.0015-0.0365j |10000> + -0.0127+0.0055j |10001> + -0.0821+0.0155j |10010> + 0.0160+0.0226j |10011> + -0.1717+0.3669j |10100> + 0.2775+0.0423j |10101> + -0.1469-0.0436j |10110> + 0.0074+0.1079j |10111> + -0.4427-0.0892j |11000> + 0.0343+0.3180j |11001> + -0.0548-0.2147j |11010> + -0.1210+0.0654j |11011> + -0.1814-0.0780j |11100> + -0.0059+0.1270j |11101> + -0.0578+0.0101j |11110> + -0.0118+0.0200j |11111>\n",
      "-0.0141+0.1236j |00000> + 0.1055+0.1511j |00001> + -0.0532+0.2120j |00010> + -0.0337+0.0831j |00011> + -0.0979+0.0081j |00100> + -0.1009+0.1048j |00101> + 0.0332-0.1661j |00110> + 0.0229-0.0656j |00111> + 0.0717-0.0770j |01000> + 0.0042-0.1558j |01001> + 0.0421+0.1513j |01010> + 0.0085+0.0639j |01011> + 0.1028-0.1130j |01100> + 0.0035-0.2262j |01101> + 0.2099-0.1324j |01110> + 0.0929-0.0418j |01111> + 0.1530+0.0353j |10000> + 0.2046-0.1107j |10001> + 0.2824+0.2315j |10010> + 0.1016+0.1102j |10011> + -0.0288+0.0519j |10100> + 0.0190+0.0859j |10101> + -0.1298-0.2357j |10110> + -0.0393-0.1032j |10111> + 0.0064-0.1644j |11000> + -0.1539-0.1889j |11001> + 0.0868+0.0253j |11010> + 0.0338+0.0152j |11011> + 0.0809-0.1877j |11100> + -0.0941-0.2877j |11101> + 0.1632-0.1570j |11110> + 0.0753-0.0545j |11111>\n",
      "-0.0141+0.1236j |00000> + 0.1055+0.1511j |00001> + -0.0532+0.2120j |00010> + -0.0337+0.0831j |00011> + -0.0979+0.0081j |00100> + -0.1009+0.1048j |00101> + 0.0332-0.1661j |00110> + 0.0229-0.0656j |00111> + 0.0717-0.0770j |01000> + 0.0042-0.1558j |01001> + 0.0421+0.1513j |01010> + 0.0085+0.0639j |01011> + 0.1028-0.1130j |01100> + 0.0035-0.2262j |01101> + 0.2099-0.1324j |01110> + 0.0929-0.0418j |01111> + 0.1530+0.0353j |10000> + 0.2046-0.1107j |10001> + 0.2824+0.2315j |10010> + 0.1016+0.1102j |10011> + -0.0288+0.0519j |10100> + 0.0190+0.0859j |10101> + -0.1298-0.2357j |10110> + -0.0393-0.1032j |10111> + 0.0064-0.1644j |11000> + -0.1539-0.1889j |11001> + 0.0868+0.0253j |11010> + 0.0338+0.0152j |11011> + 0.0809-0.1877j |11100> + -0.0941-0.2877j |11101> + 0.1632-0.1570j |11110> + 0.0753-0.0545j |11111>\n",
      "0.5000 |0000> + 0.5000 |0011> + 0.4502+0.2175j |1100> + 0.4502+0.2175j |1111>\n",
      "0.5000+0.0000j |0000> + 0.5000+0.0000j |0001> + 0.5000+0.0000j |0100> + 0.5000+0.0000j |0101>\n",
      "0.5000+0.0000j |0000> + 0.5000+0.0000j |0001> + 0.5000+0.0000j |0100> + 0.5000+0.0000j |0101>\n"
     ]
    }
   ],
   "source": [
    "# second set of early tests - Shows same output for all 3 simulators\n",
    "sampleInput = '''\n",
    "3\n",
    "H 1\n",
    "H 2\n",
    "P 2 0.3\n",
    "CNOT 2 1\n",
    "H 1\n",
    "H 2\n",
    "CNOT 2 1\n",
    "'''\n",
    "sampleInput2 = open('example.circuit').read()\n",
    "input3 = open('rand.circuit').read()\n",
    "# numberOfWires,myInput=ReadInputString(sampleInput)\n",
    "# PrettyPrintBinary(S.ReadAndProcessString(sampleInput))\n",
    "# PrettyPrintBinary(S.ReadAndProcessString(sampleInput2))\n",
    "def testAll3(input, bits):\n",
    "    zeroState = np.zeros(bits)\n",
    "    zeroState[0] = 1\n",
    "    PrettyPrintBinary(S.ReadAndProcessString(input))\n",
    "    PrettyPrintBinary(VecToDirac(list(MA.CreateCircutMatrix(input) @ zeroState)))\n",
    "    PrettyPrintBinary(VecToDirac(list(MB.ReadAndRunCircuit(input, zeroState))))\n",
    "    \n",
    "testAll3(sampleInput, 8)\n",
    "testAll3(input3, 32)\n",
    "testAll3(sampleInput2, 16)\n"
   ]
  },
  {
   "cell_type": "code",
   "execution_count": 496,
   "metadata": {},
   "outputs": [],
   "source": [
    "# time tests\n",
    "def TimeSimulatorS(nQubits, nGates):\n",
    "    ci = RandomCircuit(nQubits, nGates)\n",
    "    start = time.time()\n",
    "    S.ReadAndProcessString(ci)\n",
    "    end = time.time()\n",
    "    return (end - start)\n",
    "def TimeSimulatorMA(nQubits, nGates):\n",
    "    ci = RandomCircuit(nQubits, nGates)\n",
    "    start = time.time()\n",
    "    MA.CreateCircutMatrix(ci)\n",
    "    end = time.time()\n",
    "    return (end - start)\n",
    "def TimeSimulatorMB(nQubits, nGates):\n",
    "    ci = RandomCircuit(nQubits, nGates)\n",
    "    start = time.time()\n",
    "    state = list(np.zeros(2**nQubits))\n",
    "    state[0] = 1\n",
    "    MB.ReadAndRunCircuit(ci, state)\n",
    "    end = time.time()\n",
    "    return (end - start)\n",
    "def getTimeSamplesS(maxQuBits):\n",
    "    Stimes = []\n",
    "    for i in range(2, maxQuBits):\n",
    "        Stimes.append(TimeSimulatorS(i, 100))\n",
    "    return Stimes\n",
    "def getTimeSamplesMA(maxQuBits):\n",
    "    MAtimes = []\n",
    "    for i in range(2, maxQuBits):\n",
    "        MAtimes.append(TimeSimulatorMA(i, 100))\n",
    "    return MAtimes\n",
    "def getTimeSamplesMB(maxQuBits):\n",
    "    MBtimes = []\n",
    "    for i in range(2, maxQuBits):\n",
    "        MBtimes.append(TimeSimulatorMB(i, 100))\n",
    "    return MBtimes"
   ]
  },
  {
   "cell_type": "code",
   "execution_count": 497,
   "metadata": {},
   "outputs": [],
   "source": [
    "# TimeSimulatorS(21, 100)"
   ]
  },
  {
   "cell_type": "code",
   "execution_count": 498,
   "metadata": {},
   "outputs": [],
   "source": [
    "# print(getTimeSamplesS(25))"
   ]
  },
  {
   "cell_type": "code",
   "execution_count": 499,
   "metadata": {},
   "outputs": [],
   "source": [
    "# print(getTimeSamplesMA(12))"
   ]
  },
  {
   "cell_type": "code",
   "execution_count": 500,
   "metadata": {},
   "outputs": [],
   "source": [
    "# print(getTimeSamplesMB(14))"
   ]
  },
  {
   "cell_type": "code",
   "execution_count": 501,
   "metadata": {},
   "outputs": [
    {
     "name": "stdout",
     "output_type": "stream",
     "text": [
      "1.0000 |1100>\n",
      "1.0000 |1100>\n"
     ]
    }
   ],
   "source": [
    "# more basic testing\n",
    "testState1 = list(np.zeros((16)))\n",
    "testState1[12] = 1.0\n",
    "ar = MA.CNOT(0, 1, 4)\n",
    "PrettyPrintBinary(VecToDirac(testState1))\n",
    "PrettyPrintBinary(VecToDirac(list(testState1@ar)))"
   ]
  },
  {
   "cell_type": "code",
   "execution_count": 502,
   "metadata": {},
   "outputs": [
    {
     "name": "stdout",
     "output_type": "stream",
     "text": [
      "1.0000 |100>\n",
      "0.7071+0.0000j |100> + 0.7071+0.0000j |110>\n",
      "['110']\n"
     ]
    }
   ],
   "source": [
    "# testing strings\n",
    "testCircuit = '''3\n",
    "H 1\n",
    "CNOT 1 2\n",
    "P 0 0.45'''\n",
    "# print(MA.CreateCircutMatrix(testCircuit))\n",
    "startstate = [0, 0, 0, 0, 1, 0, 0, 0]\n",
    "PrettyPrintBinary(VecToDirac(startstate))\n",
    "c = MA.CreateCircutMatrix(testCircuit)\n",
    "d = MB.ReadAndRunCircuit(testCircuit, startstate)\n",
    "PrettyPrintBinary(VecToDirac(list(d)))\n",
    "print(S.measure(VecToDirac(list(d))))"
   ]
  },
  {
   "cell_type": "code",
   "execution_count": 503,
   "metadata": {},
   "outputs": [
    {
     "name": "stdout",
     "output_type": "stream",
     "text": [
      "0.1541-0.0390j |00000> + 0.0490-0.0300j |00001> + -0.0213+0.0877j |00010> + -0.1116-0.2333j |00011> + -0.0339-0.0097j |00100> + -0.0167-0.1303j |00101> + -0.1959+0.0099j |00110> + -0.0980+0.0135j |00111> + -0.1808+0.0144j |01000> + 0.0538-0.0686j |01001> + 0.0010-0.0035j |01010> + -0.0215+0.0174j |01011> + -0.0072+0.1596j |01100> + -0.2231+0.0746j |01101> + -0.0379+0.0059j |01110> + 0.0739-0.0507j |01111> + -0.1480+0.0875j |10000> + -0.0633+0.2566j |10001> + 0.1169+0.0138j |10010> + -0.0267-0.0041j |10011> + 0.2192-0.2130j |10100> + -0.0489-0.1164j |10101> + -0.1479-0.1048j |10110> + 0.2232+0.0508j |10111> + -0.1396-0.2372j |11000> + 0.1848-0.0051j |11001> + -0.2632-0.0656j |11010> + 0.1752-0.0201j |11011> + 0.1122+0.0012j |11100> + 0.0242-0.1245j |11101> + -0.2083+0.0770j |11110> + 0.0548+0.3061j |11111>\n",
      "1.0000 |1100>\n",
      "[[1. 0. 0. 0. 0. 0. 0. 0. 0. 0. 0. 0. 0. 0. 0. 0.]\n",
      " [0. 0. 0. 1. 0. 0. 0. 0. 0. 0. 0. 0. 0. 0. 0. 0.]\n",
      " [0. 0. 1. 0. 0. 0. 0. 0. 0. 0. 0. 0. 0. 0. 0. 0.]\n",
      " [0. 1. 0. 0. 0. 0. 0. 0. 0. 0. 0. 0. 0. 0. 0. 0.]\n",
      " [0. 0. 0. 0. 1. 0. 0. 0. 0. 0. 0. 0. 0. 0. 0. 0.]\n",
      " [0. 0. 0. 0. 0. 0. 0. 1. 0. 0. 0. 0. 0. 0. 0. 0.]\n",
      " [0. 0. 0. 0. 0. 0. 1. 0. 0. 0. 0. 0. 0. 0. 0. 0.]\n",
      " [0. 0. 0. 0. 0. 1. 0. 0. 0. 0. 0. 0. 0. 0. 0. 0.]\n",
      " [0. 0. 0. 0. 0. 0. 0. 0. 1. 0. 0. 0. 0. 0. 0. 0.]\n",
      " [0. 0. 0. 0. 0. 0. 0. 0. 0. 0. 0. 1. 0. 0. 0. 0.]\n",
      " [0. 0. 0. 0. 0. 0. 0. 0. 0. 0. 1. 0. 0. 0. 0. 0.]\n",
      " [0. 0. 0. 0. 0. 0. 0. 0. 0. 1. 0. 0. 0. 0. 0. 0.]\n",
      " [0. 0. 0. 0. 0. 0. 0. 0. 0. 0. 0. 0. 1. 0. 0. 0.]\n",
      " [0. 0. 0. 0. 0. 0. 0. 0. 0. 0. 0. 0. 0. 0. 0. 1.]\n",
      " [0. 0. 0. 0. 0. 0. 0. 0. 0. 0. 0. 0. 0. 0. 1. 0.]\n",
      " [0. 0. 0. 0. 0. 0. 0. 0. 0. 0. 0. 0. 0. 1. 0. 0.]]\n",
      "1.0000 |0000>\n"
     ]
    }
   ],
   "source": [
    "# Bunch of experimentation with Alex\n",
    "PrettyPrintBinary(S.ReadAndProcessString(open(\"input.circuit\").read()))\n",
    "z = list(np.zeros(16))\n",
    "z = [1/(np.sqrt(16)) for x in z]\n",
    "# PrettyPrintBinary(VecToDirac(z))\n",
    "# d = MB.ReadAndRunCircuit(open(\"example.circuit\").read(), z)\n",
    "# print(d)\n",
    "# # print(VecToDirac(list(d)))\n",
    "# PrettyPrintBinary(VecToDirac(list(d)))\n",
    "# PrettyPrintBinary(VecToDirac(z))\n",
    "compareCircuit = '''\n",
    "4\n",
    "INITSTATE BASIS |0100>\n",
    "CNOT 1 0'''\n",
    "\n",
    "PrettyPrintBinary(S.ReadAndProcessString(compareCircuit))\n",
    "a = MA.CreateCircutMatrix(compareCircuit)\n",
    "print(a)\n",
    "b = np.zeros(16)\n",
    "b[0] = 1\n",
    "\n",
    "# print(b)\n",
    "# PrettyPrintBinary(VecToDirac(list(MB.ReadAndRunCircuit(compareCircuit, list(b)))))\n",
    "c = np.zeros((2,2))\n",
    "c[0, 1] = 1\n",
    "c[1, 0] = 1\n",
    "# print(np.kron(np.eye(2), np.kron(c, np.kron(np.eye(2), np.eye(2)))))\n",
    "PrettyPrintBinary(VecToDirac(list(a@b)))\n",
    "# print(a @ b)"
   ]
  },
  {
   "cell_type": "code",
   "execution_count": 504,
   "metadata": {},
   "outputs": [
    {
     "data": {
      "image/png": "[encoded data removed]",
      "text/plain": [
       "<Figure size 640x480 with 1 Axes>"
      ]
     },
     "metadata": {},
     "output_type": "display_data"
    }
   ],
   "source": [
    "# Running simulator S 1000 times on measure.circuit\n",
    "# x axis is in decimal notation\n",
    "measureInput = open('measure.circuit').read()\n",
    "count = []\n",
    "for i in range(32):\n",
    "    count.append(0)\n",
    "temp = S.ReadAndProcessString(measureInput, measures=1000)\n",
    "\n",
    "measured = [int(x, 2) for x in temp]\n",
    "# for i in range(1000):\n",
    "#     # count[int(S.ReadAndProcessString(measureInput), 2)] += 1\n",
    "#     measured.append(int(S.ReadAndProcessString(measureInput), 2))\n",
    "#     # print(int(S.ReadAndProcessString(measureInput), 2))\n",
    "_ = plt.hist(measured, bins=32)"
   ]
  },
  {
   "cell_type": "code",
   "execution_count": 505,
   "metadata": {},
   "outputs": [
    {
     "name": "stdout",
     "output_type": "stream",
     "text": [
      "0.1541-0.0390j |00000> + 0.0490-0.0300j |00001> + -0.0213+0.0877j |00010> + -0.1116-0.2333j |00011> + -0.0339-0.0097j |00100> + -0.0167-0.1303j |00101> + -0.1959+0.0099j |00110> + -0.0980+0.0135j |00111> + -0.1808+0.0144j |01000> + 0.0538-0.0686j |01001> + 0.0010-0.0035j |01010> + -0.0215+0.0174j |01011> + -0.0072+0.1596j |01100> + -0.2231+0.0746j |01101> + -0.0379+0.0059j |01110> + 0.0739-0.0507j |01111> + -0.1480+0.0875j |10000> + -0.0633+0.2566j |10001> + 0.1169+0.0138j |10010> + -0.0267-0.0041j |10011> + 0.2192-0.2130j |10100> + -0.0489-0.1164j |10101> + -0.1479-0.1048j |10110> + 0.2232+0.0508j |10111> + -0.1396-0.2372j |11000> + 0.1848-0.0051j |11001> + -0.2632-0.0656j |11010> + 0.1752-0.0201j |11011> + 0.1122+0.0012j |11100> + 0.0242-0.1245j |11101> + -0.2083+0.0770j |11110> + 0.0548+0.3061j |11111>\n"
     ]
    }
   ],
   "source": [
    "# testing advanced circuit descriptions\n",
    "inputTest = open('input.circuit').read()\n",
    "PrettyPrintBinary(S.ReadAndProcessString(inputTest))\n",
    "\n",
    "secondInputTest = '''\n",
    "3\n",
    "INITSTATE BASIS |001>\n",
    "H 2'''\n",
    "\n",
    "# PrettyPrintBinary(S.ReadAndProcessString(secondInputTest))"
   ]
  },
  {
   "cell_type": "code",
   "execution_count": 506,
   "metadata": {},
   "outputs": [
    {
     "name": "stdout",
     "output_type": "stream",
     "text": [
      "1.0000-0.0000j |0>\n"
     ]
    }
   ],
   "source": [
    "# implementation of NOT gate\n",
    "NOTGate = '''\n",
    "1\n",
    "INITSTATE BASIS |1>\n",
    "H 0\n",
    "P 0 3.14159265\n",
    "H 0'''\n",
    "PrettyPrintBinary(S.ReadAndProcessString(NOTGate))"
   ]
  },
  {
   "cell_type": "code",
   "execution_count": 507,
   "metadata": {},
   "outputs": [
    {
     "name": "stdout",
     "output_type": "stream",
     "text": [
      "0.9211-0.3894j |0>\n"
     ]
    }
   ],
   "source": [
    "# Implementation of Rz(0.8)\n",
    "RzGate = '''\n",
    "1\n",
    "INITSTATE BASIS |0>\n",
    "H 0\n",
    "P 0 3.14159265\n",
    "H 0\n",
    "P 0 -0.4\n",
    "H 0\n",
    "P 0 3.14159265\n",
    "H 0\n",
    "P 0 0.4'''\n",
    "PrettyPrintBinary(S.ReadAndProcessString(RzGate))"
   ]
  },
  {
   "cell_type": "code",
   "execution_count": 508,
   "metadata": {},
   "outputs": [
    {
     "name": "stdout",
     "output_type": "stream",
     "text": [
      "0.9211+0.3894j |11>\n"
     ]
    }
   ],
   "source": [
    "# CRz gate with 0th wire as control and 1th wire as target\n",
    "CRzGate = '''\n",
    "2\n",
    "INITSTATE BASIS |11>\n",
    "CNOT 0 1\n",
    "P 1 -0.4\n",
    "CNOT 0 1\n",
    "P 1 0.4'''\n",
    "PrettyPrintBinary(S.ReadAndProcessString(CRzGate))"
   ]
  },
  {
   "cell_type": "code",
   "execution_count": 509,
   "metadata": {},
   "outputs": [
    {
     "name": "stdout",
     "output_type": "stream",
     "text": [
      "1.0000 |00>\n"
     ]
    }
   ],
   "source": [
    "# working Controlled phase gate that rotates by 0.8\n",
    "CPGate = '''\n",
    "2\n",
    "INITSTATE BASIS |00>\n",
    "P 1 0.4\n",
    "CNOT 0 1\n",
    "P 1 -0.4\n",
    "CNOT 0 1\n",
    "P 0 0.4\n",
    "'''\n",
    "PrettyPrintBinary(S.ReadAndProcessString(CPGate))"
   ]
  },
  {
   "cell_type": "code",
   "execution_count": 510,
   "metadata": {},
   "outputs": [
    {
     "name": "stdout",
     "output_type": "stream",
     "text": [
      "1.0000 |010>\n"
     ]
    }
   ],
   "source": [
    "# Swap gate\n",
    "SwapGate = '''\n",
    "3\n",
    "INITSTATE BASIS |010>\n",
    "CNOT 0 2\n",
    "CNOT 2 0\n",
    "CNOT 0 2\n",
    "'''\n",
    "PrettyPrintBinary(S.ReadAndProcessString(SwapGate))"
   ]
  },
  {
   "cell_type": "code",
   "execution_count": 511,
   "metadata": {},
   "outputs": [
    {
     "name": "stdout",
     "output_type": "stream",
     "text": [
      "9\n",
      "INITSTATE BASIS |000000000>\n",
      "H 0\n",
      "P 5 0.15\n",
      "CNOT 0 5\n",
      "P 5 -0.15\n",
      "CNOT 0 5\n",
      "P 0 0.15\n",
      "P 1 0.3\n",
      "CNOT 4 7\n",
      "CNOT 2 8\n",
      "CNOT 8 2\n",
      "CNOT 2 8\n",
      "\n",
      "0.7071 |000000000> + 0.7071 |100000000>\n"
     ]
    }
   ],
   "source": [
    "# Testing the precompile step\n",
    "testPrecompile = '''\n",
    "9\n",
    "INITSTATE BASIS |000000000>\n",
    "H 0\n",
    "CPHASE 0 5 0.3\n",
    "P 1 0.3\n",
    "CNOT 4 7\n",
    "SWAP 2 8'''\n",
    "print(Precompile(testPrecompile))\n",
    "PrettyPrintBinary(S.ReadAndProcessString(testPrecompile))"
   ]
  },
  {
   "cell_type": "code",
   "execution_count": 512,
   "metadata": {},
   "outputs": [
    {
     "name": "stdout",
     "output_type": "stream",
     "text": [
      "0.9605+0.1947j |01> + 0.0395-0.1947j |11>\n"
     ]
    }
   ],
   "source": [
    "firstPhaseEstimation = '''\n",
    "2\n",
    "INITSTATE BASIS |01>\n",
    "H 0\n",
    "CPHASE 0 1 0.4\n",
    "H 0'''\n",
    "PrettyPrintBinary(S.ReadAndProcessString(Precompile(firstPhaseEstimation)))"
   ]
  },
  {
   "cell_type": "code",
   "execution_count": 550,
   "metadata": {},
   "outputs": [
    {
     "name": "stdout",
     "output_type": "stream",
     "text": [
      "[0.0, 0.0, 0.0, 0.0, 0.0, 0.0, 0.0, 0.125, 0.125, 0.125, 0.125, 0.125, 0.125, 0.125, 0.125, 0.125, 0.125, 0.125, 0.125, 0.25, 0.25, 0.25, 0.25, 0.25, 0.25, 0.25, 0.25, 0.25, 0.25, 0.25, 0.25, 0.25, 0.375, 0.375, 0.375, 0.375, 0.375, 0.375, 0.375, 0.375, 0.375, 0.375, 0.375, 0.375, 0.5, 0.5, 0.5, 0.5, 0.5, 0.5, 0.5, 0.5, 0.5, 0.5, 0.5, 0.5, 0.5, 0.625, 0.625, 0.625, 0.625, 0.625, 0.625, 0.625, 0.625, 0.625, 0.625, 0.625, 0.625, 0.625, 0.75, 0.75, 0.75, 0.75, 0.75, 0.75, 0.75, 0.75, 0.75, 0.75, 0.75, 0.75, 0.875, 0.875, 0.875, 0.875, 0.875, 0.875, 0.875, 0.875, 0.875, 0.875, 0.875, 0.875, 0.0, 0.0, 0.0, 0.0, 0.0, 0.0]\n"
     ]
    },
    {
     "data": {
      "image/png": "[encoded data removed]",
      "text/plain": [
       "<Figure size 640x480 with 1 Axes>"
      ]
     },
     "metadata": {},
     "output_type": "display_data"
    }
   ],
   "source": [
    "def makePlotofThetaPrediction(nMeasureWires):\n",
    "    phiMeasures = []\n",
    "    \n",
    "    \n",
    "    for i in range(100):\n",
    "        phi =  2 *i * np.pi / 100\n",
    "        startstate = \"\"\n",
    "        for i in range(nMeasureWires):\n",
    "            startstate += \"0\"\n",
    "        variedPhaseEstimation = f'''{nMeasureWires+1}\\nINITSTATE BASIS |{startstate}1>\\n'''\n",
    "        for j in range(nMeasureWires):\n",
    "            variedPhaseEstimation += f\"H {j}\\n\"\n",
    "        for k in range(nMeasureWires, 0, -1):\n",
    "            for l in range(2**(nMeasureWires-k)):\n",
    "                variedPhaseEstimation += f\"CPHASE {nMeasureWires} {k-1} {phi}\\n\"\n",
    "        variedPhaseEstimation = Precompile(variedPhaseEstimation)\n",
    "        variedPhaseEstimation += invert(Precompile(GenerateQFT(nMeasureWires)))\n",
    "        variedPhaseEstimation += \"MEASURE\"\n",
    "        # print(variedPhaseEstimation)\n",
    "        # print()\n",
    "        # print(Precompile(variedPhaseEstimation))\n",
    "        measures = S.ReadAndProcessString(Precompile(variedPhaseEstimation), measures=100)\n",
    "        phiMeasures.append(max(set(measures), key = list(measures).count))\n",
    "        # print(max(set(measures), key = list(measures).count))\n",
    "    # print(phiMeasures)\n",
    "    y = [int(m[:-1], 2)/(2**nMeasureWires) for m in phiMeasures]\n",
    "    print(y)\n",
    "    x = np.linspace(0, 1, num = 100)\n",
    "    plt.plot(x, y)\n",
    "    plt.xlabel(r\"$\\phi/2\\pi$\")\n",
    "    plt.ylabel(r\"Predicted $\\theta_j$\")\n",
    "makePlotofThetaPrediction(3)"
   ]
  },
  {
   "cell_type": "code",
   "execution_count": 130,
   "metadata": {},
   "outputs": [
    {
     "name": "stdout",
     "output_type": "stream",
     "text": [
      "\n",
      "2\n",
      "INITSTATE BASIS |01>\n",
      "H 0\n",
      "CPHASE 0 1 6.220353454107791\n",
      "H 0\n",
      "MEASURE\n",
      "2\n",
      "INITSTATE BASIS |01>\n",
      "H 0\n",
      "P 1 3.1101767270538954\n",
      "CNOT 0 1\n",
      "P 1 -3.1101767270538954\n",
      "CNOT 0 1\n",
      "P 0 3.1101767270538954\n",
      "H 0\n",
      "MEASURE\n",
      "\n",
      "[0.0, 0.0, 0.0, 0.0, 0.0, 0.0, 0.0, 0.0, 0.0, 0.0, 0.0, 0.0, 0.0, 0.0, 0.0, 0.0, 0.0, 0.0, 0.0, 0.0, 0.0, 0.0, 0.0, 0.0, 0.0, 0.0, 0.5, 0.5, 0.5, 0.5, 0.5, 0.5, 0.5, 0.5, 0.5, 0.5, 0.5, 0.5, 0.5, 0.5, 0.5, 0.5, 0.5, 0.5, 0.5, 0.5, 0.5, 0.5, 0.5, 0.5, 0.5, 0.5, 0.5, 0.5, 0.5, 0.5, 0.5, 0.5, 0.5, 0.5, 0.5, 0.5, 0.5, 0.5, 0.5, 0.5, 0.5, 0.5, 0.5, 0.5, 0.5, 0.5, 0.5, 0.5, 0.5, 0.0, 0.0, 0.0, 0.0, 0.0, 0.0, 0.0, 0.0, 0.0, 0.0, 0.0, 0.0, 0.0, 0.0, 0.0, 0.0, 0.0, 0.0, 0.0, 0.0, 0.0, 0.0, 0.0, 0.0, 0.0]\n"
     ]
    },
    {
     "data": {
      "text/plain": [
       "Text(0, 0.5, 'Predicted $\\\\theta_j$')"
      ]
     },
     "execution_count": 130,
     "metadata": {},
     "output_type": "execute_result"
    },
    {
     "data": {
      "image/png": "[encoded data removed]",
      "text/plain": [
       "<Figure size 640x480 with 1 Axes>"
      ]
     },
     "metadata": {},
     "output_type": "display_data"
    }
   ],
   "source": [
    "phiMeasures = []\n",
    "for i in range(100):\n",
    "    variedPhaseEstimation = '''\n",
    "2\n",
    "INITSTATE BASIS |01>\n",
    "H 0\n",
    "CPHASE 0 1 '''\n",
    "    variedPhaseEstimation += str(np.pi * 2 * i / 100)\n",
    "    variedPhaseEstimation += \"\\nH 0\\nMEASURE\"\n",
    "    measures = S.ReadAndProcessString(Precompile(variedPhaseEstimation), measures=100)\n",
    "    phiMeasures.append(max(set(measures), key = list(measures).count))\n",
    "print(variedPhaseEstimation)\n",
    "print(Precompile(variedPhaseEstimation))\n",
    "y = [int(m[:-1])/2 for m in phiMeasures]\n",
    "print(y)\n",
    "x = np.linspace(0, 1, num = 100)\n",
    "plt.plot(x, y)\n",
    "plt.xlabel(r\"$\\phi/2\\pi$\")\n",
    "plt.ylabel(r\"Predicted $\\theta_j$\")"
   ]
  },
  {
   "cell_type": "code",
   "execution_count": 35,
   "metadata": {},
   "outputs": [
    {
     "data": {
      "text/plain": [
       "Text(0.5, 1.0, '1000 measurements of phi = 0.143239')"
      ]
     },
     "execution_count": 35,
     "metadata": {},
     "output_type": "execute_result"
    },
    {
     "data": {
      "image/png": "[encoded data removed]",
      "text/plain": [
       "<Figure size 640x480 with 1 Axes>"
      ]
     },
     "metadata": {},
     "output_type": "display_data"
    }
   ],
   "source": [
    "phi = 0.1432394487827058 * 2 * np.pi\n",
    "specificPhaseEstimation = f'''\n",
    "2\n",
    "INITSTATE BASIS |01>\n",
    "H 0\n",
    "CPHASE 0 1 {phi}\n",
    "H 0\n",
    "MEASURE'''\n",
    "measures = S.ReadAndProcessString(Precompile(specificPhaseEstimation), measures=1000)\n",
    "measures = [int(m[0]) for m in measures]\n",
    "\n",
    "fig, ax = plt.subplots(1)\n",
    "ax.hist(measures, bins=5)\n",
    "ax.axvline(0.1432394487827058)\n",
    "ax.set_title(\"1000 measurements of phi = 0.143239\")\n"
   ]
  },
  {
   "cell_type": "code",
   "execution_count": 420,
   "metadata": {},
   "outputs": [
    {
     "name": "stdout",
     "output_type": "stream",
     "text": [
      "3\n",
      "INITSTATE BASIS |001>\n",
      "H 0\n",
      "H 1\n",
      "P 1 3.1101767270538954\n",
      "CNOT 2 1\n",
      "P 1 -3.1101767270538954\n",
      "CNOT 2 1\n",
      "P 2 3.1101767270538954\n",
      "P 0 3.1101767270538954\n",
      "CNOT 2 0\n",
      "P 0 -3.1101767270538954\n",
      "CNOT 2 0\n",
      "P 2 3.1101767270538954\n",
      "P 0 3.1101767270538954\n",
      "CNOT 2 0\n",
      "P 0 -3.1101767270538954\n",
      "CNOT 2 0\n",
      "P 2 3.1101767270538954\n",
      "H 0\n",
      "P 0 -0.7853981633974483\n",
      "CNOT 1 0\n",
      "P 0 0.7853981633974483\n",
      "CNOT 1 0\n",
      "P 1 -0.7853981633974483\n",
      "H 1\n",
      "CNOT 0 1\n",
      "CNOT 1 0\n",
      "CNOT 0 1\n",
      "MEASURE\n",
      "\n",
      "['001', '001', '001', '001', '001', '001', '001', '001', '001', '001', '001', '001', '001', '011', '011', '011', '011', '011', '011', '011', '011', '011', '011', '011', '011', '011', '011', '011', '011', '011', '011', '011', '011', '011', '011', '011', '011', '011', '101', '101', '101', '101', '101', '101', '101', '101', '101', '101', '101', '101', '101', '101', '101', '101', '101', '101', '101', '101', '101', '101', '101', '101', '101', '101', '111', '111', '111', '111', '111', '111', '111', '111', '111', '111', '111', '111', '111', '111', '111', '111', '111', '111', '111', '111', '111', '111', '111', '111', '001', '001', '001', '001', '001', '001', '001', '001', '001', '001', '001', '001']\n",
      "[0.0, 0.0, 0.0, 0.0, 0.0, 0.0, 0.0, 0.0, 0.0, 0.0, 0.0, 0.0, 0.0, 0.25, 0.25, 0.25, 0.25, 0.25, 0.25, 0.25, 0.25, 0.25, 0.25, 0.25, 0.25, 0.25, 0.25, 0.25, 0.25, 0.25, 0.25, 0.25, 0.25, 0.25, 0.25, 0.25, 0.25, 0.25, 0.5, 0.5, 0.5, 0.5, 0.5, 0.5, 0.5, 0.5, 0.5, 0.5, 0.5, 0.5, 0.5, 0.5, 0.5, 0.5, 0.5, 0.5, 0.5, 0.5, 0.5, 0.5, 0.5, 0.5, 0.5, 0.5, 0.75, 0.75, 0.75, 0.75, 0.75, 0.75, 0.75, 0.75, 0.75, 0.75, 0.75, 0.75, 0.75, 0.75, 0.75, 0.75, 0.75, 0.75, 0.75, 0.75, 0.75, 0.75, 0.75, 0.75, 0.0, 0.0, 0.0, 0.0, 0.0, 0.0, 0.0, 0.0, 0.0, 0.0, 0.0, 0.0]\n"
     ]
    },
    {
     "data": {
      "text/plain": [
       "[<matplotlib.lines.Line2D at 0x1a82a82acb0>]"
      ]
     },
     "execution_count": 420,
     "metadata": {},
     "output_type": "execute_result"
    },
    {
     "data": {
      "image/png": "[encoded data removed]",
      "text/plain": [
       "<Figure size 640x480 with 1 Axes>"
      ]
     },
     "metadata": {},
     "output_type": "display_data"
    }
   ],
   "source": [
    "phiMeasures = []\n",
    "for i in range(100):\n",
    "    phi = np.pi * 2 * i / 100\n",
    "    moreExactPhaseEstimation = f'''\n",
    "3\n",
    "INITSTATE BASIS |001>\n",
    "H 0\n",
    "H 1\n",
    "CPHASE 2 1 {phi}\n",
    "CPHASE 2 0 {phi}\n",
    "CPHASE 2 0 {phi}\n",
    "H 0\n",
    "CPHASE 1 0 {-np.pi/2}\n",
    "H 1\n",
    "SWAP 0 1\n",
    "MEASURE'''\n",
    "    # print(Precompile(moreExactPhaseEstimation))\n",
    "    measures = S.ReadAndProcessString(Precompile(moreExactPhaseEstimation), measures=100)\n",
    "    phiMeasures.append(max(set(measures), key = list(measures).count))\n",
    "print(Precompile(moreExactPhaseEstimation))\n",
    "print(phiMeasures)\n",
    "y = [int(m[:-1], 2)/4 for m in phiMeasures]\n",
    "print(y)\n",
    "x = np.linspace(0, 1, num = 100)\n",
    "plt.plot(x, y)"
   ]
  },
  {
   "cell_type": "code",
   "execution_count": 61,
   "metadata": {},
   "outputs": [
    {
     "data": {
      "text/plain": [
       "Text(0.5, 1.0, '1000 measurements of phi = 0.9')"
      ]
     },
     "execution_count": 61,
     "metadata": {},
     "output_type": "execute_result"
    },
    {
     "data": {
      "image/png": "[encoded data removed]",
      "text/plain": [
       "<Figure size 640x480 with 1 Axes>"
      ]
     },
     "metadata": {},
     "output_type": "display_data"
    }
   ],
   "source": [
    "phi = 0.1432394487827058 * 2 * np.pi\n",
    "moreExactPhaseEstimation = f'''\n",
    "3\n",
    "INITSTATE BASIS |001>\n",
    "H 0\n",
    "H 1\n",
    "CPHASE 2 1 {phi}\n",
    "CPHASE 2 0 {phi}\n",
    "CPHASE 2 0 {phi}\n",
    "H 0\n",
    "CPHASE 1 0 {-np.pi/2}\n",
    "H 1\n",
    "SWAP 0 1\n",
    "MEASURE'''\n",
    "measures = S.ReadAndProcessString(Precompile(moreExactPhaseEstimation), measures=1000)\n",
    "measures = [int(m[:-1], 2)/4 for m in measures]\n",
    "fig, ax = plt.subplots(1)\n",
    "ax.hist(measures, bins=16)\n",
    "ax.axvline(0.1432394487827058)\n",
    "ax.set_title(f\"1000 measurements of phi = {phi}\")\n"
   ]
  },
  {
   "cell_type": "code",
   "execution_count": null,
   "metadata": {},
   "outputs": [
    {
     "name": "stdout",
     "output_type": "stream",
     "text": [
      "0.3536+0.0000j |000> + 0.2500+0.2500j |001> + -0.3536+0.0000j |010> + -0.2500-0.2500j |011> + 0.0000+0.3536j |100> + -0.2500+0.2500j |101> + -0.0000-0.3536j |110> + 0.2500-0.2500j |111>\n"
     ]
    }
   ],
   "source": [
    "QFTtest = f'''\n",
    "3\n",
    "INITSTATE BASIS |100>\n",
    "H 2\n",
    "CPHASE 1 2 {np.pi/2}\n",
    "CPHASE 0 2 {np.pi/4}\n",
    "H 1\n",
    "CPHASE 0 1 {np.pi/2}\n",
    "H 0\n",
    "REVERSE 0 2'''\n",
    "PrettyPrintBinary(S.ReadAndProcessString(Precompile(QFTtest)))"
   ]
  },
  {
   "cell_type": "code",
   "execution_count": 148,
   "metadata": {},
   "outputs": [
    {
     "name": "stdout",
     "output_type": "stream",
     "text": [
      "H 0\n",
      "P 1 -0.7853981633974483\n",
      "CNOT 1 0\n",
      "P 0 0.7853981633974483\n",
      "CNOT 1 0\n",
      "P 0 -0.7853981633974483\n",
      "H 1\n",
      "P 2 -0.39269908169872414\n",
      "CNOT 2 0\n",
      "P 0 0.39269908169872414\n",
      "CNOT 2 0\n",
      "P 0 -0.39269908169872414\n",
      "P 2 -0.7853981633974483\n",
      "CNOT 2 1\n",
      "P 1 0.7853981633974483\n",
      "CNOT 2 1\n",
      "P 1 -0.7853981633974483\n",
      "H 2\n",
      "P 3 -0.19634954084936207\n",
      "CNOT 3 0\n",
      "P 0 0.19634954084936207\n",
      "CNOT 3 0\n",
      "P 0 -0.19634954084936207\n",
      "P 3 -0.39269908169872414\n",
      "CNOT 3 1\n",
      "P 1 0.39269908169872414\n",
      "CNOT 3 1\n",
      "P 1 -0.39269908169872414\n",
      "P 3 -0.7853981633974483\n",
      "CNOT 3 2\n",
      "P 2 0.7853981633974483\n",
      "CNOT 3 2\n",
      "P 2 -0.7853981633974483\n",
      "H 3\n",
      "\n",
      "CNOT 0 2\n",
      "CNOT 2 0\n",
      "CNOT 0 2\n",
      "\n"
     ]
    }
   ],
   "source": [
    "print(invert(Precompile(GenerateQFT(4))))"
   ]
  },
  {
   "cell_type": "code",
   "execution_count": 551,
   "metadata": {},
   "outputs": [
    {
     "name": "stdout",
     "output_type": "stream",
     "text": [
      "0.2500+0.0000j |0000> + 0.0000+0.2500j |0001> + -0.2500+0.0000j |0010> + 0.0000-0.2500j |0011> + 0.2500+0.0000j |0100> + 0.0000+0.2500j |0101> + -0.2500+0.0000j |0110> + 0.0000-0.2500j |0111> + 0.2500+0.0000j |1000> + 0.0000+0.2500j |1001> + -0.2500+0.0000j |1010> + 0.0000-0.2500j |1011> + 0.2500+0.0000j |1100> + 0.0000+0.2500j |1101> + -0.2500+0.0000j |1110> + 0.0000-0.2500j |1111>\n",
      "REVERSE 0 3\n",
      "H 3\n",
      "CPHASE 3 2 1.5707963267948966\n",
      "CPHASE 3 1 0.7853981633974483\n",
      "CPHASE 3 0 0.39269908169872414\n",
      "H 2\n",
      "CPHASE 2 1 1.5707963267948966\n",
      "CPHASE 2 0 0.7853981633974483\n",
      "H 1\n",
      "CPHASE 1 0 1.5707963267948966\n",
      "H 0\n",
      "\n"
     ]
    }
   ],
   "source": [
    "def testQFT():\n",
    "    input = '''4\n",
    "INITSTATE BASIS |0100>\n",
    "'''\n",
    "    input += Precompile(GenerateQFT(4))\n",
    "    # print(input)\n",
    "    PrettyPrintBinary(S.ReadAndProcessString(input))\n",
    "    \n",
    "testQFT()\n",
    "print(GenerateQFT(4))"
   ]
  },
  {
   "cell_type": "code",
   "execution_count": 552,
   "metadata": {},
   "outputs": [
    {
     "name": "stdout",
     "output_type": "stream",
     "text": [
      "-0.0403-0.2209j |00000> + 0.1411+0.1665j |00001> + 0.1848+0.0639j |00010> + 0.0003-0.0222j |00011> + 0.1567-0.0846j |00100> + 0.2119-0.1355j |00101> + 0.0244+0.0073j |00110> + 0.1228-0.2049j |00111> + 0.2166+0.0201j |01000> + 0.1072+0.0013j |01001> + -0.2352-0.0010j |01010> + -0.0770-0.1674j |01011> + -0.0014+0.1086j |01100> + -0.0452-0.1133j |01101> + -0.1991-0.1132j |01110> + -0.1595+0.1467j |01111> + -0.0337+0.0794j |10000> + 0.0280-0.0007j |10001> + -0.0288-0.0853j |10010> + -0.2534-0.2309j |10011> + 0.2441+0.0389j |10100> + -0.1250-0.0073j |10101> + -0.1493-0.0427j |10110> + 0.1768-0.0506j |10111> + -0.1181+0.0162j |11000> + -0.1053+0.0386j |11001> + -0.0293+0.0125j |11010> + -0.2141+0.0843j |11011> + 0.1258-0.0245j |11100> + -0.0770-0.1228j |11101> + 0.0763-0.1187j |11110> + -0.1723+0.0020j |11111>\n"
     ]
    }
   ],
   "source": [
    "def wrapper():\n",
    "    input = '''\n",
    "5\n",
    "INITSTATE FILE myInputState.txt\n",
    "'''\n",
    "    input += Precompile(GenerateQFT(5))\n",
    "    # print(input)\n",
    "    PrettyPrintBinary(S.ReadAndProcessString(input))\n",
    "    \n",
    "wrapper()"
   ]
  },
  {
   "cell_type": "code",
   "execution_count": null,
   "metadata": {},
   "outputs": [],
   "source": []
  },
  {
   "cell_type": "code",
   "execution_count": null,
   "metadata": {},
   "outputs": [],
   "source": []
  }
 ],
 "metadata": {
  "kernelspec": {
   "display_name": "Python 3",
   "language": "python",
   "name": "python3"
  },
  "language_info": {
   "codemirror_mode": {
    "name": "ipython",
    "version": 3
   },
   "file_extension": ".py",
   "mimetype": "text/x-python",
   "name": "python",
   "nbconvert_exporter": "python",
   "pygments_lexer": "ipython3",
   "version": "3.12.1"
  }
 },
 "nbformat": 4,
 "nbformat_minor": 2
}
