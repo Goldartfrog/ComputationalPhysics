{
 "cells": [
  {
   "cell_type": "code",
   "execution_count": 1,
   "metadata": {},
   "outputs": [],
   "source": [
    "import numpy as np"
   ]
  },
  {
   "cell_type": "code",
   "execution_count": 39,
   "metadata": {},
   "outputs": [],
   "source": [
    "def PrettyPrintBinary(state):\n",
    "    outstr = \"\"\n",
    "    if (type(state) == list and type(state[0]) == tuple):\n",
    "        for s in state:\n",
    "            outstr += (str)(s[0])\n",
    "            outstr += \" |\"\n",
    "            outstr += s[1]\n",
    "            outstr += \"> \"\n",
    "            outstr += \"+ \"\n",
    "        print(outstr)\n",
    "    # elif (type(state) == list and type(state[0]) == np.float64):\n",
    "    #     sto = 0\n",
    "    #     for s in range(len(state)):\n",
    "    #         if (len(bin(s)) > sto):\n",
    "    #             sto = len(bin(s))\n",
    "    #     print(sto)\n",
    "    #     for s in range(len(state)):\n",
    "    #         if(state[s] != 0):\n",
    "    #             outstr += str(state[s])\n",
    "    #             outstr += \"|\"\n",
    "    #             addstr = str(bin(s))[2:]\n",
    "    #             if (len(addstr) < sto - 2):\n",
    "                    \n",
    "    #             outstr += str(bin(s))[2:]\n",
    "    #             outstr += \"> \"\n",
    "    #     print(outstr)\n",
    "    else:\n",
    "        print(\"State is not valid\")\n",
    "def PrettyPrintInteger(state):\n",
    "    if (type(state) == list and type(state[0]) == np.float64):\n",
    "        outstr = \"\"\n",
    "        for i in range(len(state)):\n",
    "            if (state[i] != 0):\n",
    "                outstr += (str)(state[i])\n",
    "                outstr += \" |\"\n",
    "                outstr += str(i)\n",
    "                outstr += \"> \"\n",
    "                outstr += \"+ \"\n",
    "        print(outstr)\n",
    "    else:\n",
    "        print(\"State passed to PrettyPrintInteger is not valid\")\n",
    "\n",
    "def VecToDirac(myVec):\n",
    "    if ((type(myVec) == list and type(myVec[0]) == np.float64 and len(myVec) % 2 == 0)):\n",
    "        newState = []\n",
    "        binlen = int(np.log2(len(myVec)))\n",
    "        for i in range(len(myVec)):\n",
    "            if (myVec[i] != 0):\n",
    "                bi = bin(i)[2:].zfill(binlen)\n",
    "                newState.append((myVec[i], bi))\n",
    "        return newState\n",
    "    else:\n",
    "        print(\"Error in VecToDirac\")\n",
    "        \n",
    "def DiracToVec(state):\n",
    "    if (not (type(state) == list and type(state[0]) == tuple)):\n",
    "        print(\"Error in DiracToVec\")\n",
    "    else:\n",
    "        newVec = []\n",
    "        for i in range(2**len(state[0][1])):\n",
    "            newVec.append(0)\n",
    "        for s in state:\n",
    "            newVec[int(s[1], 2)] = s[0]\n",
    "        return newVec\n"
   ]
  },
  {
   "cell_type": "code",
   "execution_count": 40,
   "metadata": {},
   "outputs": [
    {
     "name": "stdout",
     "output_type": "stream",
     "text": [
      "0.31622776601683794j |101> + 0.7071067811865476 |000> + -0.6324555320336759 |010> + \n",
      "0.7071067811865476 |0> + -0.6324555320336759 |2> + 0.31622776601683794j |5> + \n",
      "0.7071067811865476 |000> + -0.6324555320336759 |010> + 0.31622776601683794j |101> + \n",
      "0.7071067811865476 |0> + -0.6324555320336759 |2> + 0.31622776601683794j |5> + \n",
      "0.7071067811865476 |000> + -0.6324555320336759 |010> + 0.31622776601683794j |101> + \n"
     ]
    }
   ],
   "source": [
    "myState2=[\n",
    "   (np.sqrt(0.1)*1.j, '101'),\n",
    "   (np.sqrt(0.5), '000') ,\n",
    "   (-np.sqrt(0.4), '010' )]\n",
    "myEquivilentState2 = [np.sqrt(0.5), 0, -np.sqrt(0.4), 0, 0, np.sqrt(0.1)*1.j, 0, 0]\n",
    "PrettyPrintBinary(myState2)\n",
    "PrettyPrintInteger(myEquivilentState2)\n",
    "PrettyPrintBinary(VecToDirac(myEquivilentState2))\n",
    "PrettyPrintInteger(DiracToVec(myState2))\n",
    "PrettyPrintBinary(VecToDirac(DiracToVec(myState2)))"
   ]
  },
  {
   "cell_type": "code",
   "execution_count": 43,
   "metadata": {},
   "outputs": [],
   "source": [
    "# Simulator S\n",
    "def H(wire, inputState):\n",
    "    newState = []\n",
    "    for s in inputState:\n",
    "        if (s[1][wire] == '0'):\n",
    "            bi = list(s[1])\n",
    "            bi[wire] = '0'\n",
    "            newState.append((s[0] * np.sqrt(1/2), \"\".join(bi)))\n",
    "            bi[wire] = '1'\n",
    "            newState.append((s[0] * np.sqrt(1/2), \"\".join(bi)))\n",
    "        if (s[1][wire] == '1'):\n",
    "            bi = list(s[1])\n",
    "            bi[wire] = '0'\n",
    "            newState.append((s[0] * np.sqrt(1/2), \"\".join(bi)))\n",
    "            bi[wire] = '1'\n",
    "            newState.append((s[0] * -np.sqrt(1/2), \"\".join(bi)))\n",
    "    return newState\n"
   ]
  },
  {
   "cell_type": "code",
   "execution_count": 45,
   "metadata": {},
   "outputs": [
    {
     "name": "stdout",
     "output_type": "stream",
     "text": [
      "0.223606797749979j |001> + (-0-0.223606797749979j) |101> + 0.5000000000000001 |000> + 0.5000000000000001 |100> + -0.447213595499958 |010> + -0.447213595499958 |110> + \n"
     ]
    }
   ],
   "source": [
    "PrettyPrintBinary(H(0,myState2))"
   ]
  },
  {
   "cell_type": "code",
   "execution_count": null,
   "metadata": {},
   "outputs": [],
   "source": []
  }
 ],
 "metadata": {
  "kernelspec": {
   "display_name": "Python 3",
   "language": "python",
   "name": "python3"
  },
  "language_info": {
   "codemirror_mode": {
    "name": "ipython",
    "version": 3
   },
   "file_extension": ".py",
   "mimetype": "text/x-python",
   "name": "python",
   "nbconvert_exporter": "python",
   "pygments_lexer": "ipython3",
   "version": "3.10.11"
  }
 },
 "nbformat": 4,
 "nbformat_minor": 2
}
