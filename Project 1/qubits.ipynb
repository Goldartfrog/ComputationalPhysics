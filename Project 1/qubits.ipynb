{
 "cells": [
  {
   "cell_type": "code",
   "execution_count": 22,
   "metadata": {},
   "outputs": [],
   "source": [
    "import numpy as np\n",
    "import matplotlib.pyplot as plt"
   ]
  },
  {
   "cell_type": "code",
   "execution_count": 74,
   "metadata": {},
   "outputs": [],
   "source": [
    "# collection of functions not organized into classes\n",
    "def PrettyPrintBinary(state):\n",
    "    outstr = \"\"\n",
    "    if (type(state) == list and type(state[0]) == tuple):\n",
    "        for i in range(len(state)):\n",
    "            # if (not np.isclose(state[i][0] * np.conj(state[i][0]), 0.00000, rtol=1e-5)):\n",
    "            outstr += f\"{state[i][0]:.4f} |{state[i][1]}>\"\n",
    "            # outstr += (str)(state[i][0])\n",
    "            # outstr += \" |\"\n",
    "            # outstr += state[i][1]\n",
    "            # outstr += \"> \"\n",
    "            if (i < len(state) - 1):\n",
    "                outstr += \"+ \"\n",
    "        print(outstr)\n",
    "    else:\n",
    "        print(\"State is not valid\")\n",
    "def PrettyPrintInteger(state):\n",
    "    if (type(state) == list):\n",
    "        outstr = \"\"\n",
    "        for i in range(len(state)):\n",
    "            if (state[i] != 0):\n",
    "                if (i != 0):\n",
    "                    outstr += \"+ \"\n",
    "                outstr += (str)(state[i])\n",
    "                outstr += \" |\"\n",
    "                outstr += str(i)\n",
    "                outstr += \"> \"\n",
    "        print(outstr)\n",
    "    else:\n",
    "        print(\"State passed to PrettyPrintInteger is not valid\")\n",
    "\n",
    "def VecToDirac(myVec):\n",
    "    if ((type(myVec) == list and len(myVec) % 2 == 0)):\n",
    "        newState = []\n",
    "        binlen = int(np.log2(len(myVec)))\n",
    "        for i in range(len(myVec)):\n",
    "            if (myVec[i] != 0):\n",
    "                bi = bin(i)[2:].zfill(binlen)\n",
    "                newState.append((myVec[i], bi))\n",
    "        return newState\n",
    "    else:\n",
    "        print(\"Error in VecToDirac\")\n",
    "        \n",
    "def DiracToVec(state):\n",
    "    if (not (type(state) == list and type(state[0]) == tuple)):\n",
    "        print(\"Error in DiracToVec\")\n",
    "    else:\n",
    "        newVec = []\n",
    "        for i in range(2**len(state[0][1])):\n",
    "            newVec.append(0)\n",
    "        for s in state:\n",
    "            newVec[int(s[1], 2)] = s[0]\n",
    "        return newVec\n",
    "def ReadInputString(myInput_lines):\n",
    "    myInput=[]\n",
    "    myInput_lines=myInput_lines.split('\\n')\n",
    "    myInput_lines = [ i for i in myInput_lines if i!='']\n",
    "    numberOfWires=int(myInput_lines[0])\n",
    "    for line in myInput_lines[1:]:\n",
    "        myInput.append(line.split())\n",
    "    return (numberOfWires,myInput)\n",
    "\n",
    "def GetStateFromFile(file, dirac):\n",
    "    a = open(file).read()\n",
    "    a = a.split(\"\\n\")\n",
    "    output = []\n",
    "    for i in a:\n",
    "        x = i.split(' ')\n",
    "        output.append(float(x[0]) + float(x[1]) * 1.j)\n",
    "    if (dirac):\n",
    "        return VecToDirac(output)\n",
    "    return output\n",
    "    \n",
    "def TensorMe(listOfMatrices):\n",
    "    current = listOfMatrices[0]\n",
    "    for i in range(len(listOfMatrices) - 1):\n",
    "        current = np.kron(current, listOfMatrices[i+1])\n",
    "    return current\n",
    "    "
   ]
  },
  {
   "cell_type": "code",
   "execution_count": 251,
   "metadata": {},
   "outputs": [],
   "source": [
    "# Simulator S\n",
    "class S:\n",
    "    def H(wire, inputState):\n",
    "        newState = []\n",
    "        for s in inputState:\n",
    "            if (s[1][wire] == '0'):\n",
    "                bi = list(s[1])\n",
    "                bi[wire] = '0'\n",
    "                newState.append((s[0] * np.sqrt(1/2), \"\".join(bi)))\n",
    "                bi[wire] = '1'\n",
    "                newState.append((s[0] * np.sqrt(1/2), \"\".join(bi)))\n",
    "            if (s[1][wire] == '1'):\n",
    "                bi = list(s[1])\n",
    "                bi[wire] = '0'\n",
    "                newState.append((s[0] * np.sqrt(1/2), \"\".join(bi)))\n",
    "                bi[wire] = '1'\n",
    "                newState.append((s[0] * -np.sqrt(1/2), \"\".join(bi)))\n",
    "        return newState\n",
    "\n",
    "    def Phase(wire, theta, inputState):\n",
    "        newState = []\n",
    "        for s in inputState:\n",
    "            if (s[1][wire] == '0'):\n",
    "                newState.append(s)\n",
    "            else:\n",
    "                newState.append((s[0] * np.exp(1.j * theta), s[1]))\n",
    "        return newState\n",
    "\n",
    "    def CNOT(controlwire, notwire, inputState):\n",
    "        newState = []\n",
    "        for s in inputState:\n",
    "            if (s[1][controlwire] == '0'):\n",
    "                newState.append(s)\n",
    "            else:\n",
    "                bi = list(s[1])\n",
    "                bi[notwire] = str((int(bi[notwire]) + 1) % 2)\n",
    "                # if (bi[notwire] == '0'):\n",
    "                #     print(\"here\")\n",
    "                #     bi[notwire] == '1'\n",
    "                # else:\n",
    "                #     bi[notwire] == '0'\n",
    "                string = \"\".join(bi)                \n",
    "                newState.append((s[0], string))\n",
    "        return newState\n",
    "    \n",
    "    def AddDuplicates(inputState):\n",
    "        bidict = {}\n",
    "        for s in inputState:\n",
    "            if (s[1] in bidict):\n",
    "                bidict[s[1]] += s[0]\n",
    "            else:\n",
    "                bidict[s[1]] = s[0]\n",
    "        \n",
    "        outstate = []\n",
    "        for i in bidict.keys():\n",
    "            if (not np.isclose(bidict[i], 0)):\n",
    "                outstate.append((bidict[i], i))\n",
    "        return outstate\n",
    "    \n",
    "    def measure(state, size = 1):\n",
    "        possibleStates = []\n",
    "        probabilities = []\n",
    "        for s in state:\n",
    "            possibleStates.append(s[1])\n",
    "            probabilities.append(s[0] * np.conjugate(s[0]))\n",
    "        rng = np.random.default_rng()\n",
    "        return rng.choice(possibleStates, size=size, p=np.real(probabilities))\n",
    "\n",
    "    def ReadAndProcessString(input_lines, test=False, measures=1):\n",
    "        numberOfWires, inputGates = ReadInputString(input_lines)\n",
    "        bin = ''\n",
    "        for i in range(numberOfWires):\n",
    "            bin += '0'\n",
    "        currentState = [(1, bin)]\n",
    "        for g in inputGates:\n",
    "            \n",
    "            if (g[0] == 'INITSTATE'):\n",
    "                if (g[1] == 'BASIS'):\n",
    "                    currentState[0] = (1, g[2][1:-1])\n",
    "                    if(test):\n",
    "                        print(\"BASIS\")\n",
    "                if (g[1] == 'FILE'):\n",
    "                    currentState = GetStateFromFile(g[2], True)\n",
    "            if (g[0] == 'H'):\n",
    "                if (test):\n",
    "                    print(\"H \" + g[1])\n",
    "                currentState = S.H(int(g[1]), currentState)\n",
    "            if (g[0] == 'P'):\n",
    "                if (test):\n",
    "                    print(\"P \" + g[2])\n",
    "                currentState = S.Phase(int(g[1]), float(g[2]), currentState)\n",
    "            if (g[0] == 'CNOT'):\n",
    "                if (test):\n",
    "                    print(\"CNOT \" + g[1] + \" \" + g[2])\n",
    "                currentState = S.CNOT(int(g[1]), int(g[2]), currentState)\n",
    "            currentState = S.AddDuplicates(currentState)\n",
    "            if (test):\n",
    "                PrettyPrintBinary(currentState)\n",
    "            if (g[0] == 'MEASURE'):\n",
    "                return S.measure(currentState, measures)\n",
    "        return currentState"
   ]
  },
  {
   "cell_type": "code",
   "execution_count": 25,
   "metadata": {},
   "outputs": [],
   "source": [
    "# Class for simulator M-a\n",
    "class MA:\n",
    "    H = 1/np.sqrt(2) * np.array([[1, 1], [1, -1]])\n",
    "    \n",
    "    def Hadamard(i, k):\n",
    "        \"\"\"creates a hadamard array\n",
    "        i: target wire\n",
    "        k: number of wires\"\"\"\n",
    "        arr = []\n",
    "        for j in range(k):\n",
    "            if j < i:\n",
    "                arr.append(np.eye(2))\n",
    "            if j == i:\n",
    "                arr.append(MA.H)\n",
    "            if j > i:\n",
    "                arr.append(np.eye(2))\n",
    "        return TensorMe(arr)\n",
    "    def Phase(i, k, theta):\n",
    "        \"\"\"creates a phase matrix\n",
    "        i: target wire\n",
    "        k: number of wires\n",
    "        theta: the phase to rotate by\"\"\"\n",
    "        arr = []\n",
    "        for j in range(k):\n",
    "            if j < i:\n",
    "                arr.append(np.eye(2))\n",
    "            if j == i:\n",
    "                arr.append(np.array([[1, 0], [0, np.exp(1.j * theta)]]))\n",
    "            if j > i:\n",
    "                arr.append(np.eye(2))\n",
    "        return TensorMe(arr)\n",
    "    def CNOT(controlwire, otherwire, totalwires):\n",
    "        \"\"\"creates a matrix for a CNOT gate\n",
    "        controlwire: the control wire\n",
    "        otherwire: the target wire (must be adjacent to control)\n",
    "        totalwires: yeah\"\"\"\n",
    "        if not((controlwire - 1 == otherwire) or (controlwire + 1 == otherwire)):\n",
    "            raise(ValueError(\"Controlwire and otherwire must be adjacent\"))\n",
    "        arr = []\n",
    "        hasntRun = True\n",
    "        j = 0\n",
    "        while j < totalwires:\n",
    "            if (j == controlwire or j == otherwire) and hasntRun:\n",
    "                t = np.eye(4)\n",
    "                if (controlwire < otherwire):\n",
    "                    t[:, [2, 3]] = t[:, [3, 2]] \n",
    "                else:\n",
    "                    t[:, [0, 1]] = t[:, [1, 0]]\n",
    "                arr.append(t)\n",
    "                j = j + 1\n",
    "                hasntRun = False\n",
    "            elif j < controlwire:\n",
    "                arr.append(np.eye(2))\n",
    "            elif j > otherwire:\n",
    "                arr.append(np.eye(2))\n",
    "            j = j + 1\n",
    "        return TensorMe(arr)\n",
    "    \n",
    "    def CreateCircutMatrix(input_lines):\n",
    "        numberOfWires, inputGates = ReadInputString(input_lines)\n",
    "        currentState = list(np.zeros(numberOfWires))\n",
    "        ListOmatrices = []\n",
    "        for g in inputGates:\n",
    "            if (g[0] == 'H'):\n",
    "                ListOmatrices.append(MA.Hadamard(int(g[1]), numberOfWires))\n",
    "            if (g[0] == 'P'):\n",
    "                ListOmatrices.append(MA.Phase(int(g[1]), numberOfWires, float(g[2])))\n",
    "            if (g[0] == 'CNOT'):\n",
    "                ListOmatrices.append(MA.CNOT(int(g[1]), int(g[2]), numberOfWires))\n",
    "            \n",
    "        TheMatrix = np.eye(2**numberOfWires)\n",
    "        ListOmatrices = ListOmatrices[::-1]\n",
    "        for m in ListOmatrices:\n",
    "            TheMatrix = TheMatrix @ m\n",
    "        return TheMatrix\n",
    "        \n",
    "            "
   ]
  },
  {
   "cell_type": "code",
   "execution_count": 277,
   "metadata": {},
   "outputs": [],
   "source": [
    "# Class for simulator M-b\n",
    "class MB:\n",
    "    H = 1/np.sqrt(2) * np.array([[1, 1], [1, -1]])\n",
    "    \n",
    "    def Hadamard(i, k, state):\n",
    "        \"\"\"creates a hadamard array\n",
    "        i: target wire\n",
    "        k: number of wires\"\"\"\n",
    "        arr = []\n",
    "        for j in range(k):\n",
    "            if j < i:\n",
    "                arr.append(np.eye(2))\n",
    "            if j == i:\n",
    "                arr.append(MA.H)\n",
    "            if j > i:\n",
    "                arr.append(np.eye(2))\n",
    "        return TensorMe(arr) @ state\n",
    "    def Phase(i, k, theta, state):\n",
    "        \"\"\"creates a phase matrix\n",
    "        i: target wire\n",
    "        k: number of wires\n",
    "        theta: the phase to rotate by\"\"\"\n",
    "        arr = []\n",
    "        for j in range(k):\n",
    "            if j < i:\n",
    "                arr.append(np.eye(2))\n",
    "            if j == i:\n",
    "                arr.append(np.array([[1, 0], [0, np.exp(1.j * theta)]]))\n",
    "            if j > i:\n",
    "                arr.append(np.eye(2))\n",
    "        return TensorMe(arr) @ state\n",
    "    def CNOT(controlwire, otherwire, totalwires, state):\n",
    "        \"\"\"creates a matrix for a CNOT gate\n",
    "        controlwire: the control wire\n",
    "        otherwire: the target wire (must be adjacent to control)\n",
    "        totalwires: yeah\"\"\"\n",
    "        if not((controlwire - 1 == otherwire) or (controlwire + 1 == otherwire)):\n",
    "            raise(ValueError(\"Controlwire and otherwire must be adjacent\"))\n",
    "        arr = []\n",
    "        hasntRun = True\n",
    "        j = 0\n",
    "        while j < totalwires:\n",
    "            if (j == controlwire or j == otherwire) and hasntRun:\n",
    "                t = np.eye(4)\n",
    "                if (controlwire < otherwire):\n",
    "                    t[:, [2, 3]] = t[:, [3, 2]] \n",
    "                else:\n",
    "                    t[:, [0, 1]] = t[:, [1, 0]]\n",
    "                arr.append(t)\n",
    "                j = j + 1\n",
    "                hasntRun = False\n",
    "            elif j < controlwire:\n",
    "                arr.append(np.eye(2))\n",
    "            elif j > otherwire:\n",
    "                arr.append(np.eye(2))\n",
    "            j = j + 1\n",
    "        return TensorMe(arr) @ state\n",
    "    \n",
    "    def ReadAndRunCircuit(input_lines, startstate):\n",
    "        numberOfWires, inputGates = ReadInputString(input_lines)\n",
    "        currentState = startstate\n",
    "        ListOmatrices = []\n",
    "        for g in inputGates:\n",
    "            if (g[0] == 'H'):\n",
    "                currentState = MB.Hadamard(int(g[1]), numberOfWires, currentState)\n",
    "            if (g[0] == 'P'):\n",
    "                currentState = MB.Phase(int(g[1]), numberOfWires, float(g[2]), currentState)\n",
    "            if (g[0] == 'CNOT'):\n",
    "                currentState = MB.CNOT(int(g[1]), int(g[2]), numberOfWires, currentState)\n",
    "            if (g[0] == 'MEASURE'):\n",
    "                print(currentState)\n",
    "                return S.measure(VecToDirac(list(currentState)))\n",
    "        return currentState"
   ]
  },
  {
   "cell_type": "code",
   "execution_count": 271,
   "metadata": {},
   "outputs": [],
   "source": [
    "# turn each nonatomic gate into a string of atomic gates\n",
    "def NOT(wire):\n",
    "    return f\"H {wire}\\nP {wire} {np.pi}\\nH {wire}\\n\"\n",
    "def Rz(wire, phase):\n",
    "    return f\"{NOT(wire)}P {wire} {-phase/2}\\n{NOT(wire)}P {wire} {phase/2}\\n\"\n",
    "def CRz(controlwire, targetwire, phase):\n",
    "    return f\"CNOT {controlwire} {targetwire}\\nP {targetwire} {phase/2}\\nCNOT {controlwire} {targetwire}\\nP {targetwire} {-phase/2}\\n\"\n",
    "def CPhase(controlwire, targetwire, phase):\n",
    "    return f\"P {targetwire} {phase/2}\\nCNOT {controlwire} {targetwire}\\nP {targetwire} {-phase/2}\\nCNOT {controlwire} {targetwire}\\nP {controlwire} {phase/2}\\n\"\n",
    "def Swap(firstwire, secondwire):\n",
    "    return f\"CNOT {firstwire} {secondwire}\\nCNOT {secondwire} {firstwire}\\nCNOT {firstwire} {secondwire}\\n\""
   ]
  },
  {
   "cell_type": "code",
   "execution_count": 278,
   "metadata": {},
   "outputs": [],
   "source": [
    "# Precompiler code\n",
    "def is_number(s): # stolen from stackoverflow: https://stackoverflow.com/questions/354038/how-do-i-check-if-a-string-represents-a-number-float-or-int\n",
    "    try:\n",
    "        float(s)\n",
    "        return True\n",
    "    except ValueError:\n",
    "        return False\n",
    "\n",
    "def Precompile(input):\n",
    "    input = input.split(\"\\n\")\n",
    "    output = \"\"\"\"\"\"\n",
    "    for i in input:\n",
    "        a = i.split(' ')\n",
    "        if (a[0] == \"H\" or a[0] == \"CNOT\" or a[0] == \"P\" or is_number(a[0]) or a[0] == \"MEASURE\" or a[0] == \"INITSTATE\"):\n",
    "            output += i\n",
    "            output += \"\\n\"\n",
    "        if (a[0] == \"NOT\"):\n",
    "            output += NOT(int(a[1]))\n",
    "        if (a[0] == \"RZ\"):\n",
    "            output += Rz(int(a[1]), float(a[2]))\n",
    "        if (a[0] == \"CRZ\"):\n",
    "            output += CRz(int(a[1]), int(a[2]), float(a[3]))\n",
    "        if (a[0] == \"CPHASE\"):\n",
    "            output += CPhase(int(a[1]), int(a[2]), float(a[3]))\n",
    "        if (a[0] == \"SWAP\"):\n",
    "            output += Swap(a[1], a[2])\n",
    "    return output\n",
    "        "
   ]
  },
  {
   "cell_type": "code",
   "execution_count": 27,
   "metadata": {},
   "outputs": [
    {
     "name": "stdout",
     "output_type": "stream",
     "text": [
      "0.31622776601683794j |101> + 0.7071067811865476 |000> + -0.6324555320336759 |010> \n",
      "0.7071067811865476 |0> + -0.6324555320336759 |2> + 0.31622776601683794j |5> \n",
      "0.7071067811865476 |000> + -0.6324555320336759 |010> + 0.31622776601683794j |101> \n",
      "0.7071067811865476 |0> + -0.6324555320336759 |2> + 0.31622776601683794j |5> \n",
      "0.7071067811865476 |000> + -0.6324555320336759 |010> + 0.31622776601683794j |101> \n"
     ]
    }
   ],
   "source": [
    "#early tests\n",
    "myState=[\n",
    "  (-np.sqrt(0.125), '11' ),\n",
    "  (np.sqrt(0.1), '00'),\n",
    "  (np.sqrt(0.4), '01') ,\n",
    "  (-np.sqrt(0.125), '11' )\n",
    "]\n",
    "myState2=[\n",
    "   (np.sqrt(0.1)*1.j, '101'),\n",
    "   (np.sqrt(0.5), '000') ,\n",
    "   (-np.sqrt(0.4), '010' )]\n",
    "myEquivilentState2 = [np.sqrt(0.5), 0, -np.sqrt(0.4), 0, 0, np.sqrt(0.1)*1.j, 0, 0]\n",
    "PrettyPrintBinary(myState2)\n",
    "PrettyPrintInteger(myEquivilentState2)\n",
    "PrettyPrintBinary(VecToDirac(myEquivilentState2))\n",
    "PrettyPrintInteger(DiracToVec(myState2))\n",
    "PrettyPrintBinary(VecToDirac(DiracToVec(myState2)))"
   ]
  },
  {
   "cell_type": "code",
   "execution_count": 284,
   "metadata": {},
   "outputs": [
    {
     "name": "stdout",
     "output_type": "stream",
     "text": [
      "0.9777+0.1478j |000>+ 0.0223-0.1478j |101>\n",
      "0.5000 |0000>+ 0.5000 |0011>+ 0.4502+0.2175j |1100>+ 0.4502+0.2175j |1111>\n",
      "0.1457+0.1135j |00000>+ -0.0002+0.0801j |00010>+ 0.0015-0.0365j |10000>+ -0.0821+0.0155j |10010>+ 0.0431-0.1218j |00001>+ 0.0504-0.0073j |00011>+ -0.0127+0.0055j |10001>+ 0.0160+0.0226j |10011>+ 0.0723-0.0226j |00100>+ 0.0539+0.0090j |00110>+ -0.1717+0.3669j |10100>+ -0.1469-0.0436j |10110>+ -0.0344-0.0422j |00101>+ 0.0018-0.0268j |00111>+ 0.2775+0.0423j |10101>+ 0.0074+0.1079j |10111>+ 0.1346-0.1256j |01000>+ 0.0107+0.0709j |01010>+ -0.4427-0.0892j |11000>+ -0.0548-0.2147j |11010>+ -0.1041-0.0676j |01001>+ 0.0315-0.0354j |01011>+ 0.0343+0.3180j |11001>+ -0.1210+0.0654j |11011>+ 0.0079+0.2979j |01100>+ -0.1131-0.0228j |01110>+ -0.1814-0.0780j |11100>+ -0.0578+0.0101j |11110>+ 0.1961-0.0584j |01101>+ 0.0257+0.0756j |01111>+ -0.0059+0.1270j |11101>+ -0.0118+0.0200j |11111>\n"
     ]
    }
   ],
   "source": [
    "# second set of early tests\n",
    "sampleInput = '''\n",
    "3\n",
    "H 1\n",
    "H 2\n",
    "P 2 0.3\n",
    "CNOT 2 1\n",
    "H 1\n",
    "H 2\n",
    "CNOT 2 0\n",
    "'''\n",
    "sampleInput2 = open('example.circuit').read()\n",
    "input3 = open('rand.circuit').read()\n",
    "numberOfWires,myInput=ReadInputString(sampleInput)\n",
    "PrettyPrintBinary(S.ReadAndProcessString(sampleInput))\n",
    "PrettyPrintBinary(S.ReadAndProcessString(sampleInput2))\n",
    "PrettyPrintBinary(S.ReadAndProcessString(input3))"
   ]
  },
  {
   "cell_type": "code",
   "execution_count": 282,
   "metadata": {},
   "outputs": [
    {
     "name": "stdout",
     "output_type": "stream",
     "text": [
      "1.0000 |1100>\n",
      "1.0000 |1000>\n"
     ]
    }
   ],
   "source": [
    "# more basic testing\n",
    "testState1 = list(np.zeros((16)))\n",
    "testState1[12] = 1.0\n",
    "ar = MA.CNOT(0, 1, 4)\n",
    "PrettyPrintBinary(VecToDirac(testState1))\n",
    "PrettyPrintBinary(VecToDirac(list(testState1@ar)))"
   ]
  },
  {
   "cell_type": "code",
   "execution_count": 283,
   "metadata": {},
   "outputs": [
    {
     "name": "stdout",
     "output_type": "stream",
     "text": [
      "1.0000 |100>\n",
      "0.6367+0.3076j |100>+ 0.6367+0.3076j |111>\n",
      "['100']\n"
     ]
    }
   ],
   "source": [
    "# testing strings\n",
    "testCircuit = '''3\n",
    "H 1\n",
    "CNOT 1 2\n",
    "P 0 0.45'''\n",
    "# print(MA.CreateCircutMatrix(testCircuit))\n",
    "startstate = [0, 0, 0, 0, 1, 0, 0, 0]\n",
    "PrettyPrintBinary(VecToDirac(startstate))\n",
    "c = MA.CreateCircutMatrix(testCircuit)\n",
    "d = MB.ReadAndRunCircuit(testCircuit, startstate)\n",
    "PrettyPrintBinary(VecToDirac(list(d)))\n",
    "print(S.measure(VecToDirac(list(d))))"
   ]
  },
  {
   "cell_type": "code",
   "execution_count": 285,
   "metadata": {},
   "outputs": [
    {
     "data": {
      "image/png": "[encoded data removed]",
      "text/plain": [
       "<Figure size 640x480 with 1 Axes>"
      ]
     },
     "metadata": {},
     "output_type": "display_data"
    }
   ],
   "source": [
    "# Running simulator S 1000 times on measure.circuit\n",
    "# x axis is in decimal notation\n",
    "measureInput = open('measure.circuit').read()\n",
    "count = []\n",
    "for i in range(32):\n",
    "    count.append(0)\n",
    "temp = S.ReadAndProcessString(measureInput, measures=1000)\n",
    "measured = [int(x, 2) for x in temp]\n",
    "# for i in range(1000):\n",
    "#     # count[int(S.ReadAndProcessString(measureInput), 2)] += 1\n",
    "#     measured.append(int(S.ReadAndProcessString(measureInput), 2))\n",
    "#     # print(int(S.ReadAndProcessString(measureInput), 2))\n",
    "_ = plt.hist(measured, bins=32)"
   ]
  },
  {
   "cell_type": "code",
   "execution_count": 286,
   "metadata": {},
   "outputs": [
    {
     "name": "stdout",
     "output_type": "stream",
     "text": [
      "0.1541-0.0390j |00000>+ -0.0213+0.0877j |00010>+ -0.1480+0.0875j |10000>+ 0.1169+0.0138j |10010>+ 0.0490-0.0300j |00001>+ -0.1116-0.2333j |00011>+ -0.0633+0.2566j |10001>+ -0.0267-0.0041j |10011>+ -0.0339-0.0097j |00100>+ -0.1959+0.0099j |00110>+ 0.2192-0.2130j |10100>+ -0.1479-0.1048j |10110>+ -0.0167-0.1303j |00101>+ -0.0980+0.0135j |00111>+ -0.0489-0.1164j |10101>+ 0.2232+0.0508j |10111>+ -0.1808+0.0144j |01000>+ 0.0010-0.0035j |01010>+ -0.1396-0.2372j |11000>+ -0.2632-0.0656j |11010>+ 0.0538-0.0686j |01001>+ -0.0215+0.0174j |01011>+ 0.1848-0.0051j |11001>+ 0.1752-0.0201j |11011>+ -0.0072+0.1596j |01100>+ -0.0379+0.0059j |01110>+ 0.1122+0.0012j |11100>+ -0.2083+0.0770j |11110>+ -0.2231+0.0746j |01101>+ 0.0739-0.0507j |01111>+ 0.0242-0.1245j |11101>+ 0.0548+0.3061j |11111>\n",
      "0.7071 |000>+ -0.7071 |001>\n"
     ]
    }
   ],
   "source": [
    "# testing advanced circuit descriptions\n",
    "inputTest = open('input.circuit').read()\n",
    "PrettyPrintBinary(S.ReadAndProcessString(inputTest))\n",
    "\n",
    "secondInputTest = '''\n",
    "3\n",
    "INITSTATE BASIS |001>\n",
    "H 2'''\n",
    "\n",
    "PrettyPrintBinary(S.ReadAndProcessString(secondInputTest))"
   ]
  },
  {
   "cell_type": "code",
   "execution_count": 287,
   "metadata": {},
   "outputs": [
    {
     "name": "stdout",
     "output_type": "stream",
     "text": [
      "1.0000-0.0000j |1>\n"
     ]
    }
   ],
   "source": [
    "# implementation of NOT gate\n",
    "NOTGate = '''\n",
    "1\n",
    "INITSTATE BASIS |0>\n",
    "H 0\n",
    "P 0 3.14159265\n",
    "H 0'''\n",
    "PrettyPrintBinary(S.ReadAndProcessString(NOTGate))"
   ]
  },
  {
   "cell_type": "code",
   "execution_count": 288,
   "metadata": {},
   "outputs": [
    {
     "name": "stdout",
     "output_type": "stream",
     "text": [
      "0.9211-0.3894j |0>\n"
     ]
    }
   ],
   "source": [
    "# Implementation of Rz(0.8)\n",
    "RzGate = '''\n",
    "1\n",
    "INITSTATE BASIS |0>\n",
    "H 0\n",
    "P 0 3.14159265\n",
    "H 0\n",
    "P 0 -0.4\n",
    "H 0\n",
    "P 0 3.14159265\n",
    "H 0\n",
    "P 0 0.4'''\n",
    "PrettyPrintBinary(S.ReadAndProcessString(RzGate))"
   ]
  },
  {
   "cell_type": "code",
   "execution_count": 289,
   "metadata": {},
   "outputs": [
    {
     "name": "stdout",
     "output_type": "stream",
     "text": [
      "0.9211+0.3894j |11>\n"
     ]
    }
   ],
   "source": [
    "# CRz gate with 0th wire as control and 1th wire as target\n",
    "CRzGate = '''\n",
    "2\n",
    "INITSTATE BASIS |11>\n",
    "CNOT 0 1\n",
    "P 1 -0.4\n",
    "CNOT 0 1\n",
    "P 1 0.4'''\n",
    "PrettyPrintBinary(S.ReadAndProcessString(CRzGate))"
   ]
  },
  {
   "cell_type": "code",
   "execution_count": 261,
   "metadata": {},
   "outputs": [
    {
     "name": "stdout",
     "output_type": "stream",
     "text": [
      "1.0000 |00>\n"
     ]
    }
   ],
   "source": [
    "# working Controlled phase gate that rotates by 0.8\n",
    "CPGate = '''\n",
    "2\n",
    "INITSTATE BASIS |00>\n",
    "P 1 0.4\n",
    "CNOT 0 1\n",
    "P 1 -0.4\n",
    "CNOT 0 1\n",
    "P 0 0.4\n",
    "'''\n",
    "PrettyPrintBinary(S.ReadAndProcessString(CPGate))"
   ]
  },
  {
   "cell_type": "code",
   "execution_count": 269,
   "metadata": {},
   "outputs": [
    {
     "name": "stdout",
     "output_type": "stream",
     "text": [
      "1.0000 |010>\n"
     ]
    }
   ],
   "source": [
    "# Swap gate\n",
    "SwapGate = '''\n",
    "3\n",
    "INITSTATE BASIS |010>\n",
    "CNOT 0 2\n",
    "CNOT 2 0\n",
    "CNOT 0 2\n",
    "'''\n",
    "PrettyPrintBinary(S.ReadAndProcessString(SwapGate))"
   ]
  },
  {
   "cell_type": "code",
   "execution_count": 290,
   "metadata": {},
   "outputs": [
    {
     "name": "stdout",
     "output_type": "stream",
     "text": [
      "9\n",
      "H 0\n",
      "P 5 0.15\n",
      "CNOT 0 5\n",
      "P 5 -0.15\n",
      "CNOT 0 5\n",
      "P 0 0.15\n",
      "P 1 0.3\n",
      "CNOT 4 7\n",
      "CNOT 2 8\n",
      "CNOT 8 2\n",
      "CNOT 2 8\n",
      "\n"
     ]
    }
   ],
   "source": [
    "# Testing the precompile step\n",
    "testPrecompile = '''\n",
    "9\n",
    "H 0\n",
    "CPHASE 0 5 0.3\n",
    "P 1 0.3\n",
    "CNOT 4 7\n",
    "SWAP 2 8'''\n",
    "print(Precompile(testPrecompile))"
   ]
  }
 ],
 "metadata": {
  "kernelspec": {
   "display_name": "Python 3",
   "language": "python",
   "name": "python3"
  },
  "language_info": {
   "codemirror_mode": {
    "name": "ipython",
    "version": 3
   },
   "file_extension": ".py",
   "mimetype": "text/x-python",
   "name": "python",
   "nbconvert_exporter": "python",
   "pygments_lexer": "ipython3",
   "version": "3.12.1"
  }
 },
 "nbformat": 4,
 "nbformat_minor": 2
}
