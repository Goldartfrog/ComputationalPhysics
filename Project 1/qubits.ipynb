{
 "cells": [
  {
   "cell_type": "code",
   "execution_count": 2,
   "metadata": {},
   "outputs": [],
   "source": [
    "import numpy as np"
   ]
  },
  {
   "cell_type": "code",
   "execution_count": 3,
   "metadata": {},
   "outputs": [
    {
     "ename": "IndentationError",
     "evalue": "expected an indented block after 'if' statement on line 21 (525198013.py, line 23)",
     "output_type": "error",
     "traceback": [
      "\u001b[1;36m  Cell \u001b[1;32mIn[3], line 23\u001b[1;36m\u001b[0m\n\u001b[1;33m    outstr += str(bin(s))[2:]\u001b[0m\n\u001b[1;37m    ^\u001b[0m\n\u001b[1;31mIndentationError\u001b[0m\u001b[1;31m:\u001b[0m expected an indented block after 'if' statement on line 21\n"
     ]
    }
   ],
   "source": [
    "def PrettyPrintBinary(state):\n",
    "    outstr = \"\"\n",
    "    if (type(state) == list and type(state[0]) == tuple):\n",
    "        for s in state:\n",
    "            outstr += (str)(s[0])\n",
    "            outstr += \"|\"\n",
    "            outstr += s[1]\n",
    "            outstr += \"> \"\n",
    "        print(outstr)\n",
    "    elif (type(state) == list and type(state[0]) == np.float64):\n",
    "        sto = 0\n",
    "        for s in range(len(state)):\n",
    "            if (len(bin(s)) > sto):\n",
    "                sto = len(bin(s))\n",
    "        print(sto)\n",
    "        for s in range(len(state)):\n",
    "            if(state[s] != 0):\n",
    "                outstr += str(state[s])\n",
    "                outstr += \"|\"\n",
    "                addstr = str(bin(s))[2:]\n",
    "                if (len(addstr) < sto - 2):\n",
    "                    \n",
    "                outstr += str(bin(s))[2:]\n",
    "                outstr += \"> \"\n",
    "        print(outstr)\n",
    "    else:\n",
    "        print(\"State is not valid\")\n",
    "def PrettyPrintInteger(state):\n",
    "    \n",
    "    print(\"TODO\")"
   ]
  },
  {
   "cell_type": "code",
   "execution_count": 31,
   "metadata": {},
   "outputs": [],
   "source": [
    "class qubit:\n",
    "    \n",
    "\n",
    "    def __init__(self, state):\n",
    "        \n",
    "        if (type(state) == list and type(state[0]) == np.float64):\n",
    "            self.__state = np.asarray(state)\n",
    "        elif (type(state) == list and type(state[0]) == tuple):\n",
    "            self.max = 0\n",
    "            for s in state:\n",
    "                if (int(s[1], 2) > self.max):\n",
    "                    self.max = int(s[1], 2)\n",
    "            self.max = self.max + 1\n",
    "            self.__state = np.zeros(self.max)\n",
    "            print(self.__state)\n",
    "            for s in state:\n",
    "                place = int(s[1], 2)\n",
    "                self.__state[place] = s[0]\n",
    "    \n",
    "    def PrettyPrintBinary(self):\n",
    "        outstr = \"\"\n",
    "        \n",
    "        l = len(bin(self.max))\n",
    "        print(l)\n",
    "        for s in range(len(self.__state)):\n",
    "            if(self.__state[s] != 0):\n",
    "                outstr += str(self.__state[s])\n",
    "                outstr += \"|\"\n",
    "                addstr = str(bin(s))[2:]\n",
    "                # if (len(addstr) < l - 2):\n",
    "                    \n",
    "                outstr += str(bin(s))[2:]\n",
    "                outstr += \"> \"\n",
    "        print(outstr)    \n",
    "\n",
    "    def myPrint(self):\n",
    "        print(self.__state)\n",
    "\n",
    "    \n"
   ]
  },
  {
   "cell_type": "code",
   "execution_count": 32,
   "metadata": {},
   "outputs": [
    {
     "name": "stdout",
     "output_type": "stream",
     "text": [
      "[0. 0. 0. 0. 0. 0.]\n",
      "[ 0.70710678  0.         -0.63245553  0.          0.          0.        ]\n",
      "5\n",
      "0.7071067811865476|0> -0.6324555320336759|10> \n"
     ]
    },
    {
     "name": "stderr",
     "output_type": "stream",
     "text": [
      "C:\\Users\\Aidan\\AppData\\Local\\Temp\\ipykernel_16852\\1607636143.py:18: ComplexWarning: Casting complex values to real discards the imaginary part\n",
      "  self.__state[place] = s[0]\n"
     ]
    }
   ],
   "source": [
    "myState2=[\n",
    "   (np.sqrt(0.1)*1.j, '101'),\n",
    "   (np.sqrt(0.5), '000') ,\n",
    "   (-np.sqrt(0.4), '010' )]\n",
    "myEquivilentState2 = [np.sqrt(0.5), 0, -np.sqrt(0.4), 0, 0, np.sqrt(0.1)*1.j, 0, 0]\n",
    "q = qubit(myState2)\n",
    "q.myPrint()\n",
    "q.PrettyPrintBinary()\n"
   ]
  },
  {
   "cell_type": "code",
   "execution_count": null,
   "metadata": {},
   "outputs": [],
   "source": []
  }
 ],
 "metadata": {
  "kernelspec": {
   "display_name": "Python 3",
   "language": "python",
   "name": "python3"
  },
  "language_info": {
   "codemirror_mode": {
    "name": "ipython",
    "version": 3
   },
   "file_extension": ".py",
   "mimetype": "text/x-python",
   "name": "python",
   "nbconvert_exporter": "python",
   "pygments_lexer": "ipython3",
   "version": "3.10.11"
  }
 },
 "nbformat": 4,
 "nbformat_minor": 2
}
