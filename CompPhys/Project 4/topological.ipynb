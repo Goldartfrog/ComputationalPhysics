{
 "cells": [
  {
   "cell_type": "code",
   "execution_count": 1,
   "metadata": {},
   "outputs": [],
   "source": [
    "import numpy as np\n"
   ]
  },
  {
   "cell_type": "code",
   "execution_count": 42,
   "metadata": {},
   "outputs": [],
   "source": [
    "class Lattice1D:\n",
    "    def __init__(self, N, a, offsets):\n",
    "        self.createLattice1d(N, a, offsets)\n",
    "        \n",
    "\n",
    "\n",
    "    def createLattice1d(self, N, a, offsets):\n",
    "        offsets = [offsets]\n",
    "        self.realLattice = np.array([a * n for n in range(N)])\n",
    "        temp = []\n",
    "        for i in range(N):\n",
    "            for j in range(len(offsets)):\n",
    "                temp.append(self.realLattice[i] + offsets[j])\n",
    "        self.lattice = temp\n",
    "        \n",
    "    def getRealLattice(self):\n",
    "        return self.realLattice\n",
    "    \n",
    "    def getlattice(self):\n",
    "        return self.lattice"
   ]
  },
  {
   "cell_type": "code",
   "execution_count": 43,
   "metadata": {},
   "outputs": [
    {
     "name": "stdout",
     "output_type": "stream",
     "text": [
      "[0 1 2]\n",
      "[array([0. , 0.8]), array([1. , 1.8]), array([2. , 2.8])]\n"
     ]
    }
   ],
   "source": [
    "lat = Lattice1D(3, 1, [0, 0.8])\n",
    "print(lat.getRealLattice())\n",
    "print(lat.getlattice())"
   ]
  },
  {
   "cell_type": "code",
   "execution_count": null,
   "metadata": {},
   "outputs": [],
   "source": []
  }
 ],
 "metadata": {
  "kernelspec": {
   "display_name": "Python 3",
   "language": "python",
   "name": "python3"
  },
  "language_info": {
   "codemirror_mode": {
    "name": "ipython",
    "version": 3
   },
   "file_extension": ".py",
   "mimetype": "text/x-python",
   "name": "python",
   "nbconvert_exporter": "python",
   "pygments_lexer": "ipython3",
   "version": "3.10.11"
  }
 },
 "nbformat": 4,
 "nbformat_minor": 2
}
