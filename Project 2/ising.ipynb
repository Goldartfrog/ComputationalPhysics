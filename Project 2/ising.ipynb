{
 "cells": [
  {
   "cell_type": "code",
   "execution_count": 2,
   "metadata": {},
   "outputs": [],
   "source": [
    "import numpy as np"
   ]
  },
  {
   "cell_type": "code",
   "execution_count": 3,
   "metadata": {},
   "outputs": [],
   "source": [
    "\n",
    "class Ising:\n",
    "    j = 1\n",
    "    def __init__(self, L, T) -> None:\n",
    "        self.rng = np.random.default_rng(seed=None)\n",
    "        self.mag = self.CreateMagnet(L)\n",
    "        self.L = L\n",
    "        self.T = T\n",
    "\n",
    "    def CreateMagnet(self, L):\n",
    "        mag = self.rng.choice([1, -1], (L, L))\n",
    "        \n",
    "        return mag\n",
    "    \n",
    "    def takeStep(self):\n",
    "        x = self.rng.integers(0, self.L)\n",
    "        y = self.rng.integers(0, self.L)\n",
    "        deltaE = self.checkEnergyChange(x, y)\n",
    "        r = self.rng.random()\n",
    "        if (r < np.exp(-deltaE/self.T)):\n",
    "            self.mag[x, y] *= -1\n",
    "        \n",
    "    def checkEnergyChange(self, x, y):\n",
    "        Ebefore = 0\n",
    "        # if they are both 1 or -1, then their product will be 1, but we want E to be negative\n",
    "        Ebefore += self.mag[x, y] * self.mag[x, (y+1) % self.L] * -self.j\n",
    "        Ebefore += self.mag[x, y] * self.mag[x, (y-1) % self.L] * -self.j\n",
    "        Ebefore += self.mag[x, y] * self.mag[(x+1) % self.L, y] * -self.j\n",
    "        Ebefore += self.mag[x, y] * self.mag[(x-1) % self.L, y] * -self.j\n",
    "        \n",
    "        Eafter = 0\n",
    "        Eafter += self.mag[x, y] * self.mag[x, (y+1) % self.L] * self.j\n",
    "        Eafter += self.mag[x, y] * self.mag[x, (y-1) % self.L] * self.j\n",
    "        Eafter += self.mag[x, y] * self.mag[(x+1) % self.L, y] * self.j\n",
    "        Eafter += self.mag[x, y] * self.mag[(x-1) % self.L, y] * self.j\n",
    "        \n",
    "        return Eafter - Ebefore\n",
    "    \n",
    "    def sweep(self):\n",
    "        for i in range(self.L * self.L):\n",
    "            self.takeStep()\n",
    "\n",
    "    def totalEnergy(self):\n",
    "        E = 0\n",
    "        \n",
    "        pass"
   ]
  },
  {
   "cell_type": "code",
   "execution_count": 5,
   "metadata": {},
   "outputs": [
    {
     "name": "stdout",
     "output_type": "stream",
     "text": [
      "[[-1  1 -1 -1  1  1 -1  1  1 -1]\n",
      " [ 1  1 -1  1  1 -1  1  1  1  1]\n",
      " [ 1 -1 -1 -1 -1 -1 -1  1  1  1]\n",
      " [-1 -1  1 -1 -1 -1 -1 -1  1  1]\n",
      " [-1 -1  1  1 -1  1  1 -1 -1 -1]\n",
      " [-1 -1 -1 -1 -1  1  1 -1 -1 -1]\n",
      " [ 1 -1 -1  1  1  1 -1  1  1 -1]\n",
      " [-1 -1  1 -1  1  1  1  1  1  1]\n",
      " [-1  1 -1 -1 -1  1  1 -1  1 -1]\n",
      " [ 1 -1  1  1 -1 -1  1 -1 -1  1]]\n",
      "[[-1 -1  1 -1 -1  1  1  1  1 -1]\n",
      " [-1 -1  1 -1 -1 -1 -1 -1 -1 -1]\n",
      " [-1 -1 -1 -1 -1 -1 -1 -1 -1 -1]\n",
      " [-1 -1 -1 -1 -1 -1 -1 -1 -1 -1]\n",
      " [-1 -1  1 -1 -1 -1 -1 -1 -1 -1]\n",
      " [ 1  1  1 -1 -1 -1 -1 -1 -1 -1]\n",
      " [ 1  1  1 -1 -1 -1 -1 -1 -1 -1]\n",
      " [ 1  1  1  1  1  1  1  1  1  1]\n",
      " [ 1  1  1  1  1  1  1  1  1  1]\n",
      " [ 1  1  1  1  1  1  1  1  1  1]]\n"
     ]
    }
   ],
   "source": [
    "myMag = Ising(10, 1)\n",
    "print(myMag.mag)\n",
    "for i in range(10):\n",
    "    myMag.sweep()\n",
    "print(myMag.mag)"
   ]
  },
  {
   "cell_type": "code",
   "execution_count": null,
   "metadata": {},
   "outputs": [],
   "source": []
  },
  {
   "cell_type": "code",
   "execution_count": null,
   "metadata": {},
   "outputs": [],
   "source": []
  }
 ],
 "metadata": {
  "kernelspec": {
   "display_name": "Python 3",
   "language": "python",
   "name": "python3"
  },
  "language_info": {
   "codemirror_mode": {
    "name": "ipython",
    "version": 3
   },
   "file_extension": ".py",
   "mimetype": "text/x-python",
   "name": "python",
   "nbconvert_exporter": "python",
   "pygments_lexer": "ipython3",
   "version": "3.10.11"
  }
 },
 "nbformat": 4,
 "nbformat_minor": 2
}
