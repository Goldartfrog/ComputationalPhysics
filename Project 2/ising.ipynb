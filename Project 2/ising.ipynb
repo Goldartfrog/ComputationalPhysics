{
 "cells": [
  {
   "cell_type": "code",
   "execution_count": 52,
   "metadata": {},
   "outputs": [],
   "source": [
    "import numpy as np\n",
    "from numba import njit\n",
    "from numba.experimental import jitclass\n",
    "from numba import int32, float32\n",
    "import matplotlib.pyplot as plt"
   ]
  },
  {
   "cell_type": "code",
   "execution_count": 2,
   "metadata": {},
   "outputs": [],
   "source": [
    "spec = [\n",
    "    ('L', int32),\n",
    "    ('mag', int32[:]),\n",
    "    ('T', float32),\n",
    "    ('j', int32)\n",
    "]\n",
    "rng = np.random.default_rng(seed=None)\n",
    "@jitclass(spec)\n",
    "class Ising:\n",
    "    # mag: np.ndarray\n",
    "    # L: int\n",
    "    # T: float\n",
    "    # j: int\n",
    "    # @njit\n",
    "    def __init__(self, L, T) -> None:\n",
    "        # self.rng = np.random.default_rng(seed=None)\n",
    "        self.mag = self.CreateMagnet(L)\n",
    "        self.L = L\n",
    "        self.T = T\n",
    "        self.j = 1\n",
    "\n",
    "    # @njit\n",
    "    def CreateMagnet(self, L):\n",
    "        mag = rng.choice([1, -1], (L, L), dtype=int32)\n",
    "        \n",
    "        return mag\n",
    "    \n",
    "    # @njit\n",
    "    def takeStep(self):\n",
    "        # can also loop through in order\n",
    "        x = rng.integers(0, self.L)\n",
    "        y = rng.integers(0, self.L)\n",
    "        deltaE = self.checkEnergyChange(x, y)\n",
    "        r = rng.random()\n",
    "        if (r < np.exp(-deltaE/self.T)):\n",
    "            self.mag[x, y] *= -1\n",
    "    \n",
    "    # @njit\n",
    "    def checkEnergyChange(self, x, y):\n",
    "        Ebefore = 0\n",
    "        # if they are both 1 or -1, then their product will be 1, but we want E to be negative\n",
    "        Ebefore += self.mag[x, y] * self.mag[x, (y+1) % self.L] * -self.j\n",
    "        Ebefore += self.mag[x, y] * self.mag[x, (y-1) % self.L] * -self.j\n",
    "        Ebefore += self.mag[x, y] * self.mag[(x+1) % self.L, y] * -self.j\n",
    "        Ebefore += self.mag[x, y] * self.mag[(x-1) % self.L, y] * -self.j\n",
    "        \n",
    "        Eafter = 0\n",
    "        Eafter += self.mag[x, y] * self.mag[x, (y+1) % self.L] * self.j\n",
    "        Eafter += self.mag[x, y] * self.mag[x, (y-1) % self.L] * self.j\n",
    "        Eafter += self.mag[x, y] * self.mag[(x+1) % self.L, y] * self.j\n",
    "        Eafter += self.mag[x, y] * self.mag[(x-1) % self.L, y] * self.j\n",
    "        \n",
    "        return Eafter - Ebefore\n",
    "    \n",
    "    # @njit\n",
    "    def sweep(self):\n",
    "        for i in range(self.L * self.L):\n",
    "            self.takeStep()\n",
    "\n",
    "    # @njit\n",
    "    def totalEnergy(self):\n",
    "        E = 0\n",
    "        for i in range(self.L):\n",
    "            for k in range(self.L):\n",
    "                E += self.mag[i, k] * self.mag[i, (k+1) % self.L] * -self.j\n",
    "                E += self.mag[i, k] * self.mag[(i+1) % self.L, k] * -self.j\n",
    "                \n",
    "        return E"
   ]
  },
  {
   "cell_type": "code",
   "execution_count": 83,
   "metadata": {},
   "outputs": [],
   "source": [
    "rng = np.random.default_rng(seed=None)\n",
    "def CreateMagnet(L):\n",
    "    mag = rng.choice([1, -1], (L, L))\n",
    "    return mag\n",
    "\n",
    "@njit\n",
    "def takeStep(mag, T):\n",
    "    # can also loop through in order\n",
    "    L, L2 = mag.shape\n",
    "    x = np.random.randint(0, L)\n",
    "    y = np.random.randint(0, L)\n",
    "    # x = rng.integers(0, L)\n",
    "    # y = rng.integers(0, L)\n",
    "    deltaE = checkEnergyChange(mag, x, y)\n",
    "    # r = rng.random()\n",
    "    r = np.random.randint(0, 10000) / 10000\n",
    "    if (r < np.exp(-deltaE/T)):\n",
    "        mag[x, y] *= -1\n",
    "@njit\n",
    "def checkEnergyChange(mag, x, y):\n",
    "    j = 1\n",
    "    L, L2 = mag.shape\n",
    "    Ebefore = 0\n",
    "    # if they are both 1 or -1, then their product will be 1, but we want E to be negative\n",
    "    Ebefore += mag[x, y] * mag[x, (y+1) % L] * -j\n",
    "    Ebefore += mag[x, y] * mag[x, (y-1) % L] * -j\n",
    "    Ebefore += mag[x, y] * mag[(x+1) % L, y] * -j\n",
    "    Ebefore += mag[x, y] * mag[(x-1) % L, y] * -j\n",
    "    \n",
    "    Eafter = 0\n",
    "    Eafter += mag[x, y] * mag[x, (y+1) % L] * j\n",
    "    Eafter += mag[x, y] * mag[x, (y-1) % L] * j\n",
    "    Eafter += mag[x, y] * mag[(x+1) % L, y] * j\n",
    "    Eafter += mag[x, y] * mag[(x-1) % L, y] * j\n",
    "    \n",
    "    return Eafter - Ebefore\n",
    "@njit\n",
    "def sweep(mag, T):\n",
    "    L, L2 = mag.shape\n",
    "    for i in range(L * L):\n",
    "        takeStep(mag, T)\n",
    "\n",
    "def totalEnergy(mag):\n",
    "    L, L2 = mag.shape\n",
    "    E = 0\n",
    "    j = 1\n",
    "    for i in range(L):\n",
    "        for k in range(L):\n",
    "            E += mag[i, k] * mag[i, (k+1) % L] * -j\n",
    "            E += mag[i, k] * mag[(i+1) % L, k] * -j\n",
    "            \n",
    "    return E\n",
    "\n",
    "def Renormalize(mag, window):\n",
    "    L = mag.shape[0]\n",
    "    if (L % window != 0):\n",
    "        raise ValueError()\n",
    "    targetL = int(L / window)\n",
    "    out = np.zeros((targetL, targetL))\n",
    "    for i in range(0, targetL):\n",
    "        for j in range(0, targetL):\n",
    "            small = mag[i * window: i * window + window, j * window: j * window + window]\n",
    "            print(sum(sum(small)))\n",
    "            su = sum(sum(small))\n",
    "            out[i, j] = su / abs(su)\n",
    "    small = mag[0:window, 0:window]\n",
    "    return out\n",
    "\n",
    "def ConvertToNumber(mag): # takes in a matrix and converts it to a binary number\n",
    "    ar = mag.flatten()\n",
    "    tot = 0\n",
    "    ar = (ar + 1) / 2\n",
    "    # print(ar)\n",
    "    ar = ar[::-1]\n",
    "    for a in range(len(ar)):\n",
    "        tot += 2 ** a * ar[a]\n",
    "    # print(tot)\n",
    "    return tot\n",
    "    \n"
   ]
  },
  {
   "cell_type": "code",
   "execution_count": 98,
   "metadata": {},
   "outputs": [
    {
     "name": "stdout",
     "output_type": "stream",
     "text": [
      "[[ 1  1 -1]\n",
      " [-1 -1  1]\n",
      " [-1  1 -1]]\n",
      "[[ 1  1 -1]\n",
      " [ 1  1  1]\n",
      " [ 1  1 -1]]\n"
     ]
    }
   ],
   "source": [
    "myMag = CreateMagnet(3)\n",
    "print(myMag)\n",
    "T = 1/0.3\n",
    "nums = []\n",
    "for i in range(10000):\n",
    "    sweep(myMag, T)\n",
    "    nums.append(ConvertToNumber(myMag))\n",
    "print(myMag)"
   ]
  },
  {
   "cell_type": "code",
   "execution_count": 113,
   "metadata": {},
   "outputs": [
    {
     "data": {
      "text/plain": [
       "[<matplotlib.lines.Line2D at 0x1960d449bd0>]"
      ]
     },
     "execution_count": 113,
     "metadata": {},
     "output_type": "execute_result"
    },
    {
     "data": {
      "image/png": "[encoded data removed]",
      "text/plain": [
       "<Figure size 640x480 with 1 Axes>"
      ]
     },
     "metadata": {},
     "output_type": "display_data"
    }
   ],
   "source": [
    "fig, ax = plt.subplots()\n",
    "h = np.histogram(nums, bins = 2**9, density=True)\n",
    "x = np.arange(0, 2**9)\n",
    "b = ax.errorbar(x, h[0], yerr=np.sqrt(h[0]), alpha = 0.5, ecolor=\"red\")\n",
    "out = []\n",
    "for i in range(2**9):\n",
    "    binlen = 9\n",
    "    bi = bin(i)[2:].zfill(binlen)\n",
    "    close = np.array(list(bi), dtype=int)\n",
    "    mag = (close.reshape(3, 3) * 2) - 1\n",
    "    E = totalEnergy(mag)\n",
    "    out.append(E)\n",
    "    # print(E)\n",
    "each = np.exp(-1 * np.array(out)/T)\n",
    "each = each / sum(each)\n",
    "# print(each)\n",
    "ax.plot(x, each, alpha=0.5)"
   ]
  },
  {
   "cell_type": "code",
   "execution_count": 86,
   "metadata": {},
   "outputs": [
    {
     "name": "stdout",
     "output_type": "stream",
     "text": [
      "[[-1 -1  1]\n",
      " [-1 -1  1]\n",
      " [ 1  1  1]]\n",
      "1\n",
      "[[1.]]\n"
     ]
    },
    {
     "data": {
      "text/plain": [
       "79.0"
      ]
     },
     "execution_count": 86,
     "metadata": {},
     "output_type": "execute_result"
    }
   ],
   "source": [
    "renormMag = CreateMagnet(3)\n",
    "print(renormMag)\n",
    "print(Renormalize(renormMag, 3))\n",
    "ConvertToNumber(renormMag)"
   ]
  },
  {
   "cell_type": "code",
   "execution_count": 87,
   "metadata": {},
   "outputs": [
    {
     "name": "stdout",
     "output_type": "stream",
     "text": [
      "[[1 2 3]\n",
      " [4 5 6]\n",
      " [7 8 9]]\n",
      "[1 2 3 4 5 6 7 8 9]\n",
      "[[1 2 3]\n",
      " [4 5 6]\n",
      " [7 8 9]]\n"
     ]
    }
   ],
   "source": [
    "tr = np.array([[1, 2, 3],\n",
    "               [4, 5, 6], \n",
    "               [7, 8, 9]])\n",
    "print(tr)\n",
    "print(tr.flatten())\n",
    "print(tr.flatten().reshape((3, -1)))"
   ]
  },
  {
   "cell_type": "code",
   "execution_count": 88,
   "metadata": {},
   "outputs": [
    {
     "name": "stdout",
     "output_type": "stream",
     "text": [
      "['h', 'e', 'l', 'l', 'o']\n"
     ]
    }
   ],
   "source": [
    "print(list(\"hello\"))"
   ]
  },
  {
   "cell_type": "code",
   "execution_count": null,
   "metadata": {},
   "outputs": [],
   "source": []
  },
  {
   "cell_type": "code",
   "execution_count": null,
   "metadata": {},
   "outputs": [],
   "source": []
  },
  {
   "cell_type": "code",
   "execution_count": null,
   "metadata": {},
   "outputs": [],
   "source": []
  }
 ],
 "metadata": {
  "kernelspec": {
   "display_name": "Python 3",
   "language": "python",
   "name": "python3"
  },
  "language_info": {
   "codemirror_mode": {
    "name": "ipython",
    "version": 3
   },
   "file_extension": ".py",
   "mimetype": "text/x-python",
   "name": "python",
   "nbconvert_exporter": "python",
   "pygments_lexer": "ipython3",
   "version": "3.10.11"
  }
 },
 "nbformat": 4,
 "nbformat_minor": 2
}
